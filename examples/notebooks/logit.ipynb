{
 "cells": [
  {
   "cell_type": "code",
   "execution_count": 1,
   "id": "92a3e68b-4ff2-4dc2-b399-aa3fe449fb5e",
   "metadata": {},
   "outputs": [],
   "source": [
    "# setup\n",
    "import pandas as pd\n",
    "# import statsmodels.formula.api as smf\n",
    "# import statsmodels.api as sm\n",
    "# import numpy as np\n",
    "# import matplotlib.pyplot as plt\n",
    "# import seaborn as sns\n",
    "import tprstats\n",
    "solar = pd.read_excel(\"../data/Solar_Data.xlsx\").dropna()"
   ]
  },
  {
   "cell_type": "code",
   "execution_count": 2,
   "id": "8f028554-c8df-4866-bd5a-be392961c6cb",
   "metadata": {},
   "outputs": [
    {
     "name": "stdout",
     "output_type": "stream",
     "text": [
      "Optimization terminated successfully.\n",
      "         Current function value: 0.102924\n",
      "         Iterations 9\n"
     ]
    },
    {
     "data": {
      "text/html": [
       "<table class=\"simpletable\">\n",
       "<caption>Logit Regression Results</caption>\n",
       "<tr>\n",
       "  <th>Dep. Variable:</th>         <td>Sale</td>       <th>  No. Observations:  </th>  <td>  1500</td>  \n",
       "</tr>\n",
       "<tr>\n",
       "  <th>Model:</th>                 <td>Logit</td>      <th>  Df Residuals:      </th>  <td>  1493</td>  \n",
       "</tr>\n",
       "<tr>\n",
       "  <th>Method:</th>                 <td>MLE</td>       <th>  Df Model:          </th>  <td>     6</td>  \n",
       "</tr>\n",
       "<tr>\n",
       "  <th>Date:</th>            <td>Tue, 26 Nov 2024</td> <th>  Pseudo R-squ.:     </th>  <td>0.2847</td>  \n",
       "</tr>\n",
       "<tr>\n",
       "  <th>Time:</th>                <td>16:46:35</td>     <th>  Log-Likelihood:    </th> <td> -154.39</td> \n",
       "</tr>\n",
       "<tr>\n",
       "  <th>converged:</th>             <td>True</td>       <th>  LL-Null:           </th> <td> -215.84</td> \n",
       "</tr>\n",
       "<tr>\n",
       "  <th>Covariance Type:</th>     <td>nonrobust</td>    <th>  LLR p-value:       </th> <td>3.993e-24</td>\n",
       "</tr>\n",
       "</table>\n",
       "<table class=\"simpletable\">\n",
       "<tr>\n",
       "        <td></td>          <th>coef</th>     <th>std err</th>      <th>z</th>      <th>P>|z|</th>  <th>[0.025</th>    <th>0.975]</th>  \n",
       "</tr>\n",
       "<tr>\n",
       "  <th>Intercept</th>    <td>  -12.7257</td> <td>    4.844</td> <td>   -2.627</td> <td> 0.009</td> <td>  -22.219</td> <td>   -3.233</td>\n",
       "</tr>\n",
       "<tr>\n",
       "  <th>AnnualSave</th>   <td>    4.0446</td> <td>    1.814</td> <td>    2.229</td> <td> 0.026</td> <td>    0.489</td> <td>    7.600</td>\n",
       "</tr>\n",
       "<tr>\n",
       "  <th>AnnualCost</th>   <td>   -4.1045</td> <td>    1.478</td> <td>   -2.777</td> <td> 0.005</td> <td>   -7.001</td> <td>   -1.208</td>\n",
       "</tr>\n",
       "<tr>\n",
       "  <th>ElecBill</th>     <td>   -0.0849</td> <td>    1.220</td> <td>   -0.070</td> <td> 0.945</td> <td>   -2.477</td> <td>    2.307</td>\n",
       "</tr>\n",
       "<tr>\n",
       "  <th>DrivesHybrid</th> <td>    0.9631</td> <td>    0.414</td> <td>    2.327</td> <td> 0.020</td> <td>    0.152</td> <td>    1.774</td>\n",
       "</tr>\n",
       "<tr>\n",
       "  <th>NearbySolar</th>  <td>    1.9434</td> <td>    0.398</td> <td>    4.881</td> <td> 0.000</td> <td>    1.163</td> <td>    2.724</td>\n",
       "</tr>\n",
       "<tr>\n",
       "  <th>HomeValue</th>    <td>    0.0178</td> <td>    0.008</td> <td>    2.187</td> <td> 0.029</td> <td>    0.002</td> <td>    0.034</td>\n",
       "</tr>\n",
       "</table>"
      ],
      "text/latex": [
       "\\begin{center}\n",
       "\\begin{tabular}{lclc}\n",
       "\\toprule\n",
       "\\textbf{Dep. Variable:}   &       Sale       & \\textbf{  No. Observations:  } &     1500    \\\\\n",
       "\\textbf{Model:}           &      Logit       & \\textbf{  Df Residuals:      } &     1493    \\\\\n",
       "\\textbf{Method:}          &       MLE        & \\textbf{  Df Model:          } &        6    \\\\\n",
       "\\textbf{Date:}            & Tue, 26 Nov 2024 & \\textbf{  Pseudo R-squ.:     } &   0.2847    \\\\\n",
       "\\textbf{Time:}            &     16:46:35     & \\textbf{  Log-Likelihood:    } &   -154.39   \\\\\n",
       "\\textbf{converged:}       &       True       & \\textbf{  LL-Null:           } &   -215.84   \\\\\n",
       "\\textbf{Covariance Type:} &    nonrobust     & \\textbf{  LLR p-value:       } & 3.993e-24   \\\\\n",
       "\\bottomrule\n",
       "\\end{tabular}\n",
       "\\begin{tabular}{lcccccc}\n",
       "                      & \\textbf{coef} & \\textbf{std err} & \\textbf{z} & \\textbf{P$> |$z$|$} & \\textbf{[0.025} & \\textbf{0.975]}  \\\\\n",
       "\\midrule\n",
       "\\textbf{Intercept}    &     -12.7257  &        4.844     &    -2.627  &         0.009        &      -22.219    &       -3.233     \\\\\n",
       "\\textbf{AnnualSave}   &       4.0446  &        1.814     &     2.229  &         0.026        &        0.489    &        7.600     \\\\\n",
       "\\textbf{AnnualCost}   &      -4.1045  &        1.478     &    -2.777  &         0.005        &       -7.001    &       -1.208     \\\\\n",
       "\\textbf{ElecBill}     &      -0.0849  &        1.220     &    -0.070  &         0.945        &       -2.477    &        2.307     \\\\\n",
       "\\textbf{DrivesHybrid} &       0.9631  &        0.414     &     2.327  &         0.020        &        0.152    &        1.774     \\\\\n",
       "\\textbf{NearbySolar}  &       1.9434  &        0.398     &     4.881  &         0.000        &        1.163    &        2.724     \\\\\n",
       "\\textbf{HomeValue}    &       0.0178  &        0.008     &     2.187  &         0.029        &        0.002    &        0.034     \\\\\n",
       "\\bottomrule\n",
       "\\end{tabular}\n",
       "%\\caption{Logit Regression Results}\n",
       "\\end{center}"
      ],
      "text/plain": [
       "<class 'statsmodels.iolib.summary.Summary'>\n",
       "\"\"\"\n",
       "                           Logit Regression Results                           \n",
       "==============================================================================\n",
       "Dep. Variable:                   Sale   No. Observations:                 1500\n",
       "Model:                          Logit   Df Residuals:                     1493\n",
       "Method:                           MLE   Df Model:                            6\n",
       "Date:                Tue, 26 Nov 2024   Pseudo R-squ.:                  0.2847\n",
       "Time:                        16:46:35   Log-Likelihood:                -154.39\n",
       "converged:                       True   LL-Null:                       -215.84\n",
       "Covariance Type:            nonrobust   LLR p-value:                 3.993e-24\n",
       "================================================================================\n",
       "                   coef    std err          z      P>|z|      [0.025      0.975]\n",
       "--------------------------------------------------------------------------------\n",
       "Intercept      -12.7257      4.844     -2.627      0.009     -22.219      -3.233\n",
       "AnnualSave       4.0446      1.814      2.229      0.026       0.489       7.600\n",
       "AnnualCost      -4.1045      1.478     -2.777      0.005      -7.001      -1.208\n",
       "ElecBill        -0.0849      1.220     -0.070      0.945      -2.477       2.307\n",
       "DrivesHybrid     0.9631      0.414      2.327      0.020       0.152       1.774\n",
       "NearbySolar      1.9434      0.398      4.881      0.000       1.163       2.724\n",
       "HomeValue        0.0178      0.008      2.187      0.029       0.002       0.034\n",
       "================================================================================\n",
       "\"\"\""
      ]
     },
     "execution_count": 2,
     "metadata": {},
     "output_type": "execute_result"
    }
   ],
   "source": [
    "solar_logit=tprstats.model(\"logit\",formula=\"Sale~AnnualSave+AnnualCost+ElecBill+DrivesHybrid+NearbySolar+HomeValue\",data=solar)\n",
    "solar_logit.summary()"
   ]
  },
  {
   "cell_type": "code",
   "execution_count": 3,
   "id": "52edee46-b9d5-4029-93f5-43e65e603e3c",
   "metadata": {
    "scrolled": true
   },
   "outputs": [
    {
     "data": {
      "text/plain": [
       "array([0.01619692, 0.00431043, 0.02329993, ..., 0.14787678, 0.00774329,\n",
       "       0.02647076])"
      ]
     },
     "execution_count": 3,
     "metadata": {},
     "output_type": "execute_result"
    }
   ],
   "source": [
    "solar_logit.predict()"
   ]
  },
  {
   "cell_type": "code",
   "execution_count": 4,
   "id": "f3bded28-3061-4c24-868d-c2ac563cdc60",
   "metadata": {},
   "outputs": [
    {
     "data": {
      "text/plain": [
       "array([[1175.,  276.],\n",
       "       [   6.,   43.]])"
      ]
     },
     "execution_count": 4,
     "metadata": {},
     "output_type": "execute_result"
    }
   ],
   "source": [
    "solar_classification_table = solar_logit.classification_table()\n",
    "solar_classification_table\n"
   ]
  }
 ],
 "metadata": {
  "kernelspec": {
   "display_name": "default",
   "language": "python",
   "name": "python3"
  },
  "language_info": {
   "codemirror_mode": {
    "name": "ipython",
    "version": 3
   },
   "file_extension": ".py",
   "mimetype": "text/x-python",
   "name": "python",
   "nbconvert_exporter": "python",
   "pygments_lexer": "ipython3",
   "version": "3.12.7"
  }
 },
 "nbformat": 4,
 "nbformat_minor": 5
}
