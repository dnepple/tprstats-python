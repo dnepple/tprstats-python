{
 "cells": [
  {
   "cell_type": "code",
   "execution_count": 1,
   "id": "92a3e68b-4ff2-4dc2-b399-aa3fe449fb5e",
   "metadata": {},
   "outputs": [],
   "source": [
    "# setup\n",
    "import pandas as pd\n",
    "# import statsmodels.formula.api as smf\n",
    "# import statsmodels.api as sm\n",
    "# import numpy as np\n",
    "# import matplotlib.pyplot as plt\n",
    "# import seaborn as sns\n",
    "import tprstats\n",
    "solar = pd.read_excel(\"../data/Solar_Data.xlsx\").dropna()"
   ]
  },
  {
   "cell_type": "code",
   "execution_count": 6,
   "id": "8f028554-c8df-4866-bd5a-be392961c6cb",
   "metadata": {},
   "outputs": [
    {
     "name": "stdout",
     "output_type": "stream",
     "text": [
      "Optimization terminated successfully.\n",
      "         Current function value: 0.102926\n",
      "         Iterations 9\n"
     ]
    },
    {
     "data": {
      "text/html": [
       "<table class=\"simpletable\">\n",
       "<caption>Logit Regression Results</caption>\n",
       "<tr>\n",
       "  <th>Dep. Variable:</th>         <td>Sale</td>       <th>  No. Observations:  </th>  <td>  1500</td>  \n",
       "</tr>\n",
       "<tr>\n",
       "  <th>Model:</th>                 <td>Logit</td>      <th>  Df Residuals:      </th>  <td>  1494</td>  \n",
       "</tr>\n",
       "<tr>\n",
       "  <th>Method:</th>                 <td>MLE</td>       <th>  Df Model:          </th>  <td>     5</td>  \n",
       "</tr>\n",
       "<tr>\n",
       "  <th>Date:</th>            <td>Tue, 26 Nov 2024</td> <th>  Pseudo R-squ.:     </th>  <td>0.2847</td>  \n",
       "</tr>\n",
       "<tr>\n",
       "  <th>Time:</th>                <td>17:18:48</td>     <th>  Log-Likelihood:    </th> <td> -154.39</td> \n",
       "</tr>\n",
       "<tr>\n",
       "  <th>converged:</th>             <td>True</td>       <th>  LL-Null:           </th> <td> -215.84</td> \n",
       "</tr>\n",
       "<tr>\n",
       "  <th>Covariance Type:</th>     <td>nonrobust</td>    <th>  LLR p-value:       </th> <td>7.619e-25</td>\n",
       "</tr>\n",
       "</table>\n",
       "<table class=\"simpletable\">\n",
       "<tr>\n",
       "        <td></td>          <th>coef</th>     <th>std err</th>      <th>z</th>      <th>P>|z|</th>  <th>[0.025</th>    <th>0.975]</th>  \n",
       "</tr>\n",
       "<tr>\n",
       "  <th>Intercept</th>    <td>  -12.7445</td> <td>    4.837</td> <td>   -2.635</td> <td> 0.008</td> <td>  -22.224</td> <td>   -3.265</td>\n",
       "</tr>\n",
       "<tr>\n",
       "  <th>AnnualSave</th>   <td>    3.9268</td> <td>    0.649</td> <td>    6.048</td> <td> 0.000</td> <td>    2.654</td> <td>    5.199</td>\n",
       "</tr>\n",
       "<tr>\n",
       "  <th>AnnualCost</th>   <td>   -4.0989</td> <td>    1.475</td> <td>   -2.778</td> <td> 0.005</td> <td>   -6.990</td> <td>   -1.207</td>\n",
       "</tr>\n",
       "<tr>\n",
       "  <th>DrivesHybrid</th> <td>    0.9644</td> <td>    0.413</td> <td>    2.333</td> <td> 0.020</td> <td>    0.154</td> <td>    1.775</td>\n",
       "</tr>\n",
       "<tr>\n",
       "  <th>NearbySolar</th>  <td>    1.9421</td> <td>    0.398</td> <td>    4.884</td> <td> 0.000</td> <td>    1.163</td> <td>    2.722</td>\n",
       "</tr>\n",
       "<tr>\n",
       "  <th>HomeValue</th>    <td>    0.0178</td> <td>    0.008</td> <td>    2.192</td> <td> 0.028</td> <td>    0.002</td> <td>    0.034</td>\n",
       "</tr>\n",
       "</table>"
      ],
      "text/latex": [
       "\\begin{center}\n",
       "\\begin{tabular}{lclc}\n",
       "\\toprule\n",
       "\\textbf{Dep. Variable:}   &       Sale       & \\textbf{  No. Observations:  } &     1500    \\\\\n",
       "\\textbf{Model:}           &      Logit       & \\textbf{  Df Residuals:      } &     1494    \\\\\n",
       "\\textbf{Method:}          &       MLE        & \\textbf{  Df Model:          } &        5    \\\\\n",
       "\\textbf{Date:}            & Tue, 26 Nov 2024 & \\textbf{  Pseudo R-squ.:     } &   0.2847    \\\\\n",
       "\\textbf{Time:}            &     17:18:48     & \\textbf{  Log-Likelihood:    } &   -154.39   \\\\\n",
       "\\textbf{converged:}       &       True       & \\textbf{  LL-Null:           } &   -215.84   \\\\\n",
       "\\textbf{Covariance Type:} &    nonrobust     & \\textbf{  LLR p-value:       } & 7.619e-25   \\\\\n",
       "\\bottomrule\n",
       "\\end{tabular}\n",
       "\\begin{tabular}{lcccccc}\n",
       "                      & \\textbf{coef} & \\textbf{std err} & \\textbf{z} & \\textbf{P$> |$z$|$} & \\textbf{[0.025} & \\textbf{0.975]}  \\\\\n",
       "\\midrule\n",
       "\\textbf{Intercept}    &     -12.7445  &        4.837     &    -2.635  &         0.008        &      -22.224    &       -3.265     \\\\\n",
       "\\textbf{AnnualSave}   &       3.9268  &        0.649     &     6.048  &         0.000        &        2.654    &        5.199     \\\\\n",
       "\\textbf{AnnualCost}   &      -4.0989  &        1.475     &    -2.778  &         0.005        &       -6.990    &       -1.207     \\\\\n",
       "\\textbf{DrivesHybrid} &       0.9644  &        0.413     &     2.333  &         0.020        &        0.154    &        1.775     \\\\\n",
       "\\textbf{NearbySolar}  &       1.9421  &        0.398     &     4.884  &         0.000        &        1.163    &        2.722     \\\\\n",
       "\\textbf{HomeValue}    &       0.0178  &        0.008     &     2.192  &         0.028        &        0.002    &        0.034     \\\\\n",
       "\\bottomrule\n",
       "\\end{tabular}\n",
       "%\\caption{Logit Regression Results}\n",
       "\\end{center}"
      ],
      "text/plain": [
       "<class 'statsmodels.iolib.summary.Summary'>\n",
       "\"\"\"\n",
       "                           Logit Regression Results                           \n",
       "==============================================================================\n",
       "Dep. Variable:                   Sale   No. Observations:                 1500\n",
       "Model:                          Logit   Df Residuals:                     1494\n",
       "Method:                           MLE   Df Model:                            5\n",
       "Date:                Tue, 26 Nov 2024   Pseudo R-squ.:                  0.2847\n",
       "Time:                        17:18:48   Log-Likelihood:                -154.39\n",
       "converged:                       True   LL-Null:                       -215.84\n",
       "Covariance Type:            nonrobust   LLR p-value:                 7.619e-25\n",
       "================================================================================\n",
       "                   coef    std err          z      P>|z|      [0.025      0.975]\n",
       "--------------------------------------------------------------------------------\n",
       "Intercept      -12.7445      4.837     -2.635      0.008     -22.224      -3.265\n",
       "AnnualSave       3.9268      0.649      6.048      0.000       2.654       5.199\n",
       "AnnualCost      -4.0989      1.475     -2.778      0.005      -6.990      -1.207\n",
       "DrivesHybrid     0.9644      0.413      2.333      0.020       0.154       1.775\n",
       "NearbySolar      1.9421      0.398      4.884      0.000       1.163       2.722\n",
       "HomeValue        0.0178      0.008      2.192      0.028       0.002       0.034\n",
       "================================================================================\n",
       "\"\"\""
      ]
     },
     "execution_count": 6,
     "metadata": {},
     "output_type": "execute_result"
    }
   ],
   "source": [
    "solar_logit=tprstats.model(\"logit\",formula=\"Sale~AnnualSave+AnnualCost+DrivesHybrid+NearbySolar+HomeValue\",data=solar)\n",
    "solar_logit.summary()"
   ]
  },
  {
   "cell_type": "code",
   "execution_count": 7,
   "id": "52edee46-b9d5-4029-93f5-43e65e603e3c",
   "metadata": {
    "scrolled": true
   },
   "outputs": [
    {
     "data": {
      "text/plain": [
       "array([0.01617376, 0.00438152, 0.02321191, ..., 0.1497396 , 0.0078212 ,\n",
       "       0.02681689])"
      ]
     },
     "execution_count": 7,
     "metadata": {},
     "output_type": "execute_result"
    }
   ],
   "source": [
    "solar_logit.predict()"
   ]
  },
  {
   "cell_type": "code",
   "execution_count": null,
   "id": "f3bded28-3061-4c24-868d-c2ac563cdc60",
   "metadata": {},
   "outputs": [
    {
     "name": "stdout",
     "output_type": "stream",
     "text": [
      "[1176.0, 275.0, 6.0, 43.0]\n"
     ]
    },
    {
     "data": {
      "text/html": [
       "<div>\n",
       "<style scoped>\n",
       "    .dataframe tbody tr th:only-of-type {\n",
       "        vertical-align: middle;\n",
       "    }\n",
       "\n",
       "    .dataframe tbody tr th {\n",
       "        vertical-align: top;\n",
       "    }\n",
       "\n",
       "    .dataframe thead th {\n",
       "        text-align: right;\n",
       "    }\n",
       "</style>\n",
       "<table border=\"1\" class=\"dataframe\">\n",
       "  <thead>\n",
       "    <tr style=\"text-align: right;\">\n",
       "      <th></th>\n",
       "      <th>Summary</th>\n",
       "      <th>Actual</th>\n",
       "      <th>Predicted</th>\n",
       "      <th>Frequency</th>\n",
       "    </tr>\n",
       "  </thead>\n",
       "  <tbody>\n",
       "    <tr>\n",
       "      <th>0</th>\n",
       "      <td>Correct</td>\n",
       "      <td>0</td>\n",
       "      <td>0</td>\n",
       "      <td>1176.0</td>\n",
       "    </tr>\n",
       "    <tr>\n",
       "      <th>1</th>\n",
       "      <td>Incorrect</td>\n",
       "      <td>0</td>\n",
       "      <td>1</td>\n",
       "      <td>275.0</td>\n",
       "    </tr>\n",
       "    <tr>\n",
       "      <th>2</th>\n",
       "      <td>Incorrect</td>\n",
       "      <td>1</td>\n",
       "      <td>0</td>\n",
       "      <td>6.0</td>\n",
       "    </tr>\n",
       "    <tr>\n",
       "      <th>3</th>\n",
       "      <td>Correct</td>\n",
       "      <td>1</td>\n",
       "      <td>1</td>\n",
       "      <td>43.0</td>\n",
       "    </tr>\n",
       "  </tbody>\n",
       "</table>\n",
       "</div>"
      ],
      "text/plain": [
       "     Summary  Actual  Predicted  Frequency\n",
       "0    Correct       0          0     1176.0\n",
       "1  Incorrect       0          1      275.0\n",
       "2  Incorrect       1          0        6.0\n",
       "3    Correct       1          1       43.0"
      ]
     },
     "execution_count": 9,
     "metadata": {},
     "output_type": "execute_result"
    }
   ],
   "source": [
    "solar_classification_table = solar_logit.classification_table()\n",
    "solar_classification_table"
   ]
  },
  {
   "cell_type": "code",
   "execution_count": 18,
   "id": "2bce2f42",
   "metadata": {},
   "outputs": [
    {
     "name": "stdout",
     "output_type": "stream",
     "text": [
      "We create three homes: \n",
      "   AnnualSave  AnnualCost  DrivesHybrid  NearbySolar  HomeValue\n",
      "0         2.5         1.8             1            0        550\n",
      "1         1.9         1.5             0            1        675\n",
      "2         2.3         1.7             0            0        495\n",
      "Predicted Probabilities of purchase for the three homes are: \n",
      "0    0.613822\n",
      "1    0.927109\n",
      "2    0.135068\n",
      "dtype: float64\n"
     ]
    }
   ],
   "source": [
    "\n",
    "X_out_of_sample = pd.DataFrame({\n",
    "    \"AnnualSave\": [2.5, 1.9, 2.3],\n",
    "    \"AnnualCost\": [1.8, 1.5, 1.7],\n",
    "    \"DrivesHybrid\": [1,0,0],\n",
    "    \"NearbySolar\": [0, 1, 0],\n",
    "    \"HomeValue\": [550, 675, 495]\n",
    "})\n",
    "print(\"We create three homes: \")\n",
    "print(X_out_of_sample)\n",
    "print(\"Predicted Probabilities of purchase for the three homes are: \")\n",
    "print(solar_logit.predict(X_out_of_sample))"
   ]
  },
  {
   "cell_type": "code",
   "execution_count": null,
   "id": "7c274f63",
   "metadata": {},
   "outputs": [],
   "source": []
  }
 ],
 "metadata": {
  "kernelspec": {
   "display_name": "default",
   "language": "python",
   "name": "python3"
  },
  "language_info": {
   "codemirror_mode": {
    "name": "ipython",
    "version": 3
   },
   "file_extension": ".py",
   "mimetype": "text/x-python",
   "name": "python",
   "nbconvert_exporter": "python",
   "pygments_lexer": "ipython3",
   "version": "3.12.7"
  }
 },
 "nbformat": 4,
 "nbformat_minor": 5
}
