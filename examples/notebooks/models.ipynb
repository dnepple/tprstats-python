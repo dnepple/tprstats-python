{
 "cells": [
  {
   "cell_type": "code",
   "execution_count": 1,
   "metadata": {},
   "outputs": [],
   "source": [
    "# setup\n",
    "import pandas as pd\n",
    "# import statsmodels.formula.api as smf\n",
    "# import statsmodels.api as sm\n",
    "# import numpy as np\n",
    "# import matplotlib.pyplot as plt\n",
    "# import seaborn as sns\n",
    "import tprstats\n",
    "diamonds_211 = pd.read_excel(\"../data/Diamonds_211.xlsx\").dropna()\n",
    "coffee_data = pd.read_excel(\"../data/Coffee_Data.xlsx\").dropna()"
   ]
  },
  {
   "cell_type": "code",
   "execution_count": 2,
   "metadata": {},
   "outputs": [
    {
     "data": {
      "text/html": [
       "<table class=\"simpletable\">\n",
       "<caption>OLS Regression Results</caption>\n",
       "<tr>\n",
       "  <th>Dep. Variable:</th>     <td>Price</td> <th>  R-squared:         </th> <td>   0.968</td> \n",
       "</tr>\n",
       "<tr>\n",
       "  <th>Model:</th>              <td>OLS</td>  <th>  Adj. R-squared:    </th> <td>   0.967</td> \n",
       "</tr>\n",
       "<tr>\n",
       "  <th>No. Observations:</th> <td>   211</td> <th>  F-statistic:       </th> <td>   765.0</td> \n",
       "</tr>\n",
       "<tr>\n",
       "  <th>Covariance Type:</th>    <td>HC1</td>  <th>  Prob (F-statistic):</th> <td>6.99e-137</td>\n",
       "</tr>\n",
       "</table>\n",
       "<table class=\"simpletable\">\n",
       "<tr>\n",
       "         <td></td>            <th>coef</th>     <th>std err</th>      <th>t</th>      <th>P>|t|</th>  <th>[0.025</th>    <th>0.975]</th>  \n",
       "</tr>\n",
       "<tr>\n",
       "  <th>Intercept</th>       <td>-1.241e+04</td> <td>  699.105</td> <td>  -17.754</td> <td> 0.000</td> <td>-1.38e+04</td> <td> -1.1e+04</td>\n",
       "</tr>\n",
       "<tr>\n",
       "  <th>C(Clarity)[T.3]</th> <td> 4254.2767</td> <td>  454.654</td> <td>    9.357</td> <td> 0.000</td> <td> 3357.853</td> <td> 5150.701</td>\n",
       "</tr>\n",
       "<tr>\n",
       "  <th>C(Clarity)[T.4]</th> <td> 5942.2429</td> <td>  475.430</td> <td>   12.499</td> <td> 0.000</td> <td> 5004.856</td> <td> 6879.630</td>\n",
       "</tr>\n",
       "<tr>\n",
       "  <th>C(Clarity)[T.5]</th> <td> 7089.8345</td> <td>  535.164</td> <td>   13.248</td> <td> 0.000</td> <td> 6034.672</td> <td> 8144.997</td>\n",
       "</tr>\n",
       "<tr>\n",
       "  <th>C(Clarity)[T.6]</th> <td> 7688.9068</td> <td>  806.822</td> <td>    9.530</td> <td> 0.000</td> <td> 6098.128</td> <td> 9279.686</td>\n",
       "</tr>\n",
       "<tr>\n",
       "  <th>C(Clarity)[T.8]</th> <td> 9160.7157</td> <td>  616.563</td> <td>   14.858</td> <td> 0.000</td> <td> 7945.063</td> <td> 1.04e+04</td>\n",
       "</tr>\n",
       "<tr>\n",
       "  <th>Carat</th>           <td> 1.235e+04</td> <td>  271.137</td> <td>   45.557</td> <td> 0.000</td> <td> 1.18e+04</td> <td> 1.29e+04</td>\n",
       "</tr>\n",
       "</table><br/><br/>Notes:<br/>[1] Standard Errors are heteroscedasticity robust (HC1)"
      ],
      "text/latex": [
       "\\begin{center}\n",
       "\\begin{tabular}{lclc}\n",
       "\\toprule\n",
       "\\textbf{Dep. Variable:}    &     Price     & \\textbf{  R-squared:         } &     0.968   \\\\\n",
       "\\textbf{Model:}            &      OLS      & \\textbf{  Adj. R-squared:    } &     0.967   \\\\\n",
       "\\textbf{No. Observations:} &        211    & \\textbf{  F-statistic:       } &     765.0   \\\\\n",
       "\\textbf{Covariance Type:}  &      HC1      & \\textbf{  Prob (F-statistic):} & 6.99e-137   \\\\\n",
       "\\bottomrule\n",
       "\\end{tabular}\n",
       "\\begin{tabular}{lcccccc}\n",
       "                         & \\textbf{coef} & \\textbf{std err} & \\textbf{t} & \\textbf{P$> |$t$|$} & \\textbf{[0.025} & \\textbf{0.975]}  \\\\\n",
       "\\midrule\n",
       "\\textbf{Intercept}       &   -1.241e+04  &      699.105     &   -17.754  &         0.000        &    -1.38e+04    &     -1.1e+04     \\\\\n",
       "\\textbf{C(Clarity)[T.3]} &    4254.2767  &      454.654     &     9.357  &         0.000        &     3357.853    &     5150.701     \\\\\n",
       "\\textbf{C(Clarity)[T.4]} &    5942.2429  &      475.430     &    12.499  &         0.000        &     5004.856    &     6879.630     \\\\\n",
       "\\textbf{C(Clarity)[T.5]} &    7089.8345  &      535.164     &    13.248  &         0.000        &     6034.672    &     8144.997     \\\\\n",
       "\\textbf{C(Clarity)[T.6]} &    7688.9068  &      806.822     &     9.530  &         0.000        &     6098.128    &     9279.686     \\\\\n",
       "\\textbf{C(Clarity)[T.8]} &    9160.7157  &      616.563     &    14.858  &         0.000        &     7945.063    &     1.04e+04     \\\\\n",
       "\\textbf{Carat}           &    1.235e+04  &      271.137     &    45.557  &         0.000        &     1.18e+04    &     1.29e+04     \\\\\n",
       "\\bottomrule\n",
       "\\end{tabular}\n",
       "%\\caption{OLS Regression Results}\n",
       "\\end{center}\n",
       "\n",
       "Notes: \\newline\n",
       " [1] Standard Errors are heteroscedasticity robust (HC1)"
      ],
      "text/plain": [
       "<class 'statsmodels.iolib.summary.Summary'>\n",
       "\"\"\"\n",
       "                            OLS Regression Results                            \n",
       "==============================================================================\n",
       "Dep. Variable:                  Price   R-squared:                       0.968\n",
       "Model:                            OLS   Adj. R-squared:                  0.967\n",
       "No. Observations:                 211   F-statistic:                     765.0\n",
       "Covariance Type:                  HC1   Prob (F-statistic):          6.99e-137\n",
       "===================================================================================\n",
       "                      coef    std err          t      P>|t|      [0.025      0.975]\n",
       "-----------------------------------------------------------------------------------\n",
       "Intercept       -1.241e+04    699.105    -17.754      0.000   -1.38e+04    -1.1e+04\n",
       "C(Clarity)[T.3]  4254.2767    454.654      9.357      0.000    3357.853    5150.701\n",
       "C(Clarity)[T.4]  5942.2429    475.430     12.499      0.000    5004.856    6879.630\n",
       "C(Clarity)[T.5]  7089.8345    535.164     13.248      0.000    6034.672    8144.997\n",
       "C(Clarity)[T.6]  7688.9068    806.822      9.530      0.000    6098.128    9279.686\n",
       "C(Clarity)[T.8]  9160.7157    616.563     14.858      0.000    7945.063    1.04e+04\n",
       "Carat            1.235e+04    271.137     45.557      0.000    1.18e+04    1.29e+04\n",
       "===================================================================================\n",
       "\n",
       "Notes:\n",
       "[1] Standard Errors are heteroscedasticity robust (HC1)\n",
       "\"\"\""
      ]
     },
     "execution_count": 2,
     "metadata": {},
     "output_type": "execute_result"
    }
   ],
   "source": [
    "model_cs_lm = tprstats.model(name = \"cs\", formula='Price ~ Carat + C(Clarity)', data=diamonds_211)\n",
    "model_cs_lm.summary()"
   ]
  },
  {
   "cell_type": "code",
   "execution_count": 3,
   "metadata": {},
   "outputs": [
    {
     "data": {
      "text/html": [
       "<table class=\"simpletable\">\n",
       "<caption>OLS Regression Results</caption>\n",
       "<tr>\n",
       "  <th>Dep. Variable:</th>     <td>cons</td>  <th>  R-squared:         </th> <td>   0.956</td>\n",
       "</tr>\n",
       "<tr>\n",
       "  <th>Model:</th>              <td>OLS</td>  <th>  Adj. R-squared:    </th> <td>   0.953</td>\n",
       "</tr>\n",
       "<tr>\n",
       "  <th>No. Observations:</th> <td>    61</td> <th>  F-statistic:       </th> <td>   287.1</td>\n",
       "</tr>\n",
       "<tr>\n",
       "  <th>Covariance Type:</th>    <td>HAC</td>  <th>  Prob (F-statistic):</th> <td>2.33e-34</td>\n",
       "</tr>\n",
       "</table>\n",
       "<table class=\"simpletable\">\n",
       "<tr>\n",
       "      <td></td>         <th>coef</th>     <th>std err</th>      <th>t</th>      <th>P>|t|</th>  <th>[0.025</th>    <th>0.975]</th>  \n",
       "</tr>\n",
       "<tr>\n",
       "  <th>Intercept</th> <td>    0.0576</td> <td>    1.698</td> <td>    0.034</td> <td> 0.973</td> <td>   -3.342</td> <td>    3.457</td>\n",
       "</tr>\n",
       "<tr>\n",
       "  <th>rpcarb</th>    <td>    0.0901</td> <td>    0.007</td> <td>   12.940</td> <td> 0.000</td> <td>    0.076</td> <td>    0.104</td>\n",
       "</tr>\n",
       "<tr>\n",
       "  <th>rpcinc</th>    <td>    0.1235</td> <td>    0.030</td> <td>    4.151</td> <td> 0.000</td> <td>    0.064</td> <td>    0.183</td>\n",
       "</tr>\n",
       "<tr>\n",
       "  <th>rpcofe</th>    <td>   -0.0126</td> <td>    0.005</td> <td>   -2.572</td> <td> 0.013</td> <td>   -0.022</td> <td>   -0.003</td>\n",
       "</tr>\n",
       "</table><br/><br/>Notes:<br/>[1] Standard Errors are heteroscedasticity and autocorrelation robust (HAC) using 1 lags and without small sample correction<br/>[2] The condition number is large, 3.02e+03. This might indicate that there are<br/>strong multicollinearity or other numerical problems."
      ],
      "text/latex": [
       "\\begin{center}\n",
       "\\begin{tabular}{lclc}\n",
       "\\toprule\n",
       "\\textbf{Dep. Variable:}    &      cons     & \\textbf{  R-squared:         } &     0.956   \\\\\n",
       "\\textbf{Model:}            &      OLS      & \\textbf{  Adj. R-squared:    } &     0.953   \\\\\n",
       "\\textbf{No. Observations:} &         61    & \\textbf{  F-statistic:       } &     287.1   \\\\\n",
       "\\textbf{Covariance Type:}  &      HAC      & \\textbf{  Prob (F-statistic):} &  2.33e-34   \\\\\n",
       "\\bottomrule\n",
       "\\end{tabular}\n",
       "\\begin{tabular}{lcccccc}\n",
       "                   & \\textbf{coef} & \\textbf{std err} & \\textbf{t} & \\textbf{P$> |$t$|$} & \\textbf{[0.025} & \\textbf{0.975]}  \\\\\n",
       "\\midrule\n",
       "\\textbf{Intercept} &       0.0576  &        1.698     &     0.034  &         0.973        &       -3.342    &        3.457     \\\\\n",
       "\\textbf{rpcarb}    &       0.0901  &        0.007     &    12.940  &         0.000        &        0.076    &        0.104     \\\\\n",
       "\\textbf{rpcinc}    &       0.1235  &        0.030     &     4.151  &         0.000        &        0.064    &        0.183     \\\\\n",
       "\\textbf{rpcofe}    &      -0.0126  &        0.005     &    -2.572  &         0.013        &       -0.022    &       -0.003     \\\\\n",
       "\\bottomrule\n",
       "\\end{tabular}\n",
       "%\\caption{OLS Regression Results}\n",
       "\\end{center}\n",
       "\n",
       "Notes: \\newline\n",
       " [1] Standard Errors are heteroscedasticity and autocorrelation robust (HAC) using 1 lags and without small sample correction \\newline\n",
       " [2] The condition number is large, 3.02e+03. This might indicate that there are \\newline\n",
       " strong multicollinearity or other numerical problems."
      ],
      "text/plain": [
       "<class 'statsmodels.iolib.summary.Summary'>\n",
       "\"\"\"\n",
       "                            OLS Regression Results                            \n",
       "==============================================================================\n",
       "Dep. Variable:                   cons   R-squared:                       0.956\n",
       "Model:                            OLS   Adj. R-squared:                  0.953\n",
       "No. Observations:                  61   F-statistic:                     287.1\n",
       "Covariance Type:                  HAC   Prob (F-statistic):           2.33e-34\n",
       "==============================================================================\n",
       "                 coef    std err          t      P>|t|      [0.025      0.975]\n",
       "------------------------------------------------------------------------------\n",
       "Intercept      0.0576      1.698      0.034      0.973      -3.342       3.457\n",
       "rpcarb         0.0901      0.007     12.940      0.000       0.076       0.104\n",
       "rpcinc         0.1235      0.030      4.151      0.000       0.064       0.183\n",
       "rpcofe        -0.0126      0.005     -2.572      0.013      -0.022      -0.003\n",
       "==============================================================================\n",
       "\n",
       "Notes:\n",
       "[1] Standard Errors are heteroscedasticity and autocorrelation robust (HAC) using 1 lags and without small sample correction\n",
       "[2] The condition number is large, 3.02e+03. This might indicate that there are\n",
       "strong multicollinearity or other numerical problems.\n",
       "\"\"\""
      ]
     },
     "execution_count": 3,
     "metadata": {},
     "output_type": "execute_result"
    }
   ],
   "source": [
    "md = tprstats.model(name = \"ts\", formula='cons~rpcarb+rpcinc+rpcofe', data=coffee_data)\n",
    "md.summary()"
   ]
  },
  {
   "cell_type": "code",
   "execution_count": 4,
   "metadata": {},
   "outputs": [
    {
     "name": "stdout",
     "output_type": "stream",
     "text": [
      "Model name \"ds\" not recognized.\n"
     ]
    },
    {
     "ename": "ValueError",
     "evalue": "Model name \"ds\" not recognized.",
     "output_type": "error",
     "traceback": [
      "\u001b[0;31m---------------------------------------------------------------------------\u001b[0m",
      "\u001b[0;31mValueError\u001b[0m                                Traceback (most recent call last)",
      "Cell \u001b[0;32mIn[4], line 1\u001b[0m\n\u001b[0;32m----> 1\u001b[0m model_cs_lm \u001b[38;5;241m=\u001b[39m \u001b[43mtprstats\u001b[49m\u001b[38;5;241;43m.\u001b[39;49m\u001b[43mmodel\u001b[49m\u001b[43m(\u001b[49m\u001b[43mname\u001b[49m\u001b[43m \u001b[49m\u001b[38;5;241;43m=\u001b[39;49m\u001b[43m \u001b[49m\u001b[38;5;124;43m\"\u001b[39;49m\u001b[38;5;124;43mds\u001b[39;49m\u001b[38;5;124;43m\"\u001b[39;49m\u001b[43m,\u001b[49m\u001b[43m \u001b[49m\u001b[43mformula\u001b[49m\u001b[38;5;241;43m=\u001b[39;49m\u001b[38;5;124;43m'\u001b[39;49m\u001b[38;5;124;43mPrice ~ Carat + C(Clarity)\u001b[39;49m\u001b[38;5;124;43m'\u001b[39;49m\u001b[43m,\u001b[49m\u001b[43m \u001b[49m\u001b[43mdata\u001b[49m\u001b[38;5;241;43m=\u001b[39;49m\u001b[43mdiamonds_211\u001b[49m\u001b[43m)\u001b[49m\n",
      "File \u001b[0;32m/workspaces/tprstats-python/src/tprstats/model_wrapper.py:95\u001b[0m, in \u001b[0;36mmodel\u001b[0;34m(name, formula, data, **kwargs)\u001b[0m\n\u001b[1;32m     93\u001b[0m \u001b[38;5;66;03m# raise ValueError('Model name \"' + name + '\" not recognized.')\u001b[39;00m\n\u001b[1;32m     94\u001b[0m \u001b[38;5;28mprint\u001b[39m(msg)\n\u001b[0;32m---> 95\u001b[0m \u001b[38;5;28;01mraise\u001b[39;00m \u001b[38;5;167;01mValueError\u001b[39;00m(msg)\n",
      "\u001b[0;31mValueError\u001b[0m: Model name \"ds\" not recognized."
     ]
    }
   ],
   "source": [
    "model_cs_lm = tprstats.model(name = \"ds\", formula='Price ~ Carat + C(Clarity)', data=diamonds_211)"
   ]
  }
 ],
 "metadata": {
  "kernelspec": {
   "display_name": "default",
   "language": "python",
   "name": "python3"
  },
  "language_info": {
   "codemirror_mode": {
    "name": "ipython",
    "version": 3
   },
   "file_extension": ".py",
   "mimetype": "text/x-python",
   "name": "python",
   "nbconvert_exporter": "python",
   "pygments_lexer": "ipython3",
   "version": "3.12.7"
  }
 },
 "nbformat": 4,
 "nbformat_minor": 2
}
