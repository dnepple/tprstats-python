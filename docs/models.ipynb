{
 "cells": [
  {
   "cell_type": "markdown",
   "metadata": {},
   "source": [
    "# Models"
   ]
  },
  {
   "cell_type": "markdown",
   "metadata": {},
   "source": [
    "## Linear Models"
   ]
  },
  {
   "cell_type": "code",
   "execution_count": 1,
   "metadata": {
    "scrolled": true,
    "tags": [
     "hide-cell",
     "hide-input",
     "hide-output"
    ]
   },
   "outputs": [],
   "source": [
    "import tprstats\n",
    "import pandas as pd\n",
    "import numpy as np\n",
    "coffee_data = pd.read_excel('../data/Coffee_Data.xlsx', engine='openpyxl')\n",
    "diamonds_211 = pd.read_excel('../data/Diamonds_211.xlsx', engine='openpyxl')"
   ]
  },
  {
   "cell_type": "markdown",
   "metadata": {},
   "source": [
    "### Create a Model\n",
    "To create a model, use the `tprstats.model()` function providing the name, formula, and data used in the model. The `tprstats.model()` function will automatically run a regression to fit the data.\n",
    "\n",
    "Models:\n",
    "- Cross-sectional linear models `name = \"cs\"`.\n",
    "- Time series linear models `name = \"ts\"`.\n",
    "- Logit Binary Choice models `name = \"logit\"`.\n",
    "- Probit Binary Choice models `name = \"probit\"`."
   ]
  },
  {
   "cell_type": "code",
   "execution_count": 2,
   "metadata": {},
   "outputs": [
    {
     "name": "stdout",
     "output_type": "stream",
     "text": [
      "<class 'tprstats.models.StatsmodelsLinearModelsWrapper'>\n"
     ]
    }
   ],
   "source": [
    "model_diamond = tprstats.model(name=\"cs\", formula='Price ~ Carat + C(Clarity)', data=diamonds_211)\n",
    "print(type(model_diamond))"
   ]
  },
  {
   "cell_type": "markdown",
   "metadata": {},
   "source": [
    "### Summary Statistics"
   ]
  },
  {
   "cell_type": "code",
   "execution_count": 3,
   "metadata": {},
   "outputs": [
    {
     "data": {
      "text/html": [
       "<table class=\"simpletable\">\n",
       "<caption>OLS Regression Results</caption>\n",
       "<tr>\n",
       "  <th>Dep. Variable:</th>      <td>Price</td>   <th>  R-squared:         </th> <td>   0.968</td> \n",
       "</tr>\n",
       "<tr>\n",
       "  <th>Model:</th>               <td>OLS</td>    <th>  Adj. R-squared:    </th> <td>   0.967</td> \n",
       "</tr>\n",
       "<tr>\n",
       "  <th>No. Observations:</th>  <td>   211</td>   <th>  F-statistic:       </th> <td>   1019.</td> \n",
       "</tr>\n",
       "<tr>\n",
       "  <th>Covariance Type:</th>  <td>nonrobust</td> <th>  Prob (F-statistic):</th> <td>4.21e-149</td>\n",
       "</tr>\n",
       "</table>\n",
       "<table class=\"simpletable\">\n",
       "<tr>\n",
       "         <td></td>            <th>coef</th>     <th>std err</th>      <th>t</th>      <th>P>|t|</th>  <th>[0.025</th>    <th>0.975]</th>  \n",
       "</tr>\n",
       "<tr>\n",
       "  <th>Intercept</th>       <td>-1.241e+04</td> <td>  461.650</td> <td>  -26.886</td> <td> 0.000</td> <td>-1.33e+04</td> <td>-1.15e+04</td>\n",
       "</tr>\n",
       "<tr>\n",
       "  <th>C(Clarity)[T.3]</th> <td> 4254.2767</td> <td>  368.295</td> <td>   11.551</td> <td> 0.000</td> <td> 3528.124</td> <td> 4980.430</td>\n",
       "</tr>\n",
       "<tr>\n",
       "  <th>C(Clarity)[T.4]</th> <td> 5942.2429</td> <td>  367.162</td> <td>   16.184</td> <td> 0.000</td> <td> 5218.325</td> <td> 6666.161</td>\n",
       "</tr>\n",
       "<tr>\n",
       "  <th>C(Clarity)[T.5]</th> <td> 7089.8345</td> <td>  376.465</td> <td>   18.833</td> <td> 0.000</td> <td> 6347.573</td> <td> 7832.096</td>\n",
       "</tr>\n",
       "<tr>\n",
       "  <th>C(Clarity)[T.6]</th> <td> 7688.9068</td> <td>  464.874</td> <td>   16.540</td> <td> 0.000</td> <td> 6772.333</td> <td> 8605.480</td>\n",
       "</tr>\n",
       "<tr>\n",
       "  <th>C(Clarity)[T.8]</th> <td> 9160.7157</td> <td>  545.092</td> <td>   16.806</td> <td> 0.000</td> <td> 8085.979</td> <td> 1.02e+04</td>\n",
       "</tr>\n",
       "<tr>\n",
       "  <th>Carat</th>           <td> 1.235e+04</td> <td>  162.047</td> <td>   76.226</td> <td> 0.000</td> <td>  1.2e+04</td> <td> 1.27e+04</td>\n",
       "</tr>\n",
       "</table><br/><br/>Notes:<br/>[1] Standard Errors assume that the covariance matrix of the errors is correctly specified."
      ],
      "text/latex": [
       "\\begin{center}\n",
       "\\begin{tabular}{lclc}\n",
       "\\toprule\n",
       "\\textbf{Dep. Variable:}    &     Price     & \\textbf{  R-squared:         } &     0.968   \\\\\n",
       "\\textbf{Model:}            &      OLS      & \\textbf{  Adj. R-squared:    } &     0.967   \\\\\n",
       "\\textbf{No. Observations:} &        211    & \\textbf{  F-statistic:       } &     1019.   \\\\\n",
       "\\textbf{Covariance Type:}  &   nonrobust   & \\textbf{  Prob (F-statistic):} & 4.21e-149   \\\\\n",
       "\\bottomrule\n",
       "\\end{tabular}\n",
       "\\begin{tabular}{lcccccc}\n",
       "                         & \\textbf{coef} & \\textbf{std err} & \\textbf{t} & \\textbf{P$> |$t$|$} & \\textbf{[0.025} & \\textbf{0.975]}  \\\\\n",
       "\\midrule\n",
       "\\textbf{Intercept}       &   -1.241e+04  &      461.650     &   -26.886  &         0.000        &    -1.33e+04    &    -1.15e+04     \\\\\n",
       "\\textbf{C(Clarity)[T.3]} &    4254.2767  &      368.295     &    11.551  &         0.000        &     3528.124    &     4980.430     \\\\\n",
       "\\textbf{C(Clarity)[T.4]} &    5942.2429  &      367.162     &    16.184  &         0.000        &     5218.325    &     6666.161     \\\\\n",
       "\\textbf{C(Clarity)[T.5]} &    7089.8345  &      376.465     &    18.833  &         0.000        &     6347.573    &     7832.096     \\\\\n",
       "\\textbf{C(Clarity)[T.6]} &    7688.9068  &      464.874     &    16.540  &         0.000        &     6772.333    &     8605.480     \\\\\n",
       "\\textbf{C(Clarity)[T.8]} &    9160.7157  &      545.092     &    16.806  &         0.000        &     8085.979    &     1.02e+04     \\\\\n",
       "\\textbf{Carat}           &    1.235e+04  &      162.047     &    76.226  &         0.000        &      1.2e+04    &     1.27e+04     \\\\\n",
       "\\bottomrule\n",
       "\\end{tabular}\n",
       "%\\caption{OLS Regression Results}\n",
       "\\end{center}\n",
       "\n",
       "Notes: \\newline\n",
       " [1] Standard Errors assume that the covariance matrix of the errors is correctly specified."
      ],
      "text/plain": [
       "<class 'statsmodels.iolib.summary.Summary'>\n",
       "\"\"\"\n",
       "                            OLS Regression Results                            \n",
       "==============================================================================\n",
       "Dep. Variable:                  Price   R-squared:                       0.968\n",
       "Model:                            OLS   Adj. R-squared:                  0.967\n",
       "No. Observations:                 211   F-statistic:                     1019.\n",
       "Covariance Type:            nonrobust   Prob (F-statistic):          4.21e-149\n",
       "===================================================================================\n",
       "                      coef    std err          t      P>|t|      [0.025      0.975]\n",
       "-----------------------------------------------------------------------------------\n",
       "Intercept       -1.241e+04    461.650    -26.886      0.000   -1.33e+04   -1.15e+04\n",
       "C(Clarity)[T.3]  4254.2767    368.295     11.551      0.000    3528.124    4980.430\n",
       "C(Clarity)[T.4]  5942.2429    367.162     16.184      0.000    5218.325    6666.161\n",
       "C(Clarity)[T.5]  7089.8345    376.465     18.833      0.000    6347.573    7832.096\n",
       "C(Clarity)[T.6]  7688.9068    464.874     16.540      0.000    6772.333    8605.480\n",
       "C(Clarity)[T.8]  9160.7157    545.092     16.806      0.000    8085.979    1.02e+04\n",
       "Carat            1.235e+04    162.047     76.226      0.000     1.2e+04    1.27e+04\n",
       "===================================================================================\n",
       "\n",
       "Notes:\n",
       "[1] Standard Errors assume that the covariance matrix of the errors is correctly specified.\n",
       "\"\"\""
      ]
     },
     "execution_count": 3,
     "metadata": {},
     "output_type": "execute_result"
    }
   ],
   "source": [
    "model_diamond.summary()"
   ]
  },
  {
   "cell_type": "markdown",
   "metadata": {},
   "source": [
    "### Prediction\n",
    "#### Model and New Data"
   ]
  },
  {
   "cell_type": "code",
   "execution_count": 4,
   "metadata": {},
   "outputs": [],
   "source": [
    "model_coffee_ts = tprstats.model(name = \"ts\", formula='cons~rpcarb+rpcinc+rpcofe', data=coffee_data)\n",
    "# model_coffee_ts_logs = tprstats.model(name = \"ts\", formula='log(cons)~log(rpcarb)+log(rpcinc)+log(rpcofe)', data=coffee_data)"
   ]
  },
  {
   "cell_type": "code",
   "execution_count": 5,
   "metadata": {},
   "outputs": [],
   "source": [
    "# new data for prediction\n",
    "Xnew_coffee =pd.DataFrame({\n",
    "    \"rpcarb\": [93, 76, 151],\n",
    "    \"rpcinc\": [24, 27, 16],\n",
    "    \"rpcofe\": [100, 95, 74]\n",
    "})"
   ]
  },
  {
   "cell_type": "markdown",
   "metadata": {},
   "source": [
    "#### Prediction Intervals"
   ]
  },
  {
   "cell_type": "code",
   "execution_count": 6,
   "metadata": {},
   "outputs": [
    {
     "data": {
      "text/html": [
       "<div>\n",
       "<style scoped>\n",
       "    .dataframe tbody tr th:only-of-type {\n",
       "        vertical-align: middle;\n",
       "    }\n",
       "\n",
       "    .dataframe tbody tr th {\n",
       "        vertical-align: top;\n",
       "    }\n",
       "\n",
       "    .dataframe thead th {\n",
       "        text-align: right;\n",
       "    }\n",
       "</style>\n",
       "<table border=\"1\" class=\"dataframe\">\n",
       "  <thead>\n",
       "    <tr style=\"text-align: right;\">\n",
       "      <th></th>\n",
       "      <th>Predicted</th>\n",
       "      <th>Lower</th>\n",
       "      <th>Upper</th>\n",
       "    </tr>\n",
       "  </thead>\n",
       "  <tbody>\n",
       "    <tr>\n",
       "      <th>0</th>\n",
       "      <td>10.143979</td>\n",
       "      <td>9.021145</td>\n",
       "      <td>11.266813</td>\n",
       "    </tr>\n",
       "    <tr>\n",
       "      <th>1</th>\n",
       "      <td>9.045275</td>\n",
       "      <td>7.911948</td>\n",
       "      <td>10.178602</td>\n",
       "    </tr>\n",
       "    <tr>\n",
       "      <th>2</th>\n",
       "      <td>14.710292</td>\n",
       "      <td>13.575637</td>\n",
       "      <td>15.844946</td>\n",
       "    </tr>\n",
       "  </tbody>\n",
       "</table>\n",
       "</div>"
      ],
      "text/plain": [
       "   Predicted      Lower      Upper\n",
       "0  10.143979   9.021145  11.266813\n",
       "1   9.045275   7.911948  10.178602\n",
       "2  14.710292  13.575637  15.844946"
      ]
     },
     "execution_count": 6,
     "metadata": {},
     "output_type": "execute_result"
    }
   ],
   "source": [
    "model_coffee_ts.prediction_intervals(Xnew_coffee)"
   ]
  },
  {
   "cell_type": "markdown",
   "metadata": {},
   "source": [
    "### Scaled Ceofficients\n",
    "Scaled coefficient including standardized coefficients and elasticities can be accessed via the `scaled_coefficients` function."
   ]
  },
  {
   "cell_type": "code",
   "execution_count": 7,
   "metadata": {},
   "outputs": [
    {
     "data": {
      "text/html": [
       "<div>\n",
       "<style scoped>\n",
       "    .dataframe tbody tr th:only-of-type {\n",
       "        vertical-align: middle;\n",
       "    }\n",
       "\n",
       "    .dataframe tbody tr th {\n",
       "        vertical-align: top;\n",
       "    }\n",
       "\n",
       "    .dataframe thead th {\n",
       "        text-align: right;\n",
       "    }\n",
       "</style>\n",
       "<table border=\"1\" class=\"dataframe\">\n",
       "  <thead>\n",
       "    <tr style=\"text-align: right;\">\n",
       "      <th></th>\n",
       "      <th>coefs</th>\n",
       "      <th>std_coefs</th>\n",
       "      <th>elasticities</th>\n",
       "    </tr>\n",
       "  </thead>\n",
       "  <tbody>\n",
       "    <tr>\n",
       "      <th>rpcarb</th>\n",
       "      <td>0.090120</td>\n",
       "      <td>1.356548</td>\n",
       "      <td>0.8475</td>\n",
       "    </tr>\n",
       "    <tr>\n",
       "      <th>rpcinc</th>\n",
       "      <td>0.123477</td>\n",
       "      <td>0.412841</td>\n",
       "      <td>0.2540</td>\n",
       "    </tr>\n",
       "    <tr>\n",
       "      <th>rpcofe</th>\n",
       "      <td>-0.012582</td>\n",
       "      <td>-0.116004</td>\n",
       "      <td>-0.1065</td>\n",
       "    </tr>\n",
       "  </tbody>\n",
       "</table>\n",
       "</div>"
      ],
      "text/plain": [
       "           coefs  std_coefs  elasticities\n",
       "rpcarb  0.090120   1.356548        0.8475\n",
       "rpcinc  0.123477   0.412841        0.2540\n",
       "rpcofe -0.012582  -0.116004       -0.1065"
      ]
     },
     "execution_count": 7,
     "metadata": {},
     "output_type": "execute_result"
    }
   ],
   "source": [
    "model_coffee_ts.scaled_coefficients()"
   ]
  },
  {
   "cell_type": "markdown",
   "metadata": {},
   "source": [
    "#### Elasticities\n",
    "To access just the elasticities, use the `elasticities` function."
   ]
  },
  {
   "cell_type": "code",
   "execution_count": 8,
   "metadata": {},
   "outputs": [
    {
     "data": {
      "text/plain": [
       "rpcarb    0.8475\n",
       "rpcinc    0.2540\n",
       "rpcofe   -0.1065\n",
       "dtype: float64"
      ]
     },
     "execution_count": 8,
     "metadata": {},
     "output_type": "execute_result"
    }
   ],
   "source": [
    "model_coffee_ts.elasticities()"
   ]
  },
  {
   "cell_type": "markdown",
   "metadata": {},
   "source": [
    "#### Standardized Coefficients\n",
    "To access just the standardized coefficients, use the `standardized_coefficients` function."
   ]
  },
  {
   "cell_type": "code",
   "execution_count": 9,
   "metadata": {},
   "outputs": [
    {
     "data": {
      "text/plain": [
       "rpcarb    1.356548\n",
       "rpcinc    0.412841\n",
       "rpcofe   -0.116004\n",
       "dtype: float64"
      ]
     },
     "execution_count": 9,
     "metadata": {},
     "output_type": "execute_result"
    }
   ],
   "source": [
    "model_coffee_ts.standardized_coefficients()"
   ]
  },
  {
   "cell_type": "markdown",
   "metadata": {},
   "source": [
    "### Plots\n",
    "#### Plot Actual vs. Fitted Values"
   ]
  },
  {
   "cell_type": "code",
   "execution_count": 10,
   "metadata": {},
   "outputs": [
    {
     "data": {
      "image/png": "[encoded data removed]",
      "text/plain": [
       "<Figure size 1000x600 with 1 Axes>"
      ]
     },
     "metadata": {},
     "output_type": "display_data"
    }
   ],
   "source": [
    "model_coffee_ts.plot_actual_fitted()"
   ]
  },
  {
   "cell_type": "code",
   "execution_count": 11,
   "id": "8f028554-c8df-4866-bd5a-be392961c6cb",
   "metadata": {},
   "outputs": [
    {
     "name": "stdout",
     "output_type": "stream",
     "text": [
      "Wald Test Statistic:  9.14129210335548\n",
      "p-value:  0.0003602795459282585\n"
     ]
    }
   ],
   "source": [
    "model_coffee_ts.wald_testing('(rpcofe = -0.018, rpcarb = 0.065)')"
   ]
  },
  {
   "cell_type": "code",
   "execution_count": null,
   "metadata": {},
   "outputs": [
    {
     "name": "stderr",
     "output_type": "stream",
     "text": [
      "/workspaces/tprstats-python/.pixi/envs/default/lib/python3.12/site-packages/statsmodels/base/model.py:1863: FutureWarning: Series.ravel is deprecated. The underlying array is already 1D, so ravel is not necessary.  Use `to_numpy()` for conversion to a numpy array instead.\n",
      "  params = self.params.ravel(order=\"F\")\n"
     ]
    },
    {
     "ename": "TypeError",
     "evalue": "unsupported operand type(s) for *: 'method' and 'float'",
     "output_type": "error",
     "traceback": [
      "\u001b[0;31m---------------------------------------------------------------------------\u001b[0m",
      "\u001b[0;31mTypeError\u001b[0m                                 Traceback (most recent call last)",
      "Cell \u001b[0;32mIn[12], line 1\u001b[0m\n\u001b[0;32m----> 1\u001b[0m \u001b[43mmodel_coffee_ts\u001b[49m\u001b[38;5;241;43m.\u001b[39;49m\u001b[43mwald_test\u001b[49m\u001b[43m(\u001b[49m\u001b[38;5;124;43m'\u001b[39;49m\u001b[38;5;124;43m(rpcofe = -0.018, rpcarb = 0.065)\u001b[39;49m\u001b[38;5;124;43m'\u001b[39;49m\u001b[43m,\u001b[49m\u001b[43m \u001b[49m\u001b[43muse_f\u001b[49m\u001b[38;5;241;43m=\u001b[39;49m\u001b[38;5;28;43;01mTrue\u001b[39;49;00m\u001b[43m,\u001b[49m\u001b[43m \u001b[49m\u001b[43mscalar\u001b[49m\u001b[38;5;241;43m=\u001b[39;49m\u001b[38;5;28;43;01mTrue\u001b[39;49;00m\u001b[43m)\u001b[49m\n",
      "File \u001b[0;32m/workspaces/tprstats-python/.pixi/envs/default/lib/python3.12/site-packages/statsmodels/base/model.py:1886\u001b[0m, in \u001b[0;36mLikelihoodModelResults.wald_test\u001b[0;34m(self, r_matrix, cov_p, invcov, use_f, df_constraints, scalar)\u001b[0m\n\u001b[1;32m   1884\u001b[0m Rbq \u001b[38;5;241m=\u001b[39m cparams \u001b[38;5;241m-\u001b[39m q_matrix\n\u001b[1;32m   1885\u001b[0m \u001b[38;5;28;01mif\u001b[39;00m invcov \u001b[38;5;129;01mis\u001b[39;00m \u001b[38;5;28;01mNone\u001b[39;00m:\n\u001b[0;32m-> 1886\u001b[0m     cov_p \u001b[38;5;241m=\u001b[39m \u001b[38;5;28;43mself\u001b[39;49m\u001b[38;5;241;43m.\u001b[39;49m\u001b[43mcov_params\u001b[49m\u001b[43m(\u001b[49m\u001b[43mr_matrix\u001b[49m\u001b[38;5;241;43m=\u001b[39;49m\u001b[43mr_matrix\u001b[49m\u001b[43m,\u001b[49m\u001b[43m \u001b[49m\u001b[43mcov_p\u001b[49m\u001b[38;5;241;43m=\u001b[39;49m\u001b[43mcov_p\u001b[49m\u001b[43m)\u001b[49m\n\u001b[1;32m   1887\u001b[0m     \u001b[38;5;28;01mif\u001b[39;00m np\u001b[38;5;241m.\u001b[39misnan(cov_p)\u001b[38;5;241m.\u001b[39mmax():\n\u001b[1;32m   1888\u001b[0m         \u001b[38;5;28;01mraise\u001b[39;00m \u001b[38;5;167;01mValueError\u001b[39;00m(\u001b[38;5;124m\"\u001b[39m\u001b[38;5;124mr_matrix performs f_test for using \u001b[39m\u001b[38;5;124m\"\u001b[39m\n\u001b[1;32m   1889\u001b[0m                          \u001b[38;5;124m\"\u001b[39m\u001b[38;5;124mdimensions that are asymptotically \u001b[39m\u001b[38;5;124m\"\u001b[39m\n\u001b[1;32m   1890\u001b[0m                          \u001b[38;5;124m\"\u001b[39m\u001b[38;5;124mnon-normal\u001b[39m\u001b[38;5;124m\"\u001b[39m)\n",
      "File \u001b[0;32m/workspaces/tprstats-python/.pixi/envs/default/lib/python3.12/site-packages/statsmodels/base/model.py:1527\u001b[0m, in \u001b[0;36mLikelihoodModelResults.cov_params\u001b[0;34m(self, r_matrix, column, scale, cov_p, other)\u001b[0m\n\u001b[1;32m   1525\u001b[0m         \u001b[38;5;28;01mif\u001b[39;00m scale \u001b[38;5;129;01mis\u001b[39;00m \u001b[38;5;28;01mNone\u001b[39;00m:\n\u001b[1;32m   1526\u001b[0m             scale \u001b[38;5;241m=\u001b[39m \u001b[38;5;28mself\u001b[39m\u001b[38;5;241m.\u001b[39mscale\n\u001b[0;32m-> 1527\u001b[0m         cov_p \u001b[38;5;241m=\u001b[39m \u001b[38;5;28;43mself\u001b[39;49m\u001b[38;5;241;43m.\u001b[39;49m\u001b[43mnormalized_cov_params\u001b[49m\u001b[43m \u001b[49m\u001b[38;5;241;43m*\u001b[39;49m\u001b[43m \u001b[49m\u001b[43mscale\u001b[49m\n\u001b[1;32m   1529\u001b[0m \u001b[38;5;28;01mif\u001b[39;00m column \u001b[38;5;129;01mis\u001b[39;00m \u001b[38;5;129;01mnot\u001b[39;00m \u001b[38;5;28;01mNone\u001b[39;00m:\n\u001b[1;32m   1530\u001b[0m     column \u001b[38;5;241m=\u001b[39m np\u001b[38;5;241m.\u001b[39masarray(column)\n",
      "\u001b[0;31mTypeError\u001b[0m: unsupported operand type(s) for *: 'method' and 'float'"
     ]
    }
   ],
   "source": [
    "model_coffee_ts.wald_test(r_matrix='(rpcofe = -0.018, rpcarb = 0.065)', use_f=True, scalar=True)"
   ]
  },
  {
   "cell_type": "markdown",
   "id": "a9783565",
   "metadata": {},
   "source": [
    "## Binary Choice Models"
   ]
  },
  {
   "cell_type": "code",
   "execution_count": 12,
   "id": "92a3e68b-4ff2-4dc2-b399-aa3fe449fb5e",
   "metadata": {},
   "outputs": [],
   "source": [
    "# setup\n",
    "import pandas as pd\n",
    "import tprstats\n",
    "solar = pd.read_excel('../data/Solar_Data.xlsx').dropna()\n",
    "solar_new = pd.read_excel('../data/Solar_New_Prospects.xlsx')"
   ]
  },
  {
   "cell_type": "markdown",
   "id": "6c8ac6db",
   "metadata": {},
   "source": [
    "### Tests\n",
    "\n",
    "#### Wald Test"
   ]
  },
  {
   "cell_type": "code",
   "execution_count": 13,
   "id": "52edee46-b9d5-4029-93f5-43e65e603e3c",
   "metadata": {
    "scrolled": true
   },
   "outputs": [],
   "source": [
    "#### Ramsey Test (RESET)"
   ]
  },
  {
   "cell_type": "markdown",
   "id": "a9783565",
   "metadata": {},
   "source": [
    "## Binary Choice Models"
   ]
  },
  {
   "cell_type": "code",
   "execution_count": 14,
   "id": "92a3e68b-4ff2-4dc2-b399-aa3fe449fb5e",
   "metadata": {},
   "outputs": [],
   "source": [
    "# setup\n",
    "import pandas as pd\n",
    "import tprstats\n",
    "solar = pd.read_excel('../data/Solar_Data.xlsx').dropna()\n",
    "solar_new = pd.read_excel('../data/Solar_New_Prospects.xlsx')"
   ]
  },
  {
   "cell_type": "markdown",
   "id": "6c8ac6db",
   "metadata": {},
   "source": [
    "### Logit"
   ]
  },
  {
   "cell_type": "code",
   "execution_count": 15,
   "id": "8f028554-c8df-4866-bd5a-be392961c6cb",
   "metadata": {},
   "outputs": [
    {
     "name": "stdout",
     "output_type": "stream",
     "text": [
      "Optimization terminated successfully.\n",
      "         Current function value: 0.102926\n",
      "         Iterations 9\n"
     ]
    },
    {
     "ename": "AttributeError",
     "evalue": "'LogitModel' object has no attribute 'summary'",
     "output_type": "error",
     "traceback": [
      "\u001b[0;31m---------------------------------------------------------------------------\u001b[0m",
      "\u001b[0;31mAttributeError\u001b[0m                            Traceback (most recent call last)",
      "Cell \u001b[0;32mIn[15], line 3\u001b[0m\n\u001b[1;32m      1\u001b[0m \u001b[38;5;66;03m# use C(DrivesHybrid) to test Logit works with categorical variables\u001b[39;00m\n\u001b[1;32m      2\u001b[0m solar_logit\u001b[38;5;241m=\u001b[39mtprstats\u001b[38;5;241m.\u001b[39mmodel(\u001b[38;5;124m\"\u001b[39m\u001b[38;5;124mlogit\u001b[39m\u001b[38;5;124m\"\u001b[39m,formula\u001b[38;5;241m=\u001b[39m\u001b[38;5;124m\"\u001b[39m\u001b[38;5;124mSale~AnnualSave+AnnualCost+C(DrivesHybrid)+NearbySolar+HomeValue\u001b[39m\u001b[38;5;124m\"\u001b[39m,data\u001b[38;5;241m=\u001b[39msolar)\n\u001b[0;32m----> 3\u001b[0m \u001b[43msolar_logit\u001b[49m\u001b[38;5;241;43m.\u001b[39;49m\u001b[43msummary\u001b[49m()\n",
      "\u001b[0;31mAttributeError\u001b[0m: 'LogitModel' object has no attribute 'summary'"
     ]
    }
   ],
   "source": [
    "# use C(DrivesHybrid) to test Logit works with categorical variables\n",
    "solar_logit=tprstats.model(\"logit\",formula=\"Sale~AnnualSave+AnnualCost+C(DrivesHybrid)+NearbySolar+HomeValue\",data=solar)\n",
    "solar_logit.summary()"
   ]
  },
  {
   "cell_type": "code",
   "execution_count": null,
   "id": "52edee46-b9d5-4029-93f5-43e65e603e3c",
   "metadata": {
    "scrolled": true
   },
   "outputs": [],
   "source": [
    "solar_logit.predict()"
   ]
  },
  {
   "cell_type": "code",
   "execution_count": null,
   "id": "f3bded28-3061-4c24-868d-c2ac563cdc60",
   "metadata": {},
   "outputs": [],
   "source": [
    "solar_logit.classification_table()"
   ]
  },
  {
   "cell_type": "code",
   "execution_count": null,
   "id": "2bce2f42",
   "metadata": {},
   "outputs": [],
   "source": [
    "X_out_of_sample = pd.DataFrame({\n",
    "    \"AnnualSave\": [2.5, 1.9, 2.3],\n",
    "    \"AnnualCost\": [1.8, 1.5, 1.7],\n",
    "    \"DrivesHybrid\": [1,0,0],\n",
    "    \"NearbySolar\": [0, 1, 0],\n",
    "    \"HomeValue\": [550, 675, 495]\n",
    "})\n",
    "print(\"We create three homes: \")\n",
    "print(X_out_of_sample)\n",
    "print(\"Predicted Probabilities of purchase for the three homes are: \")\n",
    "print(solar_logit.predict(X_out_of_sample))"
   ]
  },
  {
   "cell_type": "code",
   "execution_count": null,
   "id": "7c274f63",
   "metadata": {},
   "outputs": [],
   "source": [
    "# marginal effects\n",
    "solar_logit.marginal_effects()"
   ]
  },
  {
   "cell_type": "code",
   "execution_count": null,
   "id": "f092f612",
   "metadata": {},
   "outputs": [],
   "source": [
    "solar_logit.predict(solar_new)"
   ]
  },
  {
   "cell_type": "code",
   "execution_count": null,
   "id": "49c87c2f",
   "metadata": {},
   "outputs": [],
   "source": [
    "solar_logit.predict_and_rank(solar_new)"
   ]
  },
  {
   "cell_type": "markdown",
   "id": "63789848",
   "metadata": {},
   "source": [
    "### Probit"
   ]
  },
  {
   "cell_type": "code",
   "execution_count": null,
   "id": "a4dd6ee6",
   "metadata": {},
   "outputs": [],
   "source": [
    "solar_probit=tprstats.model(\"probit\",formula=\"Sale~AnnualSave+AnnualCost+C(DrivesHybrid)+NearbySolar+HomeValue\",data=solar)"
   ]
  },
  {
   "cell_type": "code",
   "execution_count": null,
   "id": "7747c224",
   "metadata": {},
   "outputs": [],
   "source": [
    "solar_probit.summary()"
   ]
  },
  {
   "cell_type": "code",
   "execution_count": null,
   "id": "222821ba",
   "metadata": {},
   "outputs": [],
   "source": [
    "solar_probit.predict()"
   ]
  },
  {
   "cell_type": "code",
   "execution_count": null,
   "id": "0d8475eb",
   "metadata": {},
   "outputs": [],
   "source": [
    "print(\"Predicted Probabilities of purchase for the three synthetic homes in X_out_of_sample using probit.predict:\")\n",
    "print(solar_probit.predict(X_out_of_sample))"
   ]
  },
  {
   "cell_type": "code",
   "execution_count": null,
   "id": "4e146f9a",
   "metadata": {},
   "outputs": [],
   "source": [
    "solar_probit.classification_table()"
   ]
  },
  {
   "cell_type": "code",
   "execution_count": null,
   "id": "2cc877f8",
   "metadata": {},
   "outputs": [],
   "source": [
    "solar_probit.marginal_effects()"
   ]
  },
  {
   "cell_type": "code",
   "execution_count": null,
   "id": "4a82f52c",
   "metadata": {},
   "outputs": [],
   "source": [
    "solar_probit.predict_and_rank(solar_new)"
   ]
  }
 ],
 "metadata": {
  "kernelspec": {
   "display_name": "default",
   "language": "python",
   "name": "python3"
  },
  "language_info": {
   "codemirror_mode": {
    "name": "ipython",
    "version": 3
   },
   "file_extension": ".py",
   "mimetype": "text/x-python",
   "name": "python",
   "nbconvert_exporter": "python",
   "pygments_lexer": "ipython3",
   "version": "3.12.7"
  }
 },
 "nbformat": 4,
 "nbformat_minor": 4
}
