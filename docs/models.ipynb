{
 "cells": [
  {
   "cell_type": "markdown",
   "metadata": {},
   "source": [
    "# Models"
   ]
  },
  {
   "cell_type": "markdown",
   "metadata": {},
   "source": [
    "## Linear Models"
   ]
  },
  {
   "cell_type": "code",
   "execution_count": 1,
   "metadata": {
    "scrolled": true,
    "tags": [
     "hide-cell",
     "hide-input",
     "hide-output"
    ]
   },
   "outputs": [],
   "source": [
    "import tprstats\n",
    "import pandas as pd\n",
    "import numpy as np\n",
    "coffee_data = pd.read_excel('../data/Coffee_Data.xlsx', engine='openpyxl')\n",
    "diamonds_211 = pd.read_excel('../data/Diamonds_211.xlsx', engine='openpyxl')"
   ]
  },
  {
   "cell_type": "markdown",
   "metadata": {},
   "source": [
    "### Create a Model\n",
    "To create a model, use the `tprstats.model()` function providing the name, formula, and data used in the model. The `tprstats.model()` function will automatically run a regression to fit the data.\n",
    "\n",
    "Models:\n",
    "- Cross-sectional linear models `name = \"cs\"`.\n",
    "- Time series linear models `name = \"ts\"`.\n",
    "- Logit Binary Choice models `name = \"logit\"`.\n",
    "- Probit Binary Choice models `name = \"probit\"`."
   ]
  },
  {
   "cell_type": "code",
   "execution_count": 2,
   "metadata": {},
   "outputs": [
    {
     "name": "stdout",
     "output_type": "stream",
     "text": [
      "<class 'tprstats.models.CrossSectionLinearModel'>\n"
     ]
    }
   ],
   "source": [
    "model_diamond = tprstats.model(name=\"cs\", formula='Price ~ Carat + C(Clarity)', data=diamonds_211)\n",
    "print(type(model_diamond))"
   ]
  },
  {
   "cell_type": "markdown",
   "metadata": {},
   "source": [
    "### Summary Statistics"
   ]
  },
  {
   "cell_type": "code",
   "execution_count": 3,
   "metadata": {},
   "outputs": [
    {
     "data": {
      "text/html": [
       "<table class=\"simpletable\">\n",
       "<caption>OLS Regression Results</caption>\n",
       "<tr>\n",
       "  <th>Dep. Variable:</th>     <td>Price</td> <th>  R-squared:         </th> <td>   0.968</td> \n",
       "</tr>\n",
       "<tr>\n",
       "  <th>Model:</th>              <td>OLS</td>  <th>  Adj. R-squared:    </th> <td>   0.967</td> \n",
       "</tr>\n",
       "<tr>\n",
       "  <th>No. Observations:</th> <td>   211</td> <th>  F-statistic:       </th> <td>   765.0</td> \n",
       "</tr>\n",
       "<tr>\n",
       "  <th>Covariance Type:</th>    <td>HC1</td>  <th>  Prob (F-statistic):</th> <td>6.99e-137</td>\n",
       "</tr>\n",
       "</table>\n",
       "<table class=\"simpletable\">\n",
       "<tr>\n",
       "         <td></td>            <th>coef</th>     <th>std err</th>      <th>z</th>      <th>P>|z|</th>  <th>[0.025</th>    <th>0.975]</th>  \n",
       "</tr>\n",
       "<tr>\n",
       "  <th>Intercept</th>       <td>-1.241e+04</td> <td>  699.105</td> <td>  -17.754</td> <td> 0.000</td> <td>-1.38e+04</td> <td> -1.1e+04</td>\n",
       "</tr>\n",
       "<tr>\n",
       "  <th>C(Clarity)[T.3]</th> <td> 4254.2767</td> <td>  454.654</td> <td>    9.357</td> <td> 0.000</td> <td> 3363.171</td> <td> 5145.383</td>\n",
       "</tr>\n",
       "<tr>\n",
       "  <th>C(Clarity)[T.4]</th> <td> 5942.2429</td> <td>  475.430</td> <td>   12.499</td> <td> 0.000</td> <td> 5010.417</td> <td> 6874.069</td>\n",
       "</tr>\n",
       "<tr>\n",
       "  <th>C(Clarity)[T.5]</th> <td> 7089.8345</td> <td>  535.164</td> <td>   13.248</td> <td> 0.000</td> <td> 6040.932</td> <td> 8138.737</td>\n",
       "</tr>\n",
       "<tr>\n",
       "  <th>C(Clarity)[T.6]</th> <td> 7688.9068</td> <td>  806.822</td> <td>    9.530</td> <td> 0.000</td> <td> 6107.565</td> <td> 9270.248</td>\n",
       "</tr>\n",
       "<tr>\n",
       "  <th>C(Clarity)[T.8]</th> <td> 9160.7157</td> <td>  616.563</td> <td>   14.858</td> <td> 0.000</td> <td> 7952.275</td> <td> 1.04e+04</td>\n",
       "</tr>\n",
       "<tr>\n",
       "  <th>Carat</th>           <td> 1.235e+04</td> <td>  271.137</td> <td>   45.557</td> <td> 0.000</td> <td> 1.18e+04</td> <td> 1.29e+04</td>\n",
       "</tr>\n",
       "</table><br/><br/>Notes:<br/>[1] Standard Errors are heteroscedasticity robust (HC1)"
      ],
      "text/latex": [
       "\\begin{center}\n",
       "\\begin{tabular}{lclc}\n",
       "\\toprule\n",
       "\\textbf{Dep. Variable:}    &     Price     & \\textbf{  R-squared:         } &     0.968   \\\\\n",
       "\\textbf{Model:}            &      OLS      & \\textbf{  Adj. R-squared:    } &     0.967   \\\\\n",
       "\\textbf{No. Observations:} &        211    & \\textbf{  F-statistic:       } &     765.0   \\\\\n",
       "\\textbf{Covariance Type:}  &      HC1      & \\textbf{  Prob (F-statistic):} & 6.99e-137   \\\\\n",
       "\\bottomrule\n",
       "\\end{tabular}\n",
       "\\begin{tabular}{lcccccc}\n",
       "                         & \\textbf{coef} & \\textbf{std err} & \\textbf{z} & \\textbf{P$> |$z$|$} & \\textbf{[0.025} & \\textbf{0.975]}  \\\\\n",
       "\\midrule\n",
       "\\textbf{Intercept}       &   -1.241e+04  &      699.105     &   -17.754  &         0.000        &    -1.38e+04    &     -1.1e+04     \\\\\n",
       "\\textbf{C(Clarity)[T.3]} &    4254.2767  &      454.654     &     9.357  &         0.000        &     3363.171    &     5145.383     \\\\\n",
       "\\textbf{C(Clarity)[T.4]} &    5942.2429  &      475.430     &    12.499  &         0.000        &     5010.417    &     6874.069     \\\\\n",
       "\\textbf{C(Clarity)[T.5]} &    7089.8345  &      535.164     &    13.248  &         0.000        &     6040.932    &     8138.737     \\\\\n",
       "\\textbf{C(Clarity)[T.6]} &    7688.9068  &      806.822     &     9.530  &         0.000        &     6107.565    &     9270.248     \\\\\n",
       "\\textbf{C(Clarity)[T.8]} &    9160.7157  &      616.563     &    14.858  &         0.000        &     7952.275    &     1.04e+04     \\\\\n",
       "\\textbf{Carat}           &    1.235e+04  &      271.137     &    45.557  &         0.000        &     1.18e+04    &     1.29e+04     \\\\\n",
       "\\bottomrule\n",
       "\\end{tabular}\n",
       "%\\caption{OLS Regression Results}\n",
       "\\end{center}\n",
       "\n",
       "Notes: \\newline\n",
       " [1] Standard Errors are heteroscedasticity robust (HC1)"
      ],
      "text/plain": [
       "<class 'statsmodels.iolib.summary.Summary'>\n",
       "\"\"\"\n",
       "                            OLS Regression Results                            \n",
       "==============================================================================\n",
       "Dep. Variable:                  Price   R-squared:                       0.968\n",
       "Model:                            OLS   Adj. R-squared:                  0.967\n",
       "No. Observations:                 211   F-statistic:                     765.0\n",
       "Covariance Type:                  HC1   Prob (F-statistic):          6.99e-137\n",
       "===================================================================================\n",
       "                      coef    std err          z      P>|z|      [0.025      0.975]\n",
       "-----------------------------------------------------------------------------------\n",
       "Intercept       -1.241e+04    699.105    -17.754      0.000   -1.38e+04    -1.1e+04\n",
       "C(Clarity)[T.3]  4254.2767    454.654      9.357      0.000    3363.171    5145.383\n",
       "C(Clarity)[T.4]  5942.2429    475.430     12.499      0.000    5010.417    6874.069\n",
       "C(Clarity)[T.5]  7089.8345    535.164     13.248      0.000    6040.932    8138.737\n",
       "C(Clarity)[T.6]  7688.9068    806.822      9.530      0.000    6107.565    9270.248\n",
       "C(Clarity)[T.8]  9160.7157    616.563     14.858      0.000    7952.275    1.04e+04\n",
       "Carat            1.235e+04    271.137     45.557      0.000    1.18e+04    1.29e+04\n",
       "===================================================================================\n",
       "\n",
       "Notes:\n",
       "[1] Standard Errors are heteroscedasticity robust (HC1)\n",
       "\"\"\""
      ]
     },
     "execution_count": 3,
     "metadata": {},
     "output_type": "execute_result"
    }
   ],
   "source": [
    "model_diamond.summary()"
   ]
  },
  {
   "cell_type": "markdown",
   "metadata": {},
   "source": [
    "### Prediction\n",
    "#### Model and New Data"
   ]
  },
  {
   "cell_type": "code",
   "execution_count": 4,
   "metadata": {},
   "outputs": [],
   "source": [
    "model_coffee_ts = tprstats.model(name = \"ts\", formula='cons~rpcarb+rpcinc+rpcofe', data=coffee_data)\n",
    "# model_coffee_ts_logs = tprstats.model(name = \"ts\", formula='log(cons)~log(rpcarb)+log(rpcinc)+log(rpcofe)', data=coffee_data)"
   ]
  },
  {
   "cell_type": "code",
   "execution_count": 5,
   "metadata": {},
   "outputs": [],
   "source": [
    "# new data for prediction\n",
    "Xnew_coffee =pd.DataFrame({\n",
    "    \"rpcarb\": [93, 76, 151],\n",
    "    \"rpcinc\": [24, 27, 16],\n",
    "    \"rpcofe\": [100, 95, 74]\n",
    "})"
   ]
  },
  {
   "cell_type": "markdown",
   "metadata": {},
   "source": [
    "#### Prediction Intervals"
   ]
  },
  {
   "cell_type": "code",
   "execution_count": 6,
   "metadata": {},
   "outputs": [
    {
     "data": {
      "text/html": [
       "<div>\n",
       "<style scoped>\n",
       "    .dataframe tbody tr th:only-of-type {\n",
       "        vertical-align: middle;\n",
       "    }\n",
       "\n",
       "    .dataframe tbody tr th {\n",
       "        vertical-align: top;\n",
       "    }\n",
       "\n",
       "    .dataframe thead th {\n",
       "        text-align: right;\n",
       "    }\n",
       "</style>\n",
       "<table border=\"1\" class=\"dataframe\">\n",
       "  <thead>\n",
       "    <tr style=\"text-align: right;\">\n",
       "      <th></th>\n",
       "      <th>Predicted</th>\n",
       "      <th>Lower</th>\n",
       "      <th>Upper</th>\n",
       "    </tr>\n",
       "  </thead>\n",
       "  <tbody>\n",
       "    <tr>\n",
       "      <th>0</th>\n",
       "      <td>10.143979</td>\n",
       "      <td>9.031695</td>\n",
       "      <td>11.256263</td>\n",
       "    </tr>\n",
       "    <tr>\n",
       "      <th>1</th>\n",
       "      <td>9.045275</td>\n",
       "      <td>7.915580</td>\n",
       "      <td>10.174970</td>\n",
       "    </tr>\n",
       "    <tr>\n",
       "      <th>2</th>\n",
       "      <td>14.710292</td>\n",
       "      <td>13.581088</td>\n",
       "      <td>15.839495</td>\n",
       "    </tr>\n",
       "  </tbody>\n",
       "</table>\n",
       "</div>"
      ],
      "text/plain": [
       "   Predicted      Lower      Upper\n",
       "0  10.143979   9.031695  11.256263\n",
       "1   9.045275   7.915580  10.174970\n",
       "2  14.710292  13.581088  15.839495"
      ]
     },
     "execution_count": 6,
     "metadata": {},
     "output_type": "execute_result"
    }
   ],
   "source": [
    "model_coffee_ts.prediction_intervals(Xnew_coffee)"
   ]
  },
  {
   "cell_type": "markdown",
   "metadata": {},
   "source": [
    "### Scaled Ceofficients\n",
    "Scaled coefficient including standardized coefficients and elasticities can be accessed via the `scaled_coefficients` function."
   ]
  },
  {
   "cell_type": "code",
   "execution_count": 7,
   "metadata": {},
   "outputs": [
    {
     "data": {
      "text/html": [
       "<div>\n",
       "<style scoped>\n",
       "    .dataframe tbody tr th:only-of-type {\n",
       "        vertical-align: middle;\n",
       "    }\n",
       "\n",
       "    .dataframe tbody tr th {\n",
       "        vertical-align: top;\n",
       "    }\n",
       "\n",
       "    .dataframe thead th {\n",
       "        text-align: right;\n",
       "    }\n",
       "</style>\n",
       "<table border=\"1\" class=\"dataframe\">\n",
       "  <thead>\n",
       "    <tr style=\"text-align: right;\">\n",
       "      <th></th>\n",
       "      <th>coefs</th>\n",
       "      <th>std_coefs</th>\n",
       "      <th>elasticities</th>\n",
       "    </tr>\n",
       "  </thead>\n",
       "  <tbody>\n",
       "    <tr>\n",
       "      <th>rpcarb</th>\n",
       "      <td>0.090120</td>\n",
       "      <td>1.356548</td>\n",
       "      <td>0.8475</td>\n",
       "    </tr>\n",
       "    <tr>\n",
       "      <th>rpcinc</th>\n",
       "      <td>0.123477</td>\n",
       "      <td>0.412841</td>\n",
       "      <td>0.2540</td>\n",
       "    </tr>\n",
       "    <tr>\n",
       "      <th>rpcofe</th>\n",
       "      <td>-0.012582</td>\n",
       "      <td>-0.116004</td>\n",
       "      <td>-0.1065</td>\n",
       "    </tr>\n",
       "  </tbody>\n",
       "</table>\n",
       "</div>"
      ],
      "text/plain": [
       "           coefs  std_coefs  elasticities\n",
       "rpcarb  0.090120   1.356548        0.8475\n",
       "rpcinc  0.123477   0.412841        0.2540\n",
       "rpcofe -0.012582  -0.116004       -0.1065"
      ]
     },
     "execution_count": 7,
     "metadata": {},
     "output_type": "execute_result"
    }
   ],
   "source": [
    "model_coffee_ts.scaled_coefficients()"
   ]
  },
  {
   "cell_type": "markdown",
   "metadata": {},
   "source": [
    "#### Elasticities\n",
    "To access just the elasticities, use the `elasticities` function."
   ]
  },
  {
   "cell_type": "code",
   "execution_count": 8,
   "metadata": {},
   "outputs": [
    {
     "data": {
      "text/plain": [
       "rpcarb    0.8475\n",
       "rpcinc    0.2540\n",
       "rpcofe   -0.1065\n",
       "dtype: float64"
      ]
     },
     "execution_count": 8,
     "metadata": {},
     "output_type": "execute_result"
    }
   ],
   "source": [
    "model_coffee_ts.elasticities()"
   ]
  },
  {
   "cell_type": "markdown",
   "metadata": {},
   "source": [
    "#### Standardized Coefficients\n",
    "To access just the standardized coefficients, use the `standardized_coefficients` function."
   ]
  },
  {
   "cell_type": "code",
   "execution_count": 9,
   "metadata": {},
   "outputs": [
    {
     "data": {
      "text/plain": [
       "rpcarb    1.356548\n",
       "rpcinc    0.412841\n",
       "rpcofe   -0.116004\n",
       "dtype: float64"
      ]
     },
     "execution_count": 9,
     "metadata": {},
     "output_type": "execute_result"
    }
   ],
   "source": [
    "model_coffee_ts.standardized_coefficients()"
   ]
  },
  {
   "cell_type": "markdown",
   "metadata": {},
   "source": [
    "### Plots\n",
    "#### Plot Actual vs. Fitted Values"
   ]
  },
  {
   "cell_type": "code",
   "execution_count": 10,
   "metadata": {},
   "outputs": [
    {
     "data": {
      "image/png": "[encoded data removed]",
      "text/plain": [
       "<Figure size 1000x600 with 1 Axes>"
      ]
     },
     "metadata": {},
     "output_type": "display_data"
    }
   ],
   "source": [
    "model_coffee_ts.plot_actual_fitted()"
   ]
  },
  {
   "cell_type": "markdown",
   "id": "8f028554-c8df-4866-bd5a-be392961c6cb",
   "metadata": {},
   "source": [
    "model_coffee_ts.wald_testing('(rpcofe = -0.018, rpcarb = 0.065)')"
   ]
  },
  {
   "cell_type": "code",
   "execution_count": 11,
   "metadata": {},
   "outputs": [
    {
     "data": {
      "text/plain": [
       "<class 'statsmodels.stats.contrast.ContrastResults'>\n",
       "<F test: F=6.51339338762844, p=0.0028340252639357678, df_denom=57, df_num=2>"
      ]
     },
     "execution_count": 11,
     "metadata": {},
     "output_type": "execute_result"
    }
   ],
   "source": [
    "model_coffee_ts.wald_test(r_matrix='(rpcofe = -0.018, rpcarb = 0.065)', use_f=True, scalar=True)"
   ]
  },
  {
   "cell_type": "markdown",
   "id": "a9783565",
   "metadata": {},
   "source": [
    "## Binary Choice Models"
   ]
  },
  {
   "cell_type": "code",
   "execution_count": 12,
   "id": "92a3e68b-4ff2-4dc2-b399-aa3fe449fb5e",
   "metadata": {},
   "outputs": [],
   "source": [
    "# setup\n",
    "import pandas as pd\n",
    "import tprstats\n",
    "solar = pd.read_excel('../data/Solar_Data.xlsx').dropna()\n",
    "solar_new = pd.read_excel('../data/Solar_New_Prospects.xlsx')"
   ]
  },
  {
   "cell_type": "markdown",
   "id": "6c8ac6db",
   "metadata": {},
   "source": [
    "### Tests\n",
    "\n",
    "#### Wald Test"
   ]
  },
  {
   "cell_type": "markdown",
   "id": "52edee46-b9d5-4029-93f5-43e65e603e3c",
   "metadata": {
    "scrolled": true
   },
   "source": [
    "#### Ramsey Test (RESET)"
   ]
  },
  {
   "cell_type": "code",
   "execution_count": null,
   "metadata": {},
   "outputs": [],
   "source": []
  },
  {
   "cell_type": "markdown",
   "id": "a9783565",
   "metadata": {},
   "source": [
    "## Binary Choice Models"
   ]
  },
  {
   "cell_type": "code",
   "execution_count": 13,
   "id": "92a3e68b-4ff2-4dc2-b399-aa3fe449fb5e",
   "metadata": {},
   "outputs": [],
   "source": [
    "# setup\n",
    "import pandas as pd\n",
    "import tprstats\n",
    "solar = pd.read_excel('../data/Solar_Data.xlsx').dropna()\n",
    "solar_new = pd.read_excel('../data/Solar_New_Prospects.xlsx')"
   ]
  },
  {
   "cell_type": "markdown",
   "id": "6c8ac6db",
   "metadata": {},
   "source": [
    "### Logit"
   ]
  },
  {
   "cell_type": "code",
   "execution_count": 14,
   "id": "8f028554-c8df-4866-bd5a-be392961c6cb",
   "metadata": {},
   "outputs": [
    {
     "name": "stdout",
     "output_type": "stream",
     "text": [
      "Optimization terminated successfully.\n",
      "         Current function value: 0.102926\n",
      "         Iterations 9\n"
     ]
    },
    {
     "data": {
      "text/html": [
       "<table class=\"simpletable\">\n",
       "<caption>Logit Regression Results</caption>\n",
       "<tr>\n",
       "  <th>Dep. Variable:</th>         <td>Sale</td>       <th>  No. Observations:  </th>  <td>  1500</td>  \n",
       "</tr>\n",
       "<tr>\n",
       "  <th>Model:</th>                 <td>Logit</td>      <th>  Df Residuals:      </th>  <td>  1494</td>  \n",
       "</tr>\n",
       "<tr>\n",
       "  <th>Method:</th>                 <td>MLE</td>       <th>  Df Model:          </th>  <td>     5</td>  \n",
       "</tr>\n",
       "<tr>\n",
       "  <th>Date:</th>            <td>Mon, 16 Dec 2024</td> <th>  Pseudo R-squ.:     </th>  <td>0.2847</td>  \n",
       "</tr>\n",
       "<tr>\n",
       "  <th>Time:</th>                <td>16:54:25</td>     <th>  Log-Likelihood:    </th> <td> -154.39</td> \n",
       "</tr>\n",
       "<tr>\n",
       "  <th>converged:</th>             <td>True</td>       <th>  LL-Null:           </th> <td> -215.84</td> \n",
       "</tr>\n",
       "<tr>\n",
       "  <th>Covariance Type:</th>     <td>nonrobust</td>    <th>  LLR p-value:       </th> <td>7.619e-25</td>\n",
       "</tr>\n",
       "</table>\n",
       "<table class=\"simpletable\">\n",
       "<tr>\n",
       "            <td></td>              <th>coef</th>     <th>std err</th>      <th>z</th>      <th>P>|z|</th>  <th>[0.025</th>    <th>0.975]</th>  \n",
       "</tr>\n",
       "<tr>\n",
       "  <th>Intercept</th>            <td>  -12.7445</td> <td>    4.837</td> <td>   -2.635</td> <td> 0.008</td> <td>  -22.224</td> <td>   -3.265</td>\n",
       "</tr>\n",
       "<tr>\n",
       "  <th>C(DrivesHybrid)[T.1]</th> <td>    0.9644</td> <td>    0.413</td> <td>    2.333</td> <td> 0.020</td> <td>    0.154</td> <td>    1.775</td>\n",
       "</tr>\n",
       "<tr>\n",
       "  <th>AnnualSave</th>           <td>    3.9268</td> <td>    0.649</td> <td>    6.048</td> <td> 0.000</td> <td>    2.654</td> <td>    5.199</td>\n",
       "</tr>\n",
       "<tr>\n",
       "  <th>AnnualCost</th>           <td>   -4.0989</td> <td>    1.475</td> <td>   -2.778</td> <td> 0.005</td> <td>   -6.990</td> <td>   -1.207</td>\n",
       "</tr>\n",
       "<tr>\n",
       "  <th>NearbySolar</th>          <td>    1.9421</td> <td>    0.398</td> <td>    4.884</td> <td> 0.000</td> <td>    1.163</td> <td>    2.722</td>\n",
       "</tr>\n",
       "<tr>\n",
       "  <th>HomeValue</th>            <td>    0.0178</td> <td>    0.008</td> <td>    2.192</td> <td> 0.028</td> <td>    0.002</td> <td>    0.034</td>\n",
       "</tr>\n",
       "</table>"
      ],
      "text/latex": [
       "\\begin{center}\n",
       "\\begin{tabular}{lclc}\n",
       "\\toprule\n",
       "\\textbf{Dep. Variable:}       &       Sale       & \\textbf{  No. Observations:  } &     1500    \\\\\n",
       "\\textbf{Model:}               &      Logit       & \\textbf{  Df Residuals:      } &     1494    \\\\\n",
       "\\textbf{Method:}              &       MLE        & \\textbf{  Df Model:          } &        5    \\\\\n",
       "\\textbf{Date:}                & Mon, 16 Dec 2024 & \\textbf{  Pseudo R-squ.:     } &   0.2847    \\\\\n",
       "\\textbf{Time:}                &     16:54:25     & \\textbf{  Log-Likelihood:    } &   -154.39   \\\\\n",
       "\\textbf{converged:}           &       True       & \\textbf{  LL-Null:           } &   -215.84   \\\\\n",
       "\\textbf{Covariance Type:}     &    nonrobust     & \\textbf{  LLR p-value:       } & 7.619e-25   \\\\\n",
       "\\bottomrule\n",
       "\\end{tabular}\n",
       "\\begin{tabular}{lcccccc}\n",
       "                              & \\textbf{coef} & \\textbf{std err} & \\textbf{z} & \\textbf{P$> |$z$|$} & \\textbf{[0.025} & \\textbf{0.975]}  \\\\\n",
       "\\midrule\n",
       "\\textbf{Intercept}            &     -12.7445  &        4.837     &    -2.635  &         0.008        &      -22.224    &       -3.265     \\\\\n",
       "\\textbf{C(DrivesHybrid)[T.1]} &       0.9644  &        0.413     &     2.333  &         0.020        &        0.154    &        1.775     \\\\\n",
       "\\textbf{AnnualSave}           &       3.9268  &        0.649     &     6.048  &         0.000        &        2.654    &        5.199     \\\\\n",
       "\\textbf{AnnualCost}           &      -4.0989  &        1.475     &    -2.778  &         0.005        &       -6.990    &       -1.207     \\\\\n",
       "\\textbf{NearbySolar}          &       1.9421  &        0.398     &     4.884  &         0.000        &        1.163    &        2.722     \\\\\n",
       "\\textbf{HomeValue}            &       0.0178  &        0.008     &     2.192  &         0.028        &        0.002    &        0.034     \\\\\n",
       "\\bottomrule\n",
       "\\end{tabular}\n",
       "%\\caption{Logit Regression Results}\n",
       "\\end{center}"
      ],
      "text/plain": [
       "<class 'statsmodels.iolib.summary.Summary'>\n",
       "\"\"\"\n",
       "                           Logit Regression Results                           \n",
       "==============================================================================\n",
       "Dep. Variable:                   Sale   No. Observations:                 1500\n",
       "Model:                          Logit   Df Residuals:                     1494\n",
       "Method:                           MLE   Df Model:                            5\n",
       "Date:                Mon, 16 Dec 2024   Pseudo R-squ.:                  0.2847\n",
       "Time:                        16:54:25   Log-Likelihood:                -154.39\n",
       "converged:                       True   LL-Null:                       -215.84\n",
       "Covariance Type:            nonrobust   LLR p-value:                 7.619e-25\n",
       "========================================================================================\n",
       "                           coef    std err          z      P>|z|      [0.025      0.975]\n",
       "----------------------------------------------------------------------------------------\n",
       "Intercept              -12.7445      4.837     -2.635      0.008     -22.224      -3.265\n",
       "C(DrivesHybrid)[T.1]     0.9644      0.413      2.333      0.020       0.154       1.775\n",
       "AnnualSave               3.9268      0.649      6.048      0.000       2.654       5.199\n",
       "AnnualCost              -4.0989      1.475     -2.778      0.005      -6.990      -1.207\n",
       "NearbySolar              1.9421      0.398      4.884      0.000       1.163       2.722\n",
       "HomeValue                0.0178      0.008      2.192      0.028       0.002       0.034\n",
       "========================================================================================\n",
       "\"\"\""
      ]
     },
     "execution_count": 14,
     "metadata": {},
     "output_type": "execute_result"
    }
   ],
   "source": [
    "# use C(DrivesHybrid) to test Logit works with categorical variables\n",
    "solar_logit=tprstats.model(\"logit\",formula=\"Sale~AnnualSave+AnnualCost+C(DrivesHybrid)+NearbySolar+HomeValue\",data=solar)\n",
    "solar_logit.summary()"
   ]
  },
  {
   "cell_type": "code",
   "execution_count": 15,
   "id": "52edee46-b9d5-4029-93f5-43e65e603e3c",
   "metadata": {
    "scrolled": true
   },
   "outputs": [
    {
     "data": {
      "text/plain": [
       "array([0.01617376, 0.00438152, 0.02321191, ..., 0.1497396 , 0.0078212 ,\n",
       "       0.02681689])"
      ]
     },
     "execution_count": 15,
     "metadata": {},
     "output_type": "execute_result"
    }
   ],
   "source": [
    "solar_logit.predict()"
   ]
  },
  {
   "cell_type": "code",
   "execution_count": 16,
   "id": "f3bded28-3061-4c24-868d-c2ac563cdc60",
   "metadata": {},
   "outputs": [
    {
     "name": "stdout",
     "output_type": "stream",
     "text": [
      "[1176.0, 275.0, 6.0, 43.0]\n"
     ]
    },
    {
     "data": {
      "text/html": [
       "<div>\n",
       "<style scoped>\n",
       "    .dataframe tbody tr th:only-of-type {\n",
       "        vertical-align: middle;\n",
       "    }\n",
       "\n",
       "    .dataframe tbody tr th {\n",
       "        vertical-align: top;\n",
       "    }\n",
       "\n",
       "    .dataframe thead th {\n",
       "        text-align: right;\n",
       "    }\n",
       "</style>\n",
       "<table border=\"1\" class=\"dataframe\">\n",
       "  <thead>\n",
       "    <tr style=\"text-align: right;\">\n",
       "      <th></th>\n",
       "      <th>Summary</th>\n",
       "      <th>Actual</th>\n",
       "      <th>Predicted</th>\n",
       "      <th>Frequency</th>\n",
       "    </tr>\n",
       "  </thead>\n",
       "  <tbody>\n",
       "    <tr>\n",
       "      <th>0</th>\n",
       "      <td>Correct</td>\n",
       "      <td>0</td>\n",
       "      <td>0</td>\n",
       "      <td>1176.0</td>\n",
       "    </tr>\n",
       "    <tr>\n",
       "      <th>1</th>\n",
       "      <td>Incorrect</td>\n",
       "      <td>0</td>\n",
       "      <td>1</td>\n",
       "      <td>275.0</td>\n",
       "    </tr>\n",
       "    <tr>\n",
       "      <th>2</th>\n",
       "      <td>Incorrect</td>\n",
       "      <td>1</td>\n",
       "      <td>0</td>\n",
       "      <td>6.0</td>\n",
       "    </tr>\n",
       "    <tr>\n",
       "      <th>3</th>\n",
       "      <td>Correct</td>\n",
       "      <td>1</td>\n",
       "      <td>1</td>\n",
       "      <td>43.0</td>\n",
       "    </tr>\n",
       "  </tbody>\n",
       "</table>\n",
       "</div>"
      ],
      "text/plain": [
       "     Summary  Actual  Predicted  Frequency\n",
       "0    Correct       0          0     1176.0\n",
       "1  Incorrect       0          1      275.0\n",
       "2  Incorrect       1          0        6.0\n",
       "3    Correct       1          1       43.0"
      ]
     },
     "execution_count": 16,
     "metadata": {},
     "output_type": "execute_result"
    }
   ],
   "source": [
    "solar_logit.classification_table()"
   ]
  },
  {
   "cell_type": "code",
   "execution_count": 17,
   "id": "2bce2f42",
   "metadata": {},
   "outputs": [
    {
     "name": "stdout",
     "output_type": "stream",
     "text": [
      "We create three homes: \n",
      "   AnnualSave  AnnualCost  DrivesHybrid  NearbySolar  HomeValue\n",
      "0         2.5         1.8             1            0        550\n",
      "1         1.9         1.5             0            1        675\n",
      "2         2.3         1.7             0            0        495\n",
      "Predicted Probabilities of purchase for the three homes are: \n",
      "0    0.613822\n",
      "1    0.927109\n",
      "2    0.135068\n",
      "dtype: float64\n"
     ]
    }
   ],
   "source": [
    "X_out_of_sample = pd.DataFrame({\n",
    "    \"AnnualSave\": [2.5, 1.9, 2.3],\n",
    "    \"AnnualCost\": [1.8, 1.5, 1.7],\n",
    "    \"DrivesHybrid\": [1,0,0],\n",
    "    \"NearbySolar\": [0, 1, 0],\n",
    "    \"HomeValue\": [550, 675, 495]\n",
    "})\n",
    "print(\"We create three homes: \")\n",
    "print(X_out_of_sample)\n",
    "print(\"Predicted Probabilities of purchase for the three homes are: \")\n",
    "print(solar_logit.predict(X_out_of_sample))"
   ]
  },
  {
   "cell_type": "code",
   "execution_count": 18,
   "id": "7c274f63",
   "metadata": {},
   "outputs": [
    {
     "data": {
      "text/html": [
       "<table class=\"simpletable\">\n",
       "<caption>Logit Marginal Effects</caption>\n",
       "<tr>\n",
       "  <th>Dep. Variable:</th>  <td>Sale</td>  \n",
       "</tr>\n",
       "<tr>\n",
       "  <th>Method:</th>         <td>dydx</td>  \n",
       "</tr>\n",
       "<tr>\n",
       "  <th>At:</th>            <td>overall</td>\n",
       "</tr>\n",
       "</table>\n",
       "<table class=\"simpletable\">\n",
       "<tr>\n",
       "            <th></th>              <th>dy/dx</th>    <th>std err</th>      <th>z</th>      <th>P>|z|</th>  <th>[0.025</th>    <th>0.975]</th>  \n",
       "</tr>\n",
       "<tr>\n",
       "  <th>C(DrivesHybrid)[T.1]</th> <td>    0.0249</td> <td>    0.011</td> <td>    2.312</td> <td> 0.021</td> <td>    0.004</td> <td>    0.046</td>\n",
       "</tr>\n",
       "<tr>\n",
       "  <th>AnnualSave</th>           <td>    0.1013</td> <td>    0.018</td> <td>    5.535</td> <td> 0.000</td> <td>    0.065</td> <td>    0.137</td>\n",
       "</tr>\n",
       "<tr>\n",
       "  <th>AnnualCost</th>           <td>   -0.1057</td> <td>    0.039</td> <td>   -2.721</td> <td> 0.007</td> <td>   -0.182</td> <td>   -0.030</td>\n",
       "</tr>\n",
       "<tr>\n",
       "  <th>NearbySolar</th>          <td>    0.0501</td> <td>    0.011</td> <td>    4.611</td> <td> 0.000</td> <td>    0.029</td> <td>    0.071</td>\n",
       "</tr>\n",
       "<tr>\n",
       "  <th>HomeValue</th>            <td>    0.0005</td> <td>    0.000</td> <td>    2.161</td> <td> 0.031</td> <td> 4.27e-05</td> <td>    0.001</td>\n",
       "</tr>\n",
       "</table>"
      ],
      "text/latex": [
       "\\begin{center}\n",
       "\\begin{tabular}{lc}\n",
       "\\toprule\n",
       "\\textbf{Dep. Variable:}       &      Sale       \\\\\n",
       "\\textbf{Method:}              &      dydx       \\\\\n",
       "\\textbf{At:}                  &    overall      \\\\\n",
       "\\bottomrule\n",
       "\\end{tabular}\n",
       "\\begin{tabular}{ccccccc}\n",
       "          \\textbf{}           & \\textbf{dy/dx} & \\textbf{std err} & \\textbf{z} & \\textbf{P$> |$z$|$} & \\textbf{[0.025} & \\textbf{0.975]}  \\\\\n",
       "\\midrule\n",
       "\\bottomrule\n",
       "\\end{tabular}\n",
       "\\begin{tabular}{lcccccc}\n",
       "\\textbf{C(DrivesHybrid)[T.1]} &       0.0249   &        0.011     &     2.312  &         0.021        &        0.004    &        0.046     \\\\\n",
       "\\textbf{AnnualSave}           &       0.1013   &        0.018     &     5.535  &         0.000        &        0.065    &        0.137     \\\\\n",
       "\\textbf{AnnualCost}           &      -0.1057   &        0.039     &    -2.721  &         0.007        &       -0.182    &       -0.030     \\\\\n",
       "\\textbf{NearbySolar}          &       0.0501   &        0.011     &     4.611  &         0.000        &        0.029    &        0.071     \\\\\n",
       "\\textbf{HomeValue}            &       0.0005   &        0.000     &     2.161  &         0.031        &     4.27e-05    &        0.001     \\\\\n",
       "\\bottomrule\n",
       "\\end{tabular}\n",
       "%\\caption{Logit Marginal Effects}\n",
       "\\end{center}"
      ],
      "text/plain": [
       "<class 'statsmodels.iolib.summary.Summary'>\n",
       "\"\"\"\n",
       "        Logit Marginal Effects       \n",
       "=====================================\n",
       "Dep. Variable:                   Sale\n",
       "Method:                          dydx\n",
       "At:                           overall\n",
       "========================================================================================\n",
       "                          dy/dx    std err          z      P>|z|      [0.025      0.975]\n",
       "----------------------------------------------------------------------------------------\n",
       "C(DrivesHybrid)[T.1]     0.0249      0.011      2.312      0.021       0.004       0.046\n",
       "AnnualSave               0.1013      0.018      5.535      0.000       0.065       0.137\n",
       "AnnualCost              -0.1057      0.039     -2.721      0.007      -0.182      -0.030\n",
       "NearbySolar              0.0501      0.011      4.611      0.000       0.029       0.071\n",
       "HomeValue                0.0005      0.000      2.161      0.031    4.27e-05       0.001\n",
       "========================================================================================\n",
       "\"\"\""
      ]
     },
     "execution_count": 18,
     "metadata": {},
     "output_type": "execute_result"
    }
   ],
   "source": [
    "# marginal effects\n",
    "solar_logit.marginal_effects()"
   ]
  },
  {
   "cell_type": "code",
   "execution_count": 19,
   "id": "f092f612",
   "metadata": {},
   "outputs": [
    {
     "data": {
      "text/plain": [
       "0      0.200212\n",
       "1      0.030138\n",
       "2      0.006383\n",
       "3      0.015173\n",
       "4      0.003679\n",
       "         ...   \n",
       "995    0.001549\n",
       "996    0.284837\n",
       "997    0.800973\n",
       "998    0.692739\n",
       "999    0.000486\n",
       "Length: 1000, dtype: float64"
      ]
     },
     "execution_count": 19,
     "metadata": {},
     "output_type": "execute_result"
    }
   ],
   "source": [
    "solar_logit.predict(solar_new)"
   ]
  },
  {
   "cell_type": "code",
   "execution_count": 20,
   "id": "49c87c2f",
   "metadata": {},
   "outputs": [
    {
     "data": {
      "text/html": [
       "<div>\n",
       "<style scoped>\n",
       "    .dataframe tbody tr th:only-of-type {\n",
       "        vertical-align: middle;\n",
       "    }\n",
       "\n",
       "    .dataframe tbody tr th {\n",
       "        vertical-align: top;\n",
       "    }\n",
       "\n",
       "    .dataframe thead th {\n",
       "        text-align: right;\n",
       "    }\n",
       "</style>\n",
       "<table border=\"1\" class=\"dataframe\">\n",
       "  <thead>\n",
       "    <tr style=\"text-align: right;\">\n",
       "      <th></th>\n",
       "      <th>Customer</th>\n",
       "      <th>AnnualSave</th>\n",
       "      <th>ElecBill</th>\n",
       "      <th>AnnualCost</th>\n",
       "      <th>DrivesHybrid</th>\n",
       "      <th>NearbySolar</th>\n",
       "      <th>HomeValue</th>\n",
       "      <th>PredictionNew</th>\n",
       "      <th>ProspectRank</th>\n",
       "    </tr>\n",
       "  </thead>\n",
       "  <tbody>\n",
       "    <tr>\n",
       "      <th>0</th>\n",
       "      <td>1</td>\n",
       "      <td>1.887929</td>\n",
       "      <td>1.823863</td>\n",
       "      <td>1.735912</td>\n",
       "      <td>0</td>\n",
       "      <td>1</td>\n",
       "      <td>511.553652</td>\n",
       "      <td>0.200212</td>\n",
       "      <td>661.0</td>\n",
       "    </tr>\n",
       "    <tr>\n",
       "      <th>1</th>\n",
       "      <td>2</td>\n",
       "      <td>1.742936</td>\n",
       "      <td>1.839178</td>\n",
       "      <td>1.706554</td>\n",
       "      <td>0</td>\n",
       "      <td>0</td>\n",
       "      <td>528.648069</td>\n",
       "      <td>0.030138</td>\n",
       "      <td>316.0</td>\n",
       "    </tr>\n",
       "    <tr>\n",
       "      <th>2</th>\n",
       "      <td>3</td>\n",
       "      <td>1.559239</td>\n",
       "      <td>1.208948</td>\n",
       "      <td>1.900877</td>\n",
       "      <td>0</td>\n",
       "      <td>0</td>\n",
       "      <td>525.362779</td>\n",
       "      <td>0.006383</td>\n",
       "      <td>117.0</td>\n",
       "    </tr>\n",
       "    <tr>\n",
       "      <th>3</th>\n",
       "      <td>4</td>\n",
       "      <td>1.673532</td>\n",
       "      <td>1.386376</td>\n",
       "      <td>1.824364</td>\n",
       "      <td>0</td>\n",
       "      <td>0</td>\n",
       "      <td>531.669636</td>\n",
       "      <td>0.015173</td>\n",
       "      <td>211.0</td>\n",
       "    </tr>\n",
       "    <tr>\n",
       "      <th>4</th>\n",
       "      <td>5</td>\n",
       "      <td>1.304396</td>\n",
       "      <td>1.661826</td>\n",
       "      <td>1.799923</td>\n",
       "      <td>0</td>\n",
       "      <td>0</td>\n",
       "      <td>527.229859</td>\n",
       "      <td>0.003679</td>\n",
       "      <td>71.0</td>\n",
       "    </tr>\n",
       "    <tr>\n",
       "      <th>...</th>\n",
       "      <td>...</td>\n",
       "      <td>...</td>\n",
       "      <td>...</td>\n",
       "      <td>...</td>\n",
       "      <td>...</td>\n",
       "      <td>...</td>\n",
       "      <td>...</td>\n",
       "      <td>...</td>\n",
       "      <td>...</td>\n",
       "    </tr>\n",
       "    <tr>\n",
       "      <th>995</th>\n",
       "      <td>996</td>\n",
       "      <td>1.255306</td>\n",
       "      <td>1.459505</td>\n",
       "      <td>1.969996</td>\n",
       "      <td>0</td>\n",
       "      <td>0</td>\n",
       "      <td>528.512382</td>\n",
       "      <td>0.001549</td>\n",
       "      <td>24.0</td>\n",
       "    </tr>\n",
       "    <tr>\n",
       "      <th>996</th>\n",
       "      <td>997</td>\n",
       "      <td>2.523308</td>\n",
       "      <td>2.628325</td>\n",
       "      <td>1.828736</td>\n",
       "      <td>0</td>\n",
       "      <td>0</td>\n",
       "      <td>527.932617</td>\n",
       "      <td>0.284837</td>\n",
       "      <td>724.0</td>\n",
       "    </tr>\n",
       "    <tr>\n",
       "      <th>997</th>\n",
       "      <td>998</td>\n",
       "      <td>3.137109</td>\n",
       "      <td>2.328434</td>\n",
       "      <td>1.845495</td>\n",
       "      <td>0</td>\n",
       "      <td>0</td>\n",
       "      <td>526.328841</td>\n",
       "      <td>0.800973</td>\n",
       "      <td>992.0</td>\n",
       "    </tr>\n",
       "    <tr>\n",
       "      <th>998</th>\n",
       "      <td>999</td>\n",
       "      <td>2.809793</td>\n",
       "      <td>2.741628</td>\n",
       "      <td>2.076419</td>\n",
       "      <td>1</td>\n",
       "      <td>0</td>\n",
       "      <td>564.925589</td>\n",
       "      <td>0.692739</td>\n",
       "      <td>947.0</td>\n",
       "    </tr>\n",
       "    <tr>\n",
       "      <th>999</th>\n",
       "      <td>1000</td>\n",
       "      <td>0.708387</td>\n",
       "      <td>0.735625</td>\n",
       "      <td>1.641288</td>\n",
       "      <td>0</td>\n",
       "      <td>0</td>\n",
       "      <td>508.298030</td>\n",
       "      <td>0.000486</td>\n",
       "      <td>5.0</td>\n",
       "    </tr>\n",
       "  </tbody>\n",
       "</table>\n",
       "<p>1000 rows × 9 columns</p>\n",
       "</div>"
      ],
      "text/plain": [
       "     Customer  AnnualSave  ElecBill  AnnualCost  DrivesHybrid  NearbySolar  \\\n",
       "0           1    1.887929  1.823863    1.735912             0            1   \n",
       "1           2    1.742936  1.839178    1.706554             0            0   \n",
       "2           3    1.559239  1.208948    1.900877             0            0   \n",
       "3           4    1.673532  1.386376    1.824364             0            0   \n",
       "4           5    1.304396  1.661826    1.799923             0            0   \n",
       "..        ...         ...       ...         ...           ...          ...   \n",
       "995       996    1.255306  1.459505    1.969996             0            0   \n",
       "996       997    2.523308  2.628325    1.828736             0            0   \n",
       "997       998    3.137109  2.328434    1.845495             0            0   \n",
       "998       999    2.809793  2.741628    2.076419             1            0   \n",
       "999      1000    0.708387  0.735625    1.641288             0            0   \n",
       "\n",
       "      HomeValue  PredictionNew  ProspectRank  \n",
       "0    511.553652       0.200212         661.0  \n",
       "1    528.648069       0.030138         316.0  \n",
       "2    525.362779       0.006383         117.0  \n",
       "3    531.669636       0.015173         211.0  \n",
       "4    527.229859       0.003679          71.0  \n",
       "..          ...            ...           ...  \n",
       "995  528.512382       0.001549          24.0  \n",
       "996  527.932617       0.284837         724.0  \n",
       "997  526.328841       0.800973         992.0  \n",
       "998  564.925589       0.692739         947.0  \n",
       "999  508.298030       0.000486           5.0  \n",
       "\n",
       "[1000 rows x 9 columns]"
      ]
     },
     "execution_count": 20,
     "metadata": {},
     "output_type": "execute_result"
    }
   ],
   "source": [
    "solar_logit.predict_and_rank(solar_new)"
   ]
  },
  {
   "cell_type": "markdown",
   "id": "63789848",
   "metadata": {},
   "source": [
    "### Probit"
   ]
  },
  {
   "cell_type": "code",
   "execution_count": 21,
   "id": "a4dd6ee6",
   "metadata": {},
   "outputs": [
    {
     "name": "stdout",
     "output_type": "stream",
     "text": [
      "Optimization terminated successfully.\n",
      "         Current function value: 0.100579\n",
      "         Iterations 9\n"
     ]
    }
   ],
   "source": [
    "solar_probit=tprstats.model(\"probit\",formula=\"Sale~AnnualSave+AnnualCost+C(DrivesHybrid)+NearbySolar+HomeValue\",data=solar)"
   ]
  },
  {
   "cell_type": "code",
   "execution_count": 22,
   "id": "7747c224",
   "metadata": {},
   "outputs": [
    {
     "data": {
      "text/html": [
       "<table class=\"simpletable\">\n",
       "<caption>Probit Regression Results</caption>\n",
       "<tr>\n",
       "  <th>Dep. Variable:</th>         <td>Sale</td>       <th>  No. Observations:  </th>  <td>  1500</td>  \n",
       "</tr>\n",
       "<tr>\n",
       "  <th>Model:</th>                <td>Probit</td>      <th>  Df Residuals:      </th>  <td>  1494</td>  \n",
       "</tr>\n",
       "<tr>\n",
       "  <th>Method:</th>                 <td>MLE</td>       <th>  Df Model:          </th>  <td>     5</td>  \n",
       "</tr>\n",
       "<tr>\n",
       "  <th>Date:</th>            <td>Mon, 16 Dec 2024</td> <th>  Pseudo R-squ.:     </th>  <td>0.3010</td>  \n",
       "</tr>\n",
       "<tr>\n",
       "  <th>Time:</th>                <td>16:54:25</td>     <th>  Log-Likelihood:    </th> <td> -150.87</td> \n",
       "</tr>\n",
       "<tr>\n",
       "  <th>converged:</th>             <td>True</td>       <th>  LL-Null:           </th> <td> -215.84</td> \n",
       "</tr>\n",
       "<tr>\n",
       "  <th>Covariance Type:</th>     <td>nonrobust</td>    <th>  LLR p-value:       </th> <td>2.450e-26</td>\n",
       "</tr>\n",
       "</table>\n",
       "<table class=\"simpletable\">\n",
       "<tr>\n",
       "            <td></td>              <th>coef</th>     <th>std err</th>      <th>z</th>      <th>P>|z|</th>  <th>[0.025</th>    <th>0.975]</th>  \n",
       "</tr>\n",
       "<tr>\n",
       "  <th>Intercept</th>            <td>   -6.5365</td> <td>    2.307</td> <td>   -2.833</td> <td> 0.005</td> <td>  -11.058</td> <td>   -2.015</td>\n",
       "</tr>\n",
       "<tr>\n",
       "  <th>C(DrivesHybrid)[T.1]</th> <td>    0.5292</td> <td>    0.205</td> <td>    2.581</td> <td> 0.010</td> <td>    0.127</td> <td>    0.931</td>\n",
       "</tr>\n",
       "<tr>\n",
       "  <th>AnnualSave</th>           <td>    1.9807</td> <td>    0.314</td> <td>    6.310</td> <td> 0.000</td> <td>    1.365</td> <td>    2.596</td>\n",
       "</tr>\n",
       "<tr>\n",
       "  <th>AnnualCost</th>           <td>   -2.1618</td> <td>    0.741</td> <td>   -2.917</td> <td> 0.004</td> <td>   -3.614</td> <td>   -0.709</td>\n",
       "</tr>\n",
       "<tr>\n",
       "  <th>NearbySolar</th>          <td>    0.9933</td> <td>    0.197</td> <td>    5.044</td> <td> 0.000</td> <td>    0.607</td> <td>    1.379</td>\n",
       "</tr>\n",
       "<tr>\n",
       "  <th>HomeValue</th>            <td>    0.0093</td> <td>    0.004</td> <td>    2.387</td> <td> 0.017</td> <td>    0.002</td> <td>    0.017</td>\n",
       "</tr>\n",
       "</table>"
      ],
      "text/latex": [
       "\\begin{center}\n",
       "\\begin{tabular}{lclc}\n",
       "\\toprule\n",
       "\\textbf{Dep. Variable:}       &       Sale       & \\textbf{  No. Observations:  } &     1500    \\\\\n",
       "\\textbf{Model:}               &      Probit      & \\textbf{  Df Residuals:      } &     1494    \\\\\n",
       "\\textbf{Method:}              &       MLE        & \\textbf{  Df Model:          } &        5    \\\\\n",
       "\\textbf{Date:}                & Mon, 16 Dec 2024 & \\textbf{  Pseudo R-squ.:     } &   0.3010    \\\\\n",
       "\\textbf{Time:}                &     16:54:25     & \\textbf{  Log-Likelihood:    } &   -150.87   \\\\\n",
       "\\textbf{converged:}           &       True       & \\textbf{  LL-Null:           } &   -215.84   \\\\\n",
       "\\textbf{Covariance Type:}     &    nonrobust     & \\textbf{  LLR p-value:       } & 2.450e-26   \\\\\n",
       "\\bottomrule\n",
       "\\end{tabular}\n",
       "\\begin{tabular}{lcccccc}\n",
       "                              & \\textbf{coef} & \\textbf{std err} & \\textbf{z} & \\textbf{P$> |$z$|$} & \\textbf{[0.025} & \\textbf{0.975]}  \\\\\n",
       "\\midrule\n",
       "\\textbf{Intercept}            &      -6.5365  &        2.307     &    -2.833  &         0.005        &      -11.058    &       -2.015     \\\\\n",
       "\\textbf{C(DrivesHybrid)[T.1]} &       0.5292  &        0.205     &     2.581  &         0.010        &        0.127    &        0.931     \\\\\n",
       "\\textbf{AnnualSave}           &       1.9807  &        0.314     &     6.310  &         0.000        &        1.365    &        2.596     \\\\\n",
       "\\textbf{AnnualCost}           &      -2.1618  &        0.741     &    -2.917  &         0.004        &       -3.614    &       -0.709     \\\\\n",
       "\\textbf{NearbySolar}          &       0.9933  &        0.197     &     5.044  &         0.000        &        0.607    &        1.379     \\\\\n",
       "\\textbf{HomeValue}            &       0.0093  &        0.004     &     2.387  &         0.017        &        0.002    &        0.017     \\\\\n",
       "\\bottomrule\n",
       "\\end{tabular}\n",
       "%\\caption{Probit Regression Results}\n",
       "\\end{center}"
      ],
      "text/plain": [
       "<class 'statsmodels.iolib.summary.Summary'>\n",
       "\"\"\"\n",
       "                          Probit Regression Results                           \n",
       "==============================================================================\n",
       "Dep. Variable:                   Sale   No. Observations:                 1500\n",
       "Model:                         Probit   Df Residuals:                     1494\n",
       "Method:                           MLE   Df Model:                            5\n",
       "Date:                Mon, 16 Dec 2024   Pseudo R-squ.:                  0.3010\n",
       "Time:                        16:54:25   Log-Likelihood:                -150.87\n",
       "converged:                       True   LL-Null:                       -215.84\n",
       "Covariance Type:            nonrobust   LLR p-value:                 2.450e-26\n",
       "========================================================================================\n",
       "                           coef    std err          z      P>|z|      [0.025      0.975]\n",
       "----------------------------------------------------------------------------------------\n",
       "Intercept               -6.5365      2.307     -2.833      0.005     -11.058      -2.015\n",
       "C(DrivesHybrid)[T.1]     0.5292      0.205      2.581      0.010       0.127       0.931\n",
       "AnnualSave               1.9807      0.314      6.310      0.000       1.365       2.596\n",
       "AnnualCost              -2.1618      0.741     -2.917      0.004      -3.614      -0.709\n",
       "NearbySolar              0.9933      0.197      5.044      0.000       0.607       1.379\n",
       "HomeValue                0.0093      0.004      2.387      0.017       0.002       0.017\n",
       "========================================================================================\n",
       "\"\"\""
      ]
     },
     "execution_count": 22,
     "metadata": {},
     "output_type": "execute_result"
    }
   ],
   "source": [
    "solar_probit.summary()"
   ]
  },
  {
   "cell_type": "code",
   "execution_count": 23,
   "id": "222821ba",
   "metadata": {},
   "outputs": [
    {
     "data": {
      "text/plain": [
       "array([0.01471621, 0.00226384, 0.02421279, ..., 0.16397987, 0.00457754,\n",
       "       0.02389391])"
      ]
     },
     "execution_count": 23,
     "metadata": {},
     "output_type": "execute_result"
    }
   ],
   "source": [
    "solar_probit.predict()"
   ]
  },
  {
   "cell_type": "code",
   "execution_count": 24,
   "id": "0d8475eb",
   "metadata": {},
   "outputs": [
    {
     "name": "stdout",
     "output_type": "stream",
     "text": [
      "Predicted Probabilities of purchase for the three synthetic homes in X_out_of_sample using probit.predict:\n",
      "0    0.561305\n",
      "1    0.892098\n",
      "2    0.143439\n",
      "dtype: float64\n"
     ]
    }
   ],
   "source": [
    "print(\"Predicted Probabilities of purchase for the three synthetic homes in X_out_of_sample using probit.predict:\")\n",
    "print(solar_probit.predict(X_out_of_sample))"
   ]
  },
  {
   "cell_type": "code",
   "execution_count": 25,
   "id": "4e146f9a",
   "metadata": {},
   "outputs": [
    {
     "name": "stdout",
     "output_type": "stream",
     "text": [
      "[1168.0, 283.0, 6.0, 43.0]\n"
     ]
    },
    {
     "data": {
      "text/html": [
       "<div>\n",
       "<style scoped>\n",
       "    .dataframe tbody tr th:only-of-type {\n",
       "        vertical-align: middle;\n",
       "    }\n",
       "\n",
       "    .dataframe tbody tr th {\n",
       "        vertical-align: top;\n",
       "    }\n",
       "\n",
       "    .dataframe thead th {\n",
       "        text-align: right;\n",
       "    }\n",
       "</style>\n",
       "<table border=\"1\" class=\"dataframe\">\n",
       "  <thead>\n",
       "    <tr style=\"text-align: right;\">\n",
       "      <th></th>\n",
       "      <th>Summary</th>\n",
       "      <th>Actual</th>\n",
       "      <th>Predicted</th>\n",
       "      <th>Frequency</th>\n",
       "    </tr>\n",
       "  </thead>\n",
       "  <tbody>\n",
       "    <tr>\n",
       "      <th>0</th>\n",
       "      <td>Correct</td>\n",
       "      <td>0</td>\n",
       "      <td>0</td>\n",
       "      <td>1168.0</td>\n",
       "    </tr>\n",
       "    <tr>\n",
       "      <th>1</th>\n",
       "      <td>Incorrect</td>\n",
       "      <td>0</td>\n",
       "      <td>1</td>\n",
       "      <td>283.0</td>\n",
       "    </tr>\n",
       "    <tr>\n",
       "      <th>2</th>\n",
       "      <td>Incorrect</td>\n",
       "      <td>1</td>\n",
       "      <td>0</td>\n",
       "      <td>6.0</td>\n",
       "    </tr>\n",
       "    <tr>\n",
       "      <th>3</th>\n",
       "      <td>Correct</td>\n",
       "      <td>1</td>\n",
       "      <td>1</td>\n",
       "      <td>43.0</td>\n",
       "    </tr>\n",
       "  </tbody>\n",
       "</table>\n",
       "</div>"
      ],
      "text/plain": [
       "     Summary  Actual  Predicted  Frequency\n",
       "0    Correct       0          0     1168.0\n",
       "1  Incorrect       0          1      283.0\n",
       "2  Incorrect       1          0        6.0\n",
       "3    Correct       1          1       43.0"
      ]
     },
     "execution_count": 25,
     "metadata": {},
     "output_type": "execute_result"
    }
   ],
   "source": [
    "solar_probit.classification_table()"
   ]
  },
  {
   "cell_type": "code",
   "execution_count": 26,
   "id": "2cc877f8",
   "metadata": {},
   "outputs": [
    {
     "data": {
      "text/html": [
       "<table class=\"simpletable\">\n",
       "<caption>Probit Marginal Effects</caption>\n",
       "<tr>\n",
       "  <th>Dep. Variable:</th>  <td>Sale</td>  \n",
       "</tr>\n",
       "<tr>\n",
       "  <th>Method:</th>         <td>dydx</td>  \n",
       "</tr>\n",
       "<tr>\n",
       "  <th>At:</th>            <td>overall</td>\n",
       "</tr>\n",
       "</table>\n",
       "<table class=\"simpletable\">\n",
       "<tr>\n",
       "            <th></th>              <th>dy/dx</th>    <th>std err</th>      <th>z</th>      <th>P>|z|</th>  <th>[0.025</th>    <th>0.975]</th>  \n",
       "</tr>\n",
       "<tr>\n",
       "  <th>C(DrivesHybrid)[T.1]</th> <td>    0.0274</td> <td>    0.011</td> <td>    2.556</td> <td> 0.011</td> <td>    0.006</td> <td>    0.048</td>\n",
       "</tr>\n",
       "<tr>\n",
       "  <th>AnnualSave</th>           <td>    0.1026</td> <td>    0.018</td> <td>    5.784</td> <td> 0.000</td> <td>    0.068</td> <td>    0.137</td>\n",
       "</tr>\n",
       "<tr>\n",
       "  <th>AnnualCost</th>           <td>   -0.1120</td> <td>    0.039</td> <td>   -2.866</td> <td> 0.004</td> <td>   -0.189</td> <td>   -0.035</td>\n",
       "</tr>\n",
       "<tr>\n",
       "  <th>NearbySolar</th>          <td>    0.0514</td> <td>    0.011</td> <td>    4.784</td> <td> 0.000</td> <td>    0.030</td> <td>    0.073</td>\n",
       "</tr>\n",
       "<tr>\n",
       "  <th>HomeValue</th>            <td>    0.0005</td> <td>    0.000</td> <td>    2.356</td> <td> 0.018</td> <td> 8.07e-05</td> <td>    0.001</td>\n",
       "</tr>\n",
       "</table>"
      ],
      "text/latex": [
       "\\begin{center}\n",
       "\\begin{tabular}{lc}\n",
       "\\toprule\n",
       "\\textbf{Dep. Variable:}       &      Sale       \\\\\n",
       "\\textbf{Method:}              &      dydx       \\\\\n",
       "\\textbf{At:}                  &    overall      \\\\\n",
       "\\bottomrule\n",
       "\\end{tabular}\n",
       "\\begin{tabular}{ccccccc}\n",
       "          \\textbf{}           & \\textbf{dy/dx} & \\textbf{std err} & \\textbf{z} & \\textbf{P$> |$z$|$} & \\textbf{[0.025} & \\textbf{0.975]}  \\\\\n",
       "\\midrule\n",
       "\\bottomrule\n",
       "\\end{tabular}\n",
       "\\begin{tabular}{lcccccc}\n",
       "\\textbf{C(DrivesHybrid)[T.1]} &       0.0274   &        0.011     &     2.556  &         0.011        &        0.006    &        0.048     \\\\\n",
       "\\textbf{AnnualSave}           &       0.1026   &        0.018     &     5.784  &         0.000        &        0.068    &        0.137     \\\\\n",
       "\\textbf{AnnualCost}           &      -0.1120   &        0.039     &    -2.866  &         0.004        &       -0.189    &       -0.035     \\\\\n",
       "\\textbf{NearbySolar}          &       0.0514   &        0.011     &     4.784  &         0.000        &        0.030    &        0.073     \\\\\n",
       "\\textbf{HomeValue}            &       0.0005   &        0.000     &     2.356  &         0.018        &     8.07e-05    &        0.001     \\\\\n",
       "\\bottomrule\n",
       "\\end{tabular}\n",
       "%\\caption{Probit Marginal Effects}\n",
       "\\end{center}"
      ],
      "text/plain": [
       "<class 'statsmodels.iolib.summary.Summary'>\n",
       "\"\"\"\n",
       "       Probit Marginal Effects       \n",
       "=====================================\n",
       "Dep. Variable:                   Sale\n",
       "Method:                          dydx\n",
       "At:                           overall\n",
       "========================================================================================\n",
       "                          dy/dx    std err          z      P>|z|      [0.025      0.975]\n",
       "----------------------------------------------------------------------------------------\n",
       "C(DrivesHybrid)[T.1]     0.0274      0.011      2.556      0.011       0.006       0.048\n",
       "AnnualSave               0.1026      0.018      5.784      0.000       0.068       0.137\n",
       "AnnualCost              -0.1120      0.039     -2.866      0.004      -0.189      -0.035\n",
       "NearbySolar              0.0514      0.011      4.784      0.000       0.030       0.073\n",
       "HomeValue                0.0005      0.000      2.356      0.018    8.07e-05       0.001\n",
       "========================================================================================\n",
       "\"\"\""
      ]
     },
     "execution_count": 26,
     "metadata": {},
     "output_type": "execute_result"
    }
   ],
   "source": [
    "solar_probit.marginal_effects()"
   ]
  },
  {
   "cell_type": "code",
   "execution_count": 27,
   "id": "4a82f52c",
   "metadata": {},
   "outputs": [
    {
     "data": {
      "text/html": [
       "<div>\n",
       "<style scoped>\n",
       "    .dataframe tbody tr th:only-of-type {\n",
       "        vertical-align: middle;\n",
       "    }\n",
       "\n",
       "    .dataframe tbody tr th {\n",
       "        vertical-align: top;\n",
       "    }\n",
       "\n",
       "    .dataframe thead th {\n",
       "        text-align: right;\n",
       "    }\n",
       "</style>\n",
       "<table border=\"1\" class=\"dataframe\">\n",
       "  <thead>\n",
       "    <tr style=\"text-align: right;\">\n",
       "      <th></th>\n",
       "      <th>Customer</th>\n",
       "      <th>AnnualSave</th>\n",
       "      <th>ElecBill</th>\n",
       "      <th>AnnualCost</th>\n",
       "      <th>DrivesHybrid</th>\n",
       "      <th>NearbySolar</th>\n",
       "      <th>HomeValue</th>\n",
       "      <th>PredictionNew</th>\n",
       "      <th>ProspectRank</th>\n",
       "    </tr>\n",
       "  </thead>\n",
       "  <tbody>\n",
       "    <tr>\n",
       "      <th>0</th>\n",
       "      <td>1</td>\n",
       "      <td>1.887929</td>\n",
       "      <td>1.823863</td>\n",
       "      <td>1.735912</td>\n",
       "      <td>0</td>\n",
       "      <td>1</td>\n",
       "      <td>511.553652</td>\n",
       "      <td>0.208389</td>\n",
       "      <td>666.0</td>\n",
       "    </tr>\n",
       "    <tr>\n",
       "      <th>1</th>\n",
       "      <td>2</td>\n",
       "      <td>1.742936</td>\n",
       "      <td>1.839178</td>\n",
       "      <td>1.706554</td>\n",
       "      <td>0</td>\n",
       "      <td>0</td>\n",
       "      <td>528.648069</td>\n",
       "      <td>0.030710</td>\n",
       "      <td>318.0</td>\n",
       "    </tr>\n",
       "    <tr>\n",
       "      <th>2</th>\n",
       "      <td>3</td>\n",
       "      <td>1.559239</td>\n",
       "      <td>1.208948</td>\n",
       "      <td>1.900877</td>\n",
       "      <td>0</td>\n",
       "      <td>0</td>\n",
       "      <td>525.362779</td>\n",
       "      <td>0.003628</td>\n",
       "      <td>116.0</td>\n",
       "    </tr>\n",
       "    <tr>\n",
       "      <th>3</th>\n",
       "      <td>4</td>\n",
       "      <td>1.673532</td>\n",
       "      <td>1.386376</td>\n",
       "      <td>1.824364</td>\n",
       "      <td>0</td>\n",
       "      <td>0</td>\n",
       "      <td>531.669636</td>\n",
       "      <td>0.012723</td>\n",
       "      <td>213.0</td>\n",
       "    </tr>\n",
       "    <tr>\n",
       "      <th>4</th>\n",
       "      <td>5</td>\n",
       "      <td>1.304396</td>\n",
       "      <td>1.661826</td>\n",
       "      <td>1.799923</td>\n",
       "      <td>0</td>\n",
       "      <td>0</td>\n",
       "      <td>527.229859</td>\n",
       "      <td>0.001568</td>\n",
       "      <td>73.0</td>\n",
       "    </tr>\n",
       "    <tr>\n",
       "      <th>...</th>\n",
       "      <td>...</td>\n",
       "      <td>...</td>\n",
       "      <td>...</td>\n",
       "      <td>...</td>\n",
       "      <td>...</td>\n",
       "      <td>...</td>\n",
       "      <td>...</td>\n",
       "      <td>...</td>\n",
       "      <td>...</td>\n",
       "    </tr>\n",
       "    <tr>\n",
       "      <th>995</th>\n",
       "      <td>996</td>\n",
       "      <td>1.255306</td>\n",
       "      <td>1.459505</td>\n",
       "      <td>1.969996</td>\n",
       "      <td>0</td>\n",
       "      <td>0</td>\n",
       "      <td>528.512382</td>\n",
       "      <td>0.000328</td>\n",
       "      <td>22.0</td>\n",
       "    </tr>\n",
       "    <tr>\n",
       "      <th>996</th>\n",
       "      <td>997</td>\n",
       "      <td>2.523308</td>\n",
       "      <td>2.628325</td>\n",
       "      <td>1.828736</td>\n",
       "      <td>0</td>\n",
       "      <td>0</td>\n",
       "      <td>527.932617</td>\n",
       "      <td>0.275735</td>\n",
       "      <td>721.0</td>\n",
       "    </tr>\n",
       "    <tr>\n",
       "      <th>997</th>\n",
       "      <td>998</td>\n",
       "      <td>3.137109</td>\n",
       "      <td>2.328434</td>\n",
       "      <td>1.845495</td>\n",
       "      <td>0</td>\n",
       "      <td>0</td>\n",
       "      <td>526.328841</td>\n",
       "      <td>0.715349</td>\n",
       "      <td>992.0</td>\n",
       "    </tr>\n",
       "    <tr>\n",
       "      <th>998</th>\n",
       "      <td>999</td>\n",
       "      <td>2.809793</td>\n",
       "      <td>2.741628</td>\n",
       "      <td>2.076419</td>\n",
       "      <td>1</td>\n",
       "      <td>0</td>\n",
       "      <td>564.925589</td>\n",
       "      <td>0.621247</td>\n",
       "      <td>953.0</td>\n",
       "    </tr>\n",
       "    <tr>\n",
       "      <th>999</th>\n",
       "      <td>1000</td>\n",
       "      <td>0.708387</td>\n",
       "      <td>0.735625</td>\n",
       "      <td>1.641288</td>\n",
       "      <td>0</td>\n",
       "      <td>0</td>\n",
       "      <td>508.298030</td>\n",
       "      <td>0.000036</td>\n",
       "      <td>5.0</td>\n",
       "    </tr>\n",
       "  </tbody>\n",
       "</table>\n",
       "<p>1000 rows × 9 columns</p>\n",
       "</div>"
      ],
      "text/plain": [
       "     Customer  AnnualSave  ElecBill  AnnualCost  DrivesHybrid  NearbySolar  \\\n",
       "0           1    1.887929  1.823863    1.735912             0            1   \n",
       "1           2    1.742936  1.839178    1.706554             0            0   \n",
       "2           3    1.559239  1.208948    1.900877             0            0   \n",
       "3           4    1.673532  1.386376    1.824364             0            0   \n",
       "4           5    1.304396  1.661826    1.799923             0            0   \n",
       "..        ...         ...       ...         ...           ...          ...   \n",
       "995       996    1.255306  1.459505    1.969996             0            0   \n",
       "996       997    2.523308  2.628325    1.828736             0            0   \n",
       "997       998    3.137109  2.328434    1.845495             0            0   \n",
       "998       999    2.809793  2.741628    2.076419             1            0   \n",
       "999      1000    0.708387  0.735625    1.641288             0            0   \n",
       "\n",
       "      HomeValue  PredictionNew  ProspectRank  \n",
       "0    511.553652       0.208389         666.0  \n",
       "1    528.648069       0.030710         318.0  \n",
       "2    525.362779       0.003628         116.0  \n",
       "3    531.669636       0.012723         213.0  \n",
       "4    527.229859       0.001568          73.0  \n",
       "..          ...            ...           ...  \n",
       "995  528.512382       0.000328          22.0  \n",
       "996  527.932617       0.275735         721.0  \n",
       "997  526.328841       0.715349         992.0  \n",
       "998  564.925589       0.621247         953.0  \n",
       "999  508.298030       0.000036           5.0  \n",
       "\n",
       "[1000 rows x 9 columns]"
      ]
     },
     "execution_count": 27,
     "metadata": {},
     "output_type": "execute_result"
    }
   ],
   "source": [
    "solar_probit.predict_and_rank(solar_new)"
   ]
  }
 ],
 "metadata": {
  "kernelspec": {
   "display_name": "default",
   "language": "python",
   "name": "python3"
  },
  "language_info": {
   "codemirror_mode": {
    "name": "ipython",
    "version": 3
   },
   "file_extension": ".py",
   "mimetype": "text/x-python",
   "name": "python",
   "nbconvert_exporter": "python",
   "pygments_lexer": "ipython3",
   "version": "3.12.7"
  }
 },
 "nbformat": 4,
 "nbformat_minor": 4
}
