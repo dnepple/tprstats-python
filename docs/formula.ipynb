{
 "cells": [
  {
   "cell_type": "markdown",
   "metadata": {},
   "source": [
    "# Formula Notation\n",
    "This document provides a brief guide to writing Formulas. Formulas are provided via the [Formulaic Python Package](https://matthewwardrop.github.io/formulaic/latest/).\n",
    "\n",
    "For the curious, the notation used in formulas is based on Wilkinson notation and was developed by Wilkinson and Rogers in their paper [Symbolic Description of Factorial Models for Analysis of Variance](https://www.jstor.org/stable/2346786).\n",
    "\n",
    "## Basic Notation\n",
    "Formulas are of the general form `formula = 'y ~ x + a + b'` where y is referred to as the response variable or depedent variable and x, a and b are referred to as the regressors or independent variables.\n",
    "\n",
    "Notice that a tilde `~` is used instead of an equal sign `=`. Regressors are seperated by a plus sign ` + `.\n",
    "\n",
    "## Transformations\n",
    "Formulas can also be used to transform data. \n",
    "\n",
    "To take the log of a variable, write `log(x)` as in `formula = 'y ~ log(x) + a + b'`.\n",
    "\n",
    "The following functions are available to use inside of formula:\n",
    "- log\n",
    "- exp\n",
    "- floor\n",
    "- ceil\n",
    "- trunc\n",
    "- absolute\n",
    "\n",
    "## Indicator Variables for Categorical Variables\n",
    "To use categorical variables in a regression, the variables must be recoded into seperate indicator variables for each category. Formulas make recoding categorical variables easy.\n",
    "\n",
    "To use a categorical variable in a regression, write `C(X)` as in `formula = 'y ~ C(X) + a + b'`. This will automatically create indicator variables for each category in X.  \n",
    "\n",
    "To specify the reference category, write `C(X, contr.treatment(\"x\"))` where x is the name of the desired reference category in X.\n",
    "\n",
    " For more details on Categorical Encoding, see the Formulaic documentation on [Categorical Encoding](https://matthewwardrop.github.io/formulaic/latest/guides/contrasts/).\n"
   ]
  },
  {
   "cell_type": "markdown",
   "metadata": {},
   "source": []
  }
 ],
 "metadata": {
  "language_info": {
   "name": "python"
  }
 },
 "nbformat": 4,
 "nbformat_minor": 2
}
