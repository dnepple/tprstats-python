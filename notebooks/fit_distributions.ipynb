{
 "cells": [
  {
   "cell_type": "code",
   "execution_count": 5,
   "metadata": {},
   "outputs": [
    {
     "name": "stdout",
     "output_type": "stream",
     "text": [
      "0      0.650618\n",
      "1      0.357468\n",
      "2      0.156285\n",
      "3      0.716060\n",
      "4      1.188090\n",
      "         ...   \n",
      "195    0.865210\n",
      "196    0.280396\n",
      "197    0.207951\n",
      "198    2.299332\n",
      "199    0.421493\n",
      "Name: weibull_smpl, Length: 200, dtype: float64\n",
      "Distribution: norm aic is 1.33145589282792.\n",
      "Distribution: uniform aic is 1.665781295218745.\n",
      "Distribution: t aic is 1.3352045177420526.\n",
      "Distribution: skewnorm aic is 1.213873245724159.\n",
      "Distribution: weibull_min aic is 1.182961026802411.\n",
      "Distribution: gamma aic is 1.2068490598612918.\n",
      "Distribution: lognorm aic is 1.2232211443455363.\n",
      "Distribution: expon aic is 1.4788038189196901.\n"
     ]
    }
   ],
   "source": [
    "import numpy as np\n",
    "from scipy import stats\n",
    "import pandas as pd\n",
    "\n",
    "# data = [1, 2, 3, 4, 5]\n",
    "# m,s = norm.fit(data)\n",
    "# log_likelihood = np.sum(np.log(norm.pdf(data,m,s)))\n",
    "df2= pd.read_excel(\"../data/Samples_to_Compare_R_Python.xlsx\")\n",
    "df = pd.read_csv(\"../data/Sample_from_Normal_Distribution.csv\")\n",
    "thedata = df2[\"weibull_smpl\"]\n",
    "print(thedata)\n",
    "\n",
    "distributions = [\n",
    "    \"norm\",\n",
    "    \"uniform\",\n",
    "    \"t\",\n",
    "    \"skewnorm\",\n",
    "    \"weibull_min\",\n",
    "    \"gamma\",\n",
    "    \"lognorm\",\n",
    "    \"expon\",\n",
    "]\n",
    "\n",
    "\n",
    "def calculate_aic(dist, data):\n",
    "    params = dist.fit(data)\n",
    "    log_likelihood = np.sum(np.log(dist.pdf(data, *params)))\n",
    "    aic = (len(params) - 2 * log_likelihood) / len(data)\n",
    "    return aic\n",
    "\n",
    "\n",
    "def list_aic(distributions, data):\n",
    "    for distribution in distributions:\n",
    "        dist = getattr(stats, distribution)\n",
    "        aic = calculate_aic(dist, data)\n",
    "        print(f\"Distribution: {distribution} aic is {aic}.\")\n",
    "\n",
    "\n",
    "list_aic(distributions, thedata)\n"
   ]
  },
  {
   "cell_type": "code",
   "execution_count": null,
   "metadata": {},
   "outputs": [],
   "source": []
  }
 ],
 "metadata": {
  "kernelspec": {
   "display_name": "default",
   "language": "python",
   "name": "python3"
  },
  "language_info": {
   "codemirror_mode": {
    "name": "ipython",
    "version": 3
   },
   "file_extension": ".py",
   "mimetype": "text/x-python",
   "name": "python",
   "nbconvert_exporter": "python",
   "pygments_lexer": "ipython3",
   "version": "3.12.7"
  }
 },
 "nbformat": 4,
 "nbformat_minor": 2
}
