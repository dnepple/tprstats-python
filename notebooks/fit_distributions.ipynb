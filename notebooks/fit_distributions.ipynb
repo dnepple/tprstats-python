{
 "cells": [
  {
   "cell_type": "markdown",
   "metadata": {},
   "source": [
    "# Fit Distribution\n",
    "\n",
    "When calculating the AIC, Python divides by sample size. R does not. To replicate, you just need to divide the AIC calculated in R by the sample size. "
   ]
  },
  {
   "cell_type": "code",
   "execution_count": 1,
   "metadata": {},
   "outputs": [
    {
     "data": {
      "text/plain": [
       "np.float64(1.182961026802411)"
      ]
     },
     "execution_count": 1,
     "metadata": {},
     "output_type": "execute_result"
    }
   ],
   "source": [
    "import pandas as pd\n",
    "import tprstats\n",
    "\n",
    "df= pd.read_excel(\"../data/Samples_to_Compare_R_Python.xlsx\")\n",
    "data_norm = df['norm_smpl']\n",
    "data_weibull = df['weibull_smpl']\n",
    "\n",
    "tprstats.calculate_aic(\"weibull_min\", data_weibull)"
   ]
  },
  {
   "cell_type": "code",
   "execution_count": 2,
   "metadata": {},
   "outputs": [
    {
     "data": {
      "text/plain": [
       "norm           1.331456\n",
       "uniform        1.665781\n",
       "t              1.335205\n",
       "skewnorm       1.213873\n",
       "weibull_min    1.182961\n",
       "gamma          1.206849\n",
       "lognorm        1.223221\n",
       "expon          1.478804\n",
       "dtype: float64"
      ]
     },
     "execution_count": 2,
     "metadata": {},
     "output_type": "execute_result"
    }
   ],
   "source": [
    "tprstats.list_aic(data_weibull)"
   ]
  },
  {
   "cell_type": "code",
   "execution_count": 3,
   "metadata": {},
   "outputs": [
    {
     "data": {
      "text/plain": [
       "'weibull_min'"
      ]
     },
     "execution_count": 3,
     "metadata": {},
     "output_type": "execute_result"
    }
   ],
   "source": [
    "tprstats.select_distribution(data_weibull)"
   ]
  }
 ],
 "metadata": {
  "kernelspec": {
   "display_name": "default",
   "language": "python",
   "name": "python3"
  },
  "language_info": {
   "codemirror_mode": {
    "name": "ipython",
    "version": 3
   },
   "file_extension": ".py",
   "mimetype": "text/x-python",
   "name": "python",
   "nbconvert_exporter": "python",
   "pygments_lexer": "ipython3",
   "version": "3.12.7"
  }
 },
 "nbformat": 4,
 "nbformat_minor": 2
}
