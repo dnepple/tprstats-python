{
 "cells": [
  {
   "cell_type": "code",
   "execution_count": 1,
   "metadata": {},
   "outputs": [
    {
     "name": "stdout",
     "output_type": "stream",
     "text": [
      "0     -1.177473\n",
      "1      2.789030\n",
      "2      6.006817\n",
      "3      7.155302\n",
      "4      5.623014\n",
      "         ...   \n",
      "195    8.130762\n",
      "196    1.178608\n",
      "197    5.681089\n",
      "198   -1.203367\n",
      "199    3.784383\n",
      "Name: x, Length: 200, dtype: float64\n",
      "Distribution: norm aic is 1118.3408864550993.\n",
      "Distribution: uniform aic is 1239.8630910584739.\n",
      "Distribution: t aic is 1120.3408864651428.\n",
      "Distribution: skewnorm aic is 1120.1108175630914.\n",
      "Distribution: weibull_min aic is 1118.5199962680297.\n",
      "Distribution: gamma aic is 1119.9917792165731.\n",
      "Distribution: lognorm aic is 1120.0023323306602.\n",
      "Distribution: expon aic is 1284.258940491643.\n"
     ]
    },
    {
     "name": "stderr",
     "output_type": "stream",
     "text": [
      "/workspaces/tprstats-python/.pixi/envs/default/lib/python3.12/site-packages/scipy/stats/_continuous_distns.py:6617: RuntimeWarning: invalid value encountered in log\n",
      "  lndata = np.log(data - loc)\n"
     ]
    }
   ],
   "source": [
    "import numpy as np\n",
    "from scipy import stats\n",
    "import pandas as pd\n",
    "\n",
    "# data = [1, 2, 3, 4, 5]\n",
    "# m,s = norm.fit(data)\n",
    "# log_likelihood = np.sum(np.log(norm.pdf(data,m,s)))\n",
    "\n",
    "df = pd.read_csv(\"../data/Sample_from_Normal_Distribution.csv\")\n",
    "thedata = df[\"x\"]\n",
    "print(thedata)\n",
    "\n",
    "distributions = [\n",
    "    \"norm\",\n",
    "    \"uniform\",\n",
    "    \"t\",\n",
    "    \"skewnorm\",\n",
    "    \"weibull_min\",\n",
    "    \"gamma\",\n",
    "    \"lognorm\",\n",
    "    \"expon\",\n",
    "]\n",
    "\n",
    "\n",
    "def calculate_aic(dist, data):\n",
    "    params = dist.fit(data)\n",
    "    log_likelihood = np.sum(np.log(dist.pdf(data, *params)))\n",
    "    aic = 2 * len(params) - 2 * log_likelihood\n",
    "    return aic\n",
    "\n",
    "\n",
    "def list_aic(distributions, data):\n",
    "    for distribution in distributions:\n",
    "        dist = getattr(stats, distribution)\n",
    "        aic = calculate_aic(dist, data)\n",
    "        print(f\"Distribution: {distribution} aic is {aic}.\")\n",
    "\n",
    "\n",
    "list_aic(distributions, thedata)\n"
   ]
  }
 ],
 "metadata": {
  "kernelspec": {
   "display_name": "default",
   "language": "python",
   "name": "python3"
  },
  "language_info": {
   "codemirror_mode": {
    "name": "ipython",
    "version": 3
   },
   "file_extension": ".py",
   "mimetype": "text/x-python",
   "name": "python",
   "nbconvert_exporter": "python",
   "pygments_lexer": "ipython3",
   "version": "3.12.7"
  }
 },
 "nbformat": 4,
 "nbformat_minor": 2
}
