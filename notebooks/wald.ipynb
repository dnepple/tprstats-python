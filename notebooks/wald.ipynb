{
 "cells": [
  {
   "cell_type": "markdown",
   "metadata": {},
   "source": [
    "# Wald Test"
   ]
  },
  {
   "cell_type": "code",
   "execution_count": 1,
   "metadata": {},
   "outputs": [],
   "source": [
    "import tprstats\n",
    "import pandas as pd\n",
    "import numpy as np\n",
    "import statsmodels.api as sm\n",
    "import scipy.stats as stats\n",
    "import statsmodels.formula.api as smf\n",
    "coffee_data = pd.read_excel('../data/Coffee_Data.xlsx', engine='openpyxl')\n",
    "solar_data = pd.read_excel('../data/Solar_Data.xlsx', engine='openpyxl')"
   ]
  },
  {
   "cell_type": "code",
   "execution_count": 2,
   "metadata": {},
   "outputs": [
    {
     "data": {
      "text/plain": [
       "<bound method _StatsmodelsModelWrapper.summary of <tprstats.models.TimeSeriesLinearModel object at 0x0000021241CCDBE0>>"
      ]
     },
     "execution_count": 2,
     "metadata": {},
     "output_type": "execute_result"
    }
   ],
   "source": [
    "model_coffee_ts = tprstats.model(name = \"ts\", formula='cons~rpcarb+rpcinc+rpcofe', data=coffee_data)\n",
    "model_coffee_ts.summary"
   ]
  },
  {
   "cell_type": "markdown",
   "metadata": {},
   "source": [
    "The p-value for the wald test `hypothesis ='rpcofe=-0.013\",\"rpcarb=0.08\"` \n",
    "- using a model fitted with `cov_type='HAC'` should be p=0.3896\n",
    "- Using a model fitted with `cov_type='H'` should be p=0.1826."
   ]
  },
  {
   "cell_type": "code",
   "execution_count": 3,
   "metadata": {},
   "outputs": [
    {
     "name": "stdout",
     "output_type": "stream",
     "text": [
      "Wald Test Statistic:  1.1509055124120415\n",
      "p-value:  0.32359114251321136\n"
     ]
    }
   ],
   "source": [
    "model_coffee_ts.wald_test('rpcofe=-0.013, rpcarb=0.08')"
   ]
  },
  {
   "cell_type": "code",
   "execution_count": 4,
   "metadata": {},
   "outputs": [
    {
     "data": {
      "text/plain": [
       "<class 'statsmodels.stats.contrast.ContrastResults'>\n",
       "<F test: F=1.1509055124120415, p=0.32359114251321136, df_denom=57, df_num=2>"
      ]
     },
     "execution_count": 4,
     "metadata": {},
     "output_type": "execute_result"
    }
   ],
   "source": [
    "# trying use_correction=True\n",
    "model_wald = smf.ols(formula='cons ~ rpcarb + rpcinc + rpcofe', data=coffee_data).fit(cov_type='HAC', cov_kwds={'maxlags': 1})\n",
    "model_wald.wald_test('rpcofe=-0.013, rpcarb=0.08', use_f=True, scalar=True)"
   ]
  },
  {
   "cell_type": "code",
   "execution_count": 5,
   "metadata": {},
   "outputs": [
    {
     "data": {
      "text/plain": [
       "<class 'statsmodels.stats.contrast.WaldTestResults'>\n",
       "                 chi2        P>chi2  df constraint\n",
       "Intercept    0.001150  9.729493e-01              1\n",
       "rpcarb     167.442828  2.677334e-38              1\n",
       "rpcinc      17.230706  3.310424e-05              1\n",
       "rpcofe       6.614386  1.011582e-02              1"
      ]
     },
     "execution_count": 5,
     "metadata": {},
     "output_type": "execute_result"
    }
   ],
   "source": [
    "model_wald.wald_test_terms(scalar=True)"
   ]
  },
  {
   "cell_type": "markdown",
   "metadata": {},
   "source": [
    "## Scipy"
   ]
  },
  {
   "cell_type": "code",
   "execution_count": 6,
   "metadata": {},
   "outputs": [],
   "source": [
    "X = coffee_data[['rpcarb', 'rpcinc', 'rpcofe']]\n",
    "X = sm.add_constant(X)\n",
    "y = coffee_data['cons']\n",
    "model_scipy = sm.OLS(y, X).fit(cov_type='HAC', cov_kwds={'maxlags': 1})"
   ]
  },
  {
   "cell_type": "code",
   "execution_count": 7,
   "metadata": {},
   "outputs": [
    {
     "name": "stdout",
     "output_type": "stream",
     "text": [
      "Wald Test Statistic [-1.12328708 63.59479699]\n",
      "p-value [1.00000000e+00 1.55083393e-14]\n"
     ]
    }
   ],
   "source": [
    "null_values = np.array([-0.013, 0.08])\n",
    "wald_statistic= np.sum((model_scipy.params[1:3] - null_values)**2) / np.diag(model_scipy.cov_params()[1:3])\n",
    "p_value = stats.chi2.sf(wald_statistic, df=2)\n",
    "print(\"Wald Test Statistic\", wald_statistic)\n",
    "print(\"p-value\", p_value)"
   ]
  },
  {
   "cell_type": "markdown",
   "metadata": {},
   "source": [
    "## Binary Choice Wald Tests \n"
   ]
  },
  {
   "cell_type": "code",
   "execution_count": 8,
   "metadata": {},
   "outputs": [
    {
     "name": "stdout",
     "output_type": "stream",
     "text": [
      "Optimization terminated successfully.\n",
      "         Current function value: 0.102926\n",
      "         Iterations 9\n"
     ]
    }
   ],
   "source": [
    "solar_logit=tprstats.model(\"logit\",formula=\"Sale ~ AnnualSave + AnnualCost + DrivesHybrid + NearbySolar + HomeValue\",data=solar_data)"
   ]
  },
  {
   "cell_type": "code",
   "execution_count": 10,
   "metadata": {},
   "outputs": [
    {
     "name": "stdout",
     "output_type": "stream",
     "text": [
      "Wald Test Statistic:  0.6714099320890368\n",
      "p-value:  0.7148339750029004\n"
     ]
    }
   ],
   "source": [
    "solar_logit.wald_test('AnnualSave=4 , AnnualCost=-3')"
   ]
  },
  {
   "cell_type": "code",
   "execution_count": null,
   "metadata": {},
   "outputs": [],
   "source": []
  }
 ],
 "metadata": {
  "kernelspec": {
   "display_name": "Python 3 (ipykernel)",
   "language": "python",
   "name": "python3"
  },
  "language_info": {
   "codemirror_mode": {
    "name": "ipython",
    "version": 3
   },
   "file_extension": ".py",
   "mimetype": "text/x-python",
   "name": "python",
   "nbconvert_exporter": "python",
   "pygments_lexer": "ipython3",
   "version": "3.12.5"
  }
 },
 "nbformat": 4,
 "nbformat_minor": 4
}
