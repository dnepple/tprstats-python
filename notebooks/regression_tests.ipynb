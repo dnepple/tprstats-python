{
 "cells": [
  {
   "cell_type": "markdown",
   "metadata": {},
   "source": [
    "# Wald Test"
   ]
  },
  {
   "cell_type": "code",
   "execution_count": 17,
   "metadata": {},
   "outputs": [],
   "source": [
    "import tprstats\n",
    "import pandas as pd\n",
    "import numpy as np\n",
    "import statsmodels.api as sm\n",
    "import scipy.stats as stats\n",
    "import statsmodels.formula.api as smf\n",
    "import matplotlib.pyplot as plt\n",
    "coffee_data = pd.read_excel('../data/Coffee_Data.xlsx', engine='openpyxl')\n",
    "diamonds_211 = pd.read_excel('../data/Diamonds_211.xlsx', engine='openpyxl')\n",
    "solar_data = pd.read_excel('../data/Solar_Data.xlsx', engine='openpyxl')\n",
    "solar_new_prospects = pd.read_excel('../data/Solar_New_Prospects.xlsx', engine='openpyxl')"
   ]
  },
  {
   "cell_type": "markdown",
   "metadata": {},
   "source": [
    "## Testing the Wald Test\n",
    "### Cross-section LM"
   ]
  },
  {
   "cell_type": "code",
   "execution_count": 18,
   "metadata": {},
   "outputs": [
    {
     "data": {
      "text/html": [
       "<div>\n",
       "<style scoped>\n",
       "    .dataframe tbody tr th:only-of-type {\n",
       "        vertical-align: middle;\n",
       "    }\n",
       "\n",
       "    .dataframe tbody tr th {\n",
       "        vertical-align: top;\n",
       "    }\n",
       "\n",
       "    .dataframe thead th {\n",
       "        text-align: right;\n",
       "    }\n",
       "</style>\n",
       "<table border=\"1\" class=\"dataframe\">\n",
       "  <thead>\n",
       "    <tr style=\"text-align: right;\">\n",
       "      <th></th>\n",
       "      <th>Price</th>\n",
       "      <th>Carat</th>\n",
       "      <th>Clarity</th>\n",
       "      <th>Color</th>\n",
       "      <th>Cut</th>\n",
       "      <th>Salesperson</th>\n",
       "    </tr>\n",
       "  </thead>\n",
       "  <tbody>\n",
       "    <tr>\n",
       "      <th>0</th>\n",
       "      <td>11102</td>\n",
       "      <td>1.70</td>\n",
       "      <td>2</td>\n",
       "      <td>11</td>\n",
       "      <td>2</td>\n",
       "      <td>4</td>\n",
       "    </tr>\n",
       "    <tr>\n",
       "      <th>1</th>\n",
       "      <td>10228</td>\n",
       "      <td>1.70</td>\n",
       "      <td>2</td>\n",
       "      <td>11</td>\n",
       "      <td>2</td>\n",
       "      <td>3</td>\n",
       "    </tr>\n",
       "    <tr>\n",
       "      <th>2</th>\n",
       "      <td>11389</td>\n",
       "      <td>1.86</td>\n",
       "      <td>2</td>\n",
       "      <td>11</td>\n",
       "      <td>2</td>\n",
       "      <td>3</td>\n",
       "    </tr>\n",
       "    <tr>\n",
       "      <th>3</th>\n",
       "      <td>13504</td>\n",
       "      <td>2.03</td>\n",
       "      <td>2</td>\n",
       "      <td>11</td>\n",
       "      <td>2</td>\n",
       "      <td>3</td>\n",
       "    </tr>\n",
       "    <tr>\n",
       "      <th>4</th>\n",
       "      <td>13657</td>\n",
       "      <td>2.08</td>\n",
       "      <td>2</td>\n",
       "      <td>11</td>\n",
       "      <td>2</td>\n",
       "      <td>3</td>\n",
       "    </tr>\n",
       "    <tr>\n",
       "      <th>...</th>\n",
       "      <td>...</td>\n",
       "      <td>...</td>\n",
       "      <td>...</td>\n",
       "      <td>...</td>\n",
       "      <td>...</td>\n",
       "      <td>...</td>\n",
       "    </tr>\n",
       "    <tr>\n",
       "      <th>206</th>\n",
       "      <td>2843</td>\n",
       "      <td>0.56</td>\n",
       "      <td>8</td>\n",
       "      <td>11</td>\n",
       "      <td>2</td>\n",
       "      <td>6</td>\n",
       "    </tr>\n",
       "    <tr>\n",
       "      <th>207</th>\n",
       "      <td>4720</td>\n",
       "      <td>0.71</td>\n",
       "      <td>8</td>\n",
       "      <td>11</td>\n",
       "      <td>2</td>\n",
       "      <td>6</td>\n",
       "    </tr>\n",
       "    <tr>\n",
       "      <th>208</th>\n",
       "      <td>11340</td>\n",
       "      <td>1.05</td>\n",
       "      <td>8</td>\n",
       "      <td>11</td>\n",
       "      <td>2</td>\n",
       "      <td>3</td>\n",
       "    </tr>\n",
       "    <tr>\n",
       "      <th>209</th>\n",
       "      <td>9621</td>\n",
       "      <td>1.07</td>\n",
       "      <td>8</td>\n",
       "      <td>11</td>\n",
       "      <td>2</td>\n",
       "      <td>2</td>\n",
       "    </tr>\n",
       "    <tr>\n",
       "      <th>210</th>\n",
       "      <td>14456</td>\n",
       "      <td>1.38</td>\n",
       "      <td>8</td>\n",
       "      <td>11</td>\n",
       "      <td>2</td>\n",
       "      <td>4</td>\n",
       "    </tr>\n",
       "  </tbody>\n",
       "</table>\n",
       "<p>211 rows × 6 columns</p>\n",
       "</div>"
      ],
      "text/plain": [
       "     Price  Carat  Clarity  Color  Cut  Salesperson\n",
       "0    11102   1.70        2     11    2            4\n",
       "1    10228   1.70        2     11    2            3\n",
       "2    11389   1.86        2     11    2            3\n",
       "3    13504   2.03        2     11    2            3\n",
       "4    13657   2.08        2     11    2            3\n",
       "..     ...    ...      ...    ...  ...          ...\n",
       "206   2843   0.56        8     11    2            6\n",
       "207   4720   0.71        8     11    2            6\n",
       "208  11340   1.05        8     11    2            3\n",
       "209   9621   1.07        8     11    2            2\n",
       "210  14456   1.38        8     11    2            4\n",
       "\n",
       "[211 rows x 6 columns]"
      ]
     },
     "execution_count": 18,
     "metadata": {},
     "output_type": "execute_result"
    }
   ],
   "source": [
    "diamonds_211"
   ]
  },
  {
   "cell_type": "code",
   "execution_count": 35,
   "metadata": {},
   "outputs": [
    {
     "name": "stdout",
     "output_type": "stream",
     "text": [
      "['Intercept', 'C(Clarity)[T.3]', 'C(Clarity)[T.4]', 'C(Clarity)[T.5]', 'C(Clarity)[T.6]', 'C(Clarity)[T.8]', 'Carat']\n",
      "Wald Test Statistic:  1.3686960207841596\n",
      "p-value:  0.2434010493556541\n"
     ]
    }
   ],
   "source": [
    "model_diamonds = tprstats.model(\"cs\", 'Price ~ Carat + C(Clarity)', diamonds_211)\n",
    "print(model_diamonds._model.exog_names)\n",
    "model_diamonds.wald_test('C(Clarity)[T.5] = C(Clarity)[T.6]')"
   ]
  },
  {
   "cell_type": "code",
   "execution_count": 2,
   "metadata": {},
   "outputs": [
    {
     "data": {
      "text/plain": [
       "<bound method _StatsmodelsModelWrapper.summary of <tprstats.models.TimeSeriesLinearModel object at 0x0000021241CCDBE0>>"
      ]
     },
     "execution_count": 2,
     "metadata": {},
     "output_type": "execute_result"
    }
   ],
   "source": [
    "model_coffee_ts = tprstats.model(name = \"ts\", formula='cons~rpcarb+rpcinc+rpcofe', data=coffee_data)\n",
    "model_coffee_ts.summary()"
   ]
  },
  {
   "cell_type": "markdown",
   "metadata": {},
   "source": [
    "The p-value for the wald test `hypothesis ='rpcofe=-0.013\",\"rpcarb=0.08\"` \n",
    "- using a model fitted with `cov_type='HAC'` should be p=0.3896\n",
    "- Using a model fitted with `cov_type='H'` should be p=0.1826."
   ]
  },
  {
   "cell_type": "code",
   "execution_count": 3,
   "metadata": {},
   "outputs": [
    {
     "name": "stdout",
     "output_type": "stream",
     "text": [
      "Wald Test Statistic:  1.1509055124120415\n",
      "p-value:  0.32359114251321136\n"
     ]
    }
   ],
   "source": [
    "model_coffee_ts.wald_test('rpcofe=-0.013, rpcarb=0.08')"
   ]
  },
  {
   "cell_type": "code",
   "execution_count": 4,
   "metadata": {},
   "outputs": [
    {
     "data": {
      "text/plain": [
       "<class 'statsmodels.stats.contrast.ContrastResults'>\n",
       "<F test: F=1.1509055124120415, p=0.32359114251321136, df_denom=57, df_num=2>"
      ]
     },
     "execution_count": 4,
     "metadata": {},
     "output_type": "execute_result"
    }
   ],
   "source": [
    "# trying use_correction=True\n",
    "model_wald = smf.ols(formula='cons ~ rpcarb + rpcinc + rpcofe', data=coffee_data).fit(cov_type='HAC', cov_kwds={'maxlags': 1})\n",
    "model_wald.wald_test('rpcofe=-0.013, rpcarb=0.08', use_f=True, scalar=True)"
   ]
  },
  {
   "cell_type": "code",
   "execution_count": 5,
   "metadata": {},
   "outputs": [
    {
     "data": {
      "text/plain": [
       "<class 'statsmodels.stats.contrast.WaldTestResults'>\n",
       "                 chi2        P>chi2  df constraint\n",
       "Intercept    0.001150  9.729493e-01              1\n",
       "rpcarb     167.442828  2.677334e-38              1\n",
       "rpcinc      17.230706  3.310424e-05              1\n",
       "rpcofe       6.614386  1.011582e-02              1"
      ]
     },
     "execution_count": 5,
     "metadata": {},
     "output_type": "execute_result"
    }
   ],
   "source": [
    "model_wald.wald_test_terms(scalar=True)"
   ]
  },
  {
   "cell_type": "markdown",
   "metadata": {},
   "source": [
    "## Scipy"
   ]
  },
  {
   "cell_type": "code",
   "execution_count": 6,
   "metadata": {},
   "outputs": [],
   "source": [
    "X = coffee_data[['rpcarb', 'rpcinc', 'rpcofe']]\n",
    "X = sm.add_constant(X)\n",
    "y = coffee_data['cons']\n",
    "model_scipy = sm.OLS(y, X).fit(cov_type='HAC', cov_kwds={'maxlags': 1})"
   ]
  },
  {
   "cell_type": "code",
   "execution_count": 7,
   "metadata": {},
   "outputs": [
    {
     "name": "stdout",
     "output_type": "stream",
     "text": [
      "Wald Test Statistic [-1.12328708 63.59479699]\n",
      "p-value [1.00000000e+00 1.55083393e-14]\n"
     ]
    }
   ],
   "source": [
    "null_values = np.array([-0.013, 0.08])\n",
    "wald_statistic= np.sum((model_scipy.params[1:3] - null_values)**2) / np.diag(model_scipy.cov_params()[1:3])\n",
    "p_value = stats.chi2.sf(wald_statistic, df=2)\n",
    "print(\"Wald Test Statistic\", wald_statistic)\n",
    "print(\"p-value\", p_value)"
   ]
  },
  {
   "cell_type": "markdown",
   "metadata": {},
   "source": [
    "## Binary Choice Wald Tests \n"
   ]
  },
  {
   "cell_type": "code",
   "execution_count": 19,
   "metadata": {},
   "outputs": [
    {
     "name": "stdout",
     "output_type": "stream",
     "text": [
      "Optimization terminated successfully.\n",
      "         Current function value: 0.102926\n",
      "         Iterations 9\n",
      "                           Logit Regression Results                           \n",
      "==============================================================================\n",
      "Dep. Variable:                   Sale   No. Observations:                 1500\n",
      "Model:                          Logit   Df Residuals:                     1494\n",
      "Method:                           MLE   Df Model:                            5\n",
      "Date:                Mon, 09 Dec 2024   Pseudo R-squ.:                  0.2847\n",
      "Time:                        15:21:27   Log-Likelihood:                -154.39\n",
      "converged:                       True   LL-Null:                       -215.84\n",
      "Covariance Type:            nonrobust   LLR p-value:                 7.619e-25\n",
      "================================================================================\n",
      "                   coef    std err          z      P>|z|      [0.025      0.975]\n",
      "--------------------------------------------------------------------------------\n",
      "Intercept      -12.7445      4.837     -2.635      0.008     -22.224      -3.265\n",
      "AnnualSave       3.9268      0.649      6.048      0.000       2.654       5.199\n",
      "AnnualCost      -4.0989      1.475     -2.778      0.005      -6.990      -1.207\n",
      "DrivesHybrid     0.9644      0.413      2.333      0.020       0.154       1.775\n",
      "NearbySolar      1.9421      0.398      4.884      0.000       1.163       2.722\n",
      "HomeValue        0.0178      0.008      2.192      0.028       0.002       0.034\n",
      "================================================================================\n"
     ]
    }
   ],
   "source": [
    "solar_logit=tprstats.model(\"logit\",formula=\"Sale ~ AnnualSave + AnnualCost + DrivesHybrid + NearbySolar + HomeValue\",data=solar_data)\n",
    "print(solar_logit.summary())"
   ]
  },
  {
   "cell_type": "code",
   "execution_count": 10,
   "metadata": {},
   "outputs": [
    {
     "name": "stdout",
     "output_type": "stream",
     "text": [
      "Wald Test Statistic:  0.6714099320890368\n",
      "p-value:  0.7148339750029004\n"
     ]
    }
   ],
   "source": [
    "solar_logit.wald_test('AnnualSave=4 , AnnualCost=-3')"
   ]
  },
  {
   "cell_type": "code",
   "execution_count": 21,
   "metadata": {},
   "outputs": [
    {
     "name": "stdout",
     "output_type": "stream",
     "text": [
      "Optimization terminated successfully.\n",
      "         Current function value: 0.100579\n",
      "         Iterations 9\n",
      "                          Probit Regression Results                           \n",
      "==============================================================================\n",
      "Dep. Variable:                   Sale   No. Observations:                 1500\n",
      "Model:                         Probit   Df Residuals:                     1494\n",
      "Method:                           MLE   Df Model:                            5\n",
      "Date:                Mon, 09 Dec 2024   Pseudo R-squ.:                  0.3010\n",
      "Time:                        15:22:30   Log-Likelihood:                -150.87\n",
      "converged:                       True   LL-Null:                       -215.84\n",
      "Covariance Type:            nonrobust   LLR p-value:                 2.450e-26\n",
      "================================================================================\n",
      "                   coef    std err          z      P>|z|      [0.025      0.975]\n",
      "--------------------------------------------------------------------------------\n",
      "Intercept       -6.5365      2.307     -2.833      0.005     -11.058      -2.015\n",
      "AnnualSave       1.9807      0.314      6.310      0.000       1.365       2.596\n",
      "AnnualCost      -2.1618      0.741     -2.917      0.004      -3.614      -0.709\n",
      "DrivesHybrid     0.5292      0.205      2.581      0.010       0.127       0.931\n",
      "NearbySolar      0.9933      0.197      5.044      0.000       0.607       1.379\n",
      "HomeValue        0.0093      0.004      2.387      0.017       0.002       0.017\n",
      "================================================================================\n"
     ]
    }
   ],
   "source": [
    "solar_probit=tprstats.model(\"probit\",formula=\"Sale ~ AnnualSave + AnnualCost + DrivesHybrid + NearbySolar + HomeValue\",data=solar_data)\n",
    "print(solar_probit.summary())"
   ]
  },
  {
   "cell_type": "code",
   "execution_count": 16,
   "metadata": {},
   "outputs": [
    {
     "name": "stdout",
     "output_type": "stream",
     "text": [
      "Wald Test Statistic:  1.5116826434827433\n",
      "p-value:  0.4696153508770411\n"
     ]
    }
   ],
   "source": [
    "solar_probit.wald_test('AnnualSave=2.3 , AnnualCost=-1.9')"
   ]
  },
  {
   "cell_type": "code",
   "execution_count": 28,
   "metadata": {},
   "outputs": [
    {
     "data": {
      "text/plain": [
       "<bound method NDFrame.head of 0      0.200212\n",
       "1      0.030138\n",
       "2      0.006383\n",
       "3      0.015173\n",
       "4      0.003679\n",
       "         ...   \n",
       "995    0.001549\n",
       "996    0.284837\n",
       "997    0.800973\n",
       "998    0.692739\n",
       "999    0.000486\n",
       "Length: 1000, dtype: float64>"
      ]
     },
     "execution_count": 28,
     "metadata": {},
     "output_type": "execute_result"
    }
   ],
   "source": [
    "prospects_predict=solar_logit.predict(solar_new_prospects)\n",
    "prospects_predict.head"
   ]
  },
  {
   "cell_type": "code",
   "execution_count": 27,
   "metadata": {},
   "outputs": [
    {
     "data": {
      "text/plain": [
       "<bound method NDFrame.head of      Customer  AnnualSave  ElecBill  AnnualCost  DrivesHybrid  NearbySolar  \\\n",
       "0           1    1.887929  1.823863    1.735912             0            1   \n",
       "1           2    1.742936  1.839178    1.706554             0            0   \n",
       "2           3    1.559239  1.208948    1.900877             0            0   \n",
       "3           4    1.673532  1.386376    1.824364             0            0   \n",
       "4           5    1.304396  1.661826    1.799923             0            0   \n",
       "..        ...         ...       ...         ...           ...          ...   \n",
       "995       996    1.255306  1.459505    1.969996             0            0   \n",
       "996       997    2.523308  2.628325    1.828736             0            0   \n",
       "997       998    3.137109  2.328434    1.845495             0            0   \n",
       "998       999    2.809793  2.741628    2.076419             1            0   \n",
       "999      1000    0.708387  0.735625    1.641288             0            0   \n",
       "\n",
       "      HomeValue  \n",
       "0    511.553652  \n",
       "1    528.648069  \n",
       "2    525.362779  \n",
       "3    531.669636  \n",
       "4    527.229859  \n",
       "..          ...  \n",
       "995  528.512382  \n",
       "996  527.932617  \n",
       "997  526.328841  \n",
       "998  564.925589  \n",
       "999  508.298030  \n",
       "\n",
       "[1000 rows x 7 columns]>"
      ]
     },
     "execution_count": 27,
     "metadata": {},
     "output_type": "execute_result"
    }
   ],
   "source": [
    "solar_new_prospects.head"
   ]
  },
  {
   "cell_type": "code",
   "execution_count": 38,
   "metadata": {},
   "outputs": [
    {
     "data": {
      "text/plain": [
       "[<matplotlib.lines.Line2D at 0x21245b9a270>]"
      ]
     },
     "execution_count": 38,
     "metadata": {},
     "output_type": "execute_result"
    },
    {
     "data": {
      "image/png": "[encoded data removed]",
      "text/plain": [
       "<Figure size 640x480 with 1 Axes>"
      ]
     },
     "metadata": {},
     "output_type": "display_data"
    }
   ],
   "source": [
    "xvar=list(range(1,1001))\n",
    "xvar=np.transpose(xvar)\n",
    "plt.plot(xvar,prospects_predict)"
   ]
  },
  {
   "cell_type": "code",
   "execution_count": null,
   "metadata": {},
   "outputs": [],
   "source": []
  }
 ],
 "metadata": {
  "kernelspec": {
   "display_name": "Python 3 (ipykernel)",
   "language": "python",
   "name": "python3"
  },
  "language_info": {
   "codemirror_mode": {
    "name": "ipython",
    "version": 3
   },
   "file_extension": ".py",
   "mimetype": "text/x-python",
   "name": "python",
   "nbconvert_exporter": "python",
   "pygments_lexer": "ipython3",
   "version": "3.12.5"
  }
 },
 "nbformat": 4,
 "nbformat_minor": 4
}
