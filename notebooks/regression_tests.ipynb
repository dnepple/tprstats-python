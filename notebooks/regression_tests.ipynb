{
 "cells": [
  {
   "cell_type": "markdown",
   "metadata": {},
   "source": [
    "# Regression Tests"
   ]
  },
  {
   "cell_type": "code",
   "execution_count": 1,
   "metadata": {},
   "outputs": [],
   "source": [
    "import tprstats\n",
    "import pandas as pd\n",
    "import numpy as np\n",
    "import statsmodels.api as sm\n",
    "import scipy.stats as stats\n",
    "import statsmodels.formula.api as smf\n",
    "import matplotlib.pyplot as plt\n",
    "coffee_data = pd.read_excel('../data/Coffee_Data.xlsx', engine='openpyxl')\n",
    "diamonds_211 = pd.read_excel('../data/Diamonds_211.xlsx', engine='openpyxl')\n",
    "solar_data = pd.read_excel('../data/Solar_Data.xlsx', engine='openpyxl')\n",
    "solar_new_prospects = pd.read_excel('../data/Solar_New_Prospects.xlsx', engine='openpyxl')"
   ]
  },
  {
   "cell_type": "markdown",
   "metadata": {},
   "source": [
    "## Wald Tests\n",
    "### Linear Models\n",
    "#### Cross-section aka coefTestH"
   ]
  },
  {
   "cell_type": "code",
   "execution_count": 2,
   "metadata": {},
   "outputs": [
    {
     "name": "stdout",
     "output_type": "stream",
     "text": [
      "p-value:  0.2434\n"
     ]
    }
   ],
   "source": [
    "model_diamonds = tprstats.model(\"cs\", 'Price ~ Carat + C(Clarity)', diamonds_211)\n",
    "model_diamonds.wald_test('C(Clarity)[T.5] = C(Clarity)[T.6]')"
   ]
  },
  {
   "cell_type": "markdown",
   "metadata": {},
   "source": [
    "#### Time Series Wald Test aka coefTestHAC"
   ]
  },
  {
   "cell_type": "code",
   "execution_count": 3,
   "metadata": {},
   "outputs": [
    {
     "data": {
      "text/html": [
       "<table class=\"simpletable\">\n",
       "<caption>OLS Regression Results</caption>\n",
       "<tr>\n",
       "  <th>Dep. Variable:</th>     <td>cons</td>  <th>  R-squared:         </th> <td>   0.956</td>\n",
       "</tr>\n",
       "<tr>\n",
       "  <th>Model:</th>              <td>OLS</td>  <th>  Adj. R-squared:    </th> <td>   0.953</td>\n",
       "</tr>\n",
       "<tr>\n",
       "  <th>No. Observations:</th> <td>    61</td> <th>  F-statistic:       </th> <td>   207.9</td>\n",
       "</tr>\n",
       "<tr>\n",
       "  <th>Covariance Type:</th>    <td>HAC</td>  <th>  Prob (F-statistic):</th> <td>1.18e-30</td>\n",
       "</tr>\n",
       "</table>\n",
       "<table class=\"simpletable\">\n",
       "<tr>\n",
       "      <td></td>         <th>coef</th>     <th>std err</th>      <th>t</th>      <th>P>|t|</th>  <th>[0.025</th>    <th>0.975]</th>  \n",
       "</tr>\n",
       "<tr>\n",
       "  <th>Intercept</th> <td>    0.0576</td> <td>    1.839</td> <td>    0.031</td> <td> 0.975</td> <td>   -3.626</td> <td>    3.741</td>\n",
       "</tr>\n",
       "<tr>\n",
       "  <th>rpcarb</th>    <td>    0.0901</td> <td>    0.008</td> <td>   11.549</td> <td> 0.000</td> <td>    0.074</td> <td>    0.106</td>\n",
       "</tr>\n",
       "<tr>\n",
       "  <th>rpcinc</th>    <td>    0.1235</td> <td>    0.033</td> <td>    3.762</td> <td> 0.000</td> <td>    0.058</td> <td>    0.189</td>\n",
       "</tr>\n",
       "<tr>\n",
       "  <th>rpcofe</th>    <td>   -0.0126</td> <td>    0.004</td> <td>   -2.835</td> <td> 0.006</td> <td>   -0.021</td> <td>   -0.004</td>\n",
       "</tr>\n",
       "</table><br/><br/>Notes:<br/>[1] Standard Errors are heteroscedasticity and autocorrelation robust (HAC) using 2 lags and with small sample correction<br/>[2] The condition number is large, 3.02e+03. This might indicate that there are<br/>strong multicollinearity or other numerical problems."
      ],
      "text/latex": [
       "\\begin{center}\n",
       "\\begin{tabular}{lclc}\n",
       "\\toprule\n",
       "\\textbf{Dep. Variable:}    &      cons     & \\textbf{  R-squared:         } &     0.956   \\\\\n",
       "\\textbf{Model:}            &      OLS      & \\textbf{  Adj. R-squared:    } &     0.953   \\\\\n",
       "\\textbf{No. Observations:} &         61    & \\textbf{  F-statistic:       } &     207.9   \\\\\n",
       "\\textbf{Covariance Type:}  &      HAC      & \\textbf{  Prob (F-statistic):} &  1.18e-30   \\\\\n",
       "\\bottomrule\n",
       "\\end{tabular}\n",
       "\\begin{tabular}{lcccccc}\n",
       "                   & \\textbf{coef} & \\textbf{std err} & \\textbf{t} & \\textbf{P$> |$t$|$} & \\textbf{[0.025} & \\textbf{0.975]}  \\\\\n",
       "\\midrule\n",
       "\\textbf{Intercept} &       0.0576  &        1.839     &     0.031  &         0.975        &       -3.626    &        3.741     \\\\\n",
       "\\textbf{rpcarb}    &       0.0901  &        0.008     &    11.549  &         0.000        &        0.074    &        0.106     \\\\\n",
       "\\textbf{rpcinc}    &       0.1235  &        0.033     &     3.762  &         0.000        &        0.058    &        0.189     \\\\\n",
       "\\textbf{rpcofe}    &      -0.0126  &        0.004     &    -2.835  &         0.006        &       -0.021    &       -0.004     \\\\\n",
       "\\bottomrule\n",
       "\\end{tabular}\n",
       "%\\caption{OLS Regression Results}\n",
       "\\end{center}\n",
       "\n",
       "Notes: \\newline\n",
       " [1] Standard Errors are heteroscedasticity and autocorrelation robust (HAC) using 2 lags and with small sample correction \\newline\n",
       " [2] The condition number is large, 3.02e+03. This might indicate that there are \\newline\n",
       " strong multicollinearity or other numerical problems."
      ],
      "text/plain": [
       "<class 'statsmodels.iolib.summary.Summary'>\n",
       "\"\"\"\n",
       "                            OLS Regression Results                            \n",
       "==============================================================================\n",
       "Dep. Variable:                   cons   R-squared:                       0.956\n",
       "Model:                            OLS   Adj. R-squared:                  0.953\n",
       "No. Observations:                  61   F-statistic:                     207.9\n",
       "Covariance Type:                  HAC   Prob (F-statistic):           1.18e-30\n",
       "==============================================================================\n",
       "                 coef    std err          t      P>|t|      [0.025      0.975]\n",
       "------------------------------------------------------------------------------\n",
       "Intercept      0.0576      1.839      0.031      0.975      -3.626       3.741\n",
       "rpcarb         0.0901      0.008     11.549      0.000       0.074       0.106\n",
       "rpcinc         0.1235      0.033      3.762      0.000       0.058       0.189\n",
       "rpcofe        -0.0126      0.004     -2.835      0.006      -0.021      -0.004\n",
       "==============================================================================\n",
       "\n",
       "Notes:\n",
       "[1] Standard Errors are heteroscedasticity and autocorrelation robust (HAC) using 2 lags and with small sample correction\n",
       "[2] The condition number is large, 3.02e+03. This might indicate that there are\n",
       "strong multicollinearity or other numerical problems.\n",
       "\"\"\""
      ]
     },
     "execution_count": 3,
     "metadata": {},
     "output_type": "execute_result"
    }
   ],
   "source": [
    "model_coffee_ts = tprstats.model(name = \"ts\", formula='cons~rpcarb+rpcinc+rpcofe', data=coffee_data)\n",
    "model_coffee_ts.summary()"
   ]
  },
  {
   "cell_type": "code",
   "execution_count": 4,
   "metadata": {},
   "outputs": [
    {
     "name": "stdout",
     "output_type": "stream",
     "text": [
      "p-value:  0.4026\n"
     ]
    }
   ],
   "source": [
    "model_coffee_ts.wald_test('rpcofe=-0.013, rpcarb=0.08')"
   ]
  },
  {
   "cell_type": "markdown",
   "metadata": {},
   "source": [
    "### Binary Choice Wald Tests \n",
    "#### Logit Wald Test"
   ]
  },
  {
   "cell_type": "code",
   "execution_count": 5,
   "metadata": {},
   "outputs": [
    {
     "name": "stdout",
     "output_type": "stream",
     "text": [
      "Optimization terminated successfully.\n",
      "         Current function value: 0.102926\n",
      "         Iterations 9\n"
     ]
    }
   ],
   "source": [
    "solar_logit=tprstats.model(\"logit\",formula=\"Sale ~ AnnualSave + AnnualCost + DrivesHybrid + NearbySolar + HomeValue\",data=solar_data)"
   ]
  },
  {
   "cell_type": "code",
   "execution_count": 6,
   "metadata": {},
   "outputs": [
    {
     "name": "stderr",
     "output_type": "stream",
     "text": [
      "/workspaces/tprstats-python/.pixi/envs/default/lib/python3.12/site-packages/statsmodels/base/model.py:1912: FutureWarning: The behavior of wald_test will change after 0.14 to returning scalar test statistic values. To get the future behavior now, set scalar to True. To silence this message while retaining the legacy behavior, set scalar to False.\n",
      "  warnings.warn(\n"
     ]
    },
    {
     "data": {
      "text/plain": [
       "<class 'statsmodels.stats.contrast.ContrastResults'>\n",
       "<Wald test (chi2): statistic=[[0.67140993]], p-value=0.7148339750029686, df_denom=2>"
      ]
     },
     "execution_count": 6,
     "metadata": {},
     "output_type": "execute_result"
    }
   ],
   "source": [
    "solar_logit.wald_test('AnnualSave=4 , AnnualCost=-3')"
   ]
  },
  {
   "cell_type": "markdown",
   "metadata": {},
   "source": [
    "#### Probit Wald Test"
   ]
  },
  {
   "cell_type": "code",
   "execution_count": 7,
   "metadata": {},
   "outputs": [
    {
     "name": "stdout",
     "output_type": "stream",
     "text": [
      "Optimization terminated successfully.\n",
      "         Current function value: 0.100579\n",
      "         Iterations 9\n",
      "                          Probit Regression Results                           \n",
      "==============================================================================\n",
      "Dep. Variable:                   Sale   No. Observations:                 1500\n",
      "Model:                         Probit   Df Residuals:                     1494\n",
      "Method:                           MLE   Df Model:                            5\n",
      "Date:                Mon, 27 Jan 2025   Pseudo R-squ.:                  0.3010\n",
      "Time:                        01:26:25   Log-Likelihood:                -150.87\n",
      "converged:                       True   LL-Null:                       -215.84\n",
      "Covariance Type:            nonrobust   LLR p-value:                 2.450e-26\n",
      "================================================================================\n",
      "                   coef    std err          z      P>|z|      [0.025      0.975]\n",
      "--------------------------------------------------------------------------------\n",
      "Intercept       -6.5365      2.307     -2.833      0.005     -11.058      -2.015\n",
      "AnnualSave       1.9807      0.314      6.310      0.000       1.365       2.596\n",
      "AnnualCost      -2.1618      0.741     -2.917      0.004      -3.614      -0.709\n",
      "DrivesHybrid     0.5292      0.205      2.581      0.010       0.127       0.931\n",
      "NearbySolar      0.9933      0.197      5.044      0.000       0.607       1.379\n",
      "HomeValue        0.0093      0.004      2.387      0.017       0.002       0.017\n",
      "================================================================================\n"
     ]
    }
   ],
   "source": [
    "solar_probit=tprstats.model(\"probit\",formula=\"Sale ~ AnnualSave + AnnualCost + DrivesHybrid + NearbySolar + HomeValue\",data=solar_data)\n",
    "print(solar_probit.summary())"
   ]
  },
  {
   "cell_type": "code",
   "execution_count": 8,
   "metadata": {},
   "outputs": [
    {
     "name": "stderr",
     "output_type": "stream",
     "text": [
      "/workspaces/tprstats-python/.pixi/envs/default/lib/python3.12/site-packages/statsmodels/base/model.py:1912: FutureWarning: The behavior of wald_test will change after 0.14 to returning scalar test statistic values. To get the future behavior now, set scalar to True. To silence this message while retaining the legacy behavior, set scalar to False.\n",
      "  warnings.warn(\n"
     ]
    },
    {
     "data": {
      "text/plain": [
       "<class 'statsmodels.stats.contrast.ContrastResults'>\n",
       "<Wald test (chi2): statistic=[[1.51168264]], p-value=0.4696153508770117, df_denom=2>"
      ]
     },
     "execution_count": 8,
     "metadata": {},
     "output_type": "execute_result"
    }
   ],
   "source": [
    "solar_probit.wald_test('AnnualSave=2.3 , AnnualCost=-1.9')"
   ]
  },
  {
   "cell_type": "markdown",
   "metadata": {},
   "source": [
    "## Ramsey RESET\n",
    "Test of functional form for linear models. "
   ]
  },
  {
   "cell_type": "code",
   "execution_count": 9,
   "metadata": {},
   "outputs": [
    {
     "name": "stdout",
     "output_type": "stream",
     "text": [
      "   power    pvalue\n",
      "0      2  0.182315\n",
      "1      3  0.372575\n"
     ]
    }
   ],
   "source": [
    "print(model_coffee_ts.ramsey_test())\n"
   ]
  }
 ],
 "metadata": {
  "kernelspec": {
   "display_name": "default",
   "language": "python",
   "name": "python3"
  },
  "language_info": {
   "codemirror_mode": {
    "name": "ipython",
    "version": 3
   },
   "file_extension": ".py",
   "mimetype": "text/x-python",
   "name": "python",
   "nbconvert_exporter": "python",
   "pygments_lexer": "ipython3",
   "version": "3.12.7"
  }
 },
 "nbformat": 4,
 "nbformat_minor": 4
}
