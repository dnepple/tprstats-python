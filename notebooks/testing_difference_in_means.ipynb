{
 "cells": [
  {
   "cell_type": "markdown",
   "metadata": {},
   "source": [
    "# Testing Difference in Means\n",
    "- Using `statsmodels.power.tt_ind_solve_power`\n",
    "- https://www.statsmodels.org/dev/generated/statsmodels.stats.power.tt_ind_solve_power.html#statsmodels.stats.power.tt_ind_solve_power\n",
    "- solve for any one parameter of the power of a two sample t-test\n",
    "\n",
    "## Terminology\n",
    "In `tt_ind_solve_power`, `effect_size` is the standardized effect size, also known as Cohen's d."
   ]
  },
  {
   "cell_type": "code",
   "execution_count": 4,
   "metadata": {},
   "outputs": [],
   "source": [
    "import numpy as np\n",
    "import pandas\n",
    "from statsmodels.stats import power as sm_power"
   ]
  },
  {
   "cell_type": "code",
   "execution_count": 5,
   "metadata": {},
   "outputs": [],
   "source": [
    "m1 = 30  # Mean of group 1\n",
    "m2 = 28  # Mean of group 2\n",
    "s1 = 3  # Standard deviation of group 1\n",
    "s2 = 2  # Standard deviation of group 2\n",
    "n1 = 20  # Sample size of group 1\n",
    "n2 = 25  # Sample size of group 2\n",
    "alpha = 0.05\n",
    "power = 0.85\n",
    "ratio = 2/3"
   ]
  },
  {
   "cell_type": "code",
   "execution_count": 6,
   "metadata": {},
   "outputs": [],
   "source": [
    "# Function to calculate pooled standard deviation\n",
    "def pooled_std(s1, s2, n1, n2):\n",
    "    return np.sqrt(((n1 - 1) * s1**2 + (n2 - 1) * s2**2) / (n1 + n2 - 2))\n",
    "\n",
    "# statsmodels calls this the standardized effect size\n",
    "# Function to calculate Cohen's d\n",
    "def cohens_d(m1, m2, s1, s2, n1, n2):\n",
    "    # Calculate the pooled standard deviation\n",
    "    pooled_sd = pooled_std(s1, s2, n1, n2)\n",
    "    \n",
    "    # Calculate Cohen's d\n",
    "    d = (m1 - m2) / pooled_sd\n",
    "    return d"
   ]
  },
  {
   "cell_type": "code",
   "execution_count": 7,
   "metadata": {},
   "outputs": [
    {
     "data": {
      "text/plain": [
       "36.0342628397395"
      ]
     },
     "execution_count": 7,
     "metadata": {},
     "output_type": "execute_result"
    }
   ],
   "source": [
    "nobs_group_1 = sm_power.tt_ind_solve_power(\n",
    "    effect_size= cohens_d(m1, m2, s1, s2, n1, n2),\n",
    "    alpha=alpha,\n",
    "    power=power,\n",
    "    ratio= ratio\n",
    ")\n",
    "nobs_group_1"
   ]
  },
  {
   "cell_type": "code",
   "execution_count": 8,
   "metadata": {},
   "outputs": [
    {
     "data": {
      "text/plain": [
       "24.022841893159665"
      ]
     },
     "execution_count": 8,
     "metadata": {},
     "output_type": "execute_result"
    }
   ],
   "source": [
    "nobs_group_2 = nobs_group_1 * ratio\n",
    "nobs_group_2"
   ]
  },
  {
   "cell_type": "code",
   "execution_count": 9,
   "metadata": {},
   "outputs": [
    {
     "data": {
      "text/plain": [
       "60.05710473289916"
      ]
     },
     "execution_count": 9,
     "metadata": {},
     "output_type": "execute_result"
    }
   ],
   "source": [
    "total_nobs= nobs_group_1 + nobs_group_2\n",
    "total_nobs"
   ]
  },
  {
   "cell_type": "markdown",
   "metadata": {},
   "source": [
    "We want a function to test differences in mean similar to R's AB_t2n package.\n",
    "\n",
    "We create an adapter around stasmodels.stats.power.tt_ind_solver_power to solve for the number of observations (nobs).\n",
    "\n",
    "The wrapper's parameters are:\n",
    "- diff_means - difference in means\n",
    "- std1 - standard deviation of group 1\n",
    "- std2 - standard deviation of group 2\n",
    "- alpha = 0.05 - significance level, default to 0.05\n",
    "- power - desired power\n",
    "- ratio - (n2/n1) as defined by tt_ind_solver_power\n",
    "\n",
    "The wrapper functions to:\n",
    "- Determines starting values for n1 and n2 to pass to the solver. The size of n1 and n2 are based on the ratio, such that n2 = 30 and n2/n1 = ratio or n1 = 30/ratio.\n",
    "- Determines m1 and m2 where m1=diff_means and m2 = 0. \n",
    "- Passes remaining values on to the solver."
   ]
  },
  {
   "cell_type": "code",
   "execution_count": 10,
   "metadata": {},
   "outputs": [],
   "source": [
    "def AB_nobs(diff_means, std1, std2, power, ratio = 1, alpha = 0.05):\n",
    "    # n1_start and n2_start are starting values passed to the solver\n",
    "    nobs2_start = 30\n",
    "    nobs1_start = nobs2_start/ratio\n",
    "    m1 = diff_means\n",
    "    m2 = 0\n",
    "    nobs1 = sm_power.tt_ind_solve_power(\n",
    "        effect_size= cohens_d(m1, m2, std1, std2, nobs1_start, nobs2_start),\n",
    "        nobs1 = None,\n",
    "        alpha=alpha,\n",
    "        power = power,\n",
    "        ratio = ratio\n",
    "    )\n",
    "    # ratio as defined by stats.power.tt_ind_solve_power\n",
    "    nobs2 = nobs1 * ratio\n",
    "    nobs_total = nobs1 + nobs2\n",
    "    return pandas.Series({\"nobs1\": nobs1, \"nobs2\": nobs2, \"nobs_total\": nobs_total})"
   ]
  },
  {
   "cell_type": "raw",
   "metadata": {
    "vscode": {
     "languageId": "raw"
    }
   },
   "source": [
    "# test values\n",
    "m1 = 30  # Mean of group 1\n",
    "m2 = 28  # Mean of group 2\n",
    "s1 = 2  # Standard deviation of group 1\n",
    "s2 = 3  # Standard deviation of group 2\n",
    "n1 = 20  # Sample size of group 1\n",
    "n2 = 25  # Sample size of group 2\n",
    "alpha = 0.05\n",
    "power = 0.85\n",
    "ratio = 2/3"
   ]
  },
  {
   "cell_type": "code",
   "execution_count": 11,
   "metadata": {},
   "outputs": [
    {
     "data": {
      "text/plain": [
       "nobs1         34.784308\n",
       "nobs2         23.189539\n",
       "nobs_total    57.973847\n",
       "dtype: float64"
      ]
     },
     "execution_count": 11,
     "metadata": {},
     "output_type": "execute_result"
    }
   ],
   "source": [
    "AB_nobs(2, 2, 3, 0.85, 2/3)"
   ]
  },
  {
   "cell_type": "code",
   "execution_count": 12,
   "metadata": {},
   "outputs": [],
   "source": [
    "def AB_power(diff_means, nobs1, nobs2, std1, std2, alpha= 0.05):\n",
    "    # ratio as defined by stats.power.tt_ind_solve_power\n",
    "    ratio = nobs2/nobs1\n",
    "    m1 = diff_means\n",
    "    m2 = 0\n",
    "    return sm_power.tt_ind_solve_power(\n",
    "        effect_size= cohens_d(m1, m2, std1, std2, nobs1, nobs2),\n",
    "        nobs1 = nobs1,\n",
    "        alpha=alpha,\n",
    "        ratio = ratio\n",
    "    )\n"
   ]
  },
  {
   "cell_type": "code",
   "execution_count": 13,
   "metadata": {},
   "outputs": [
    {
     "data": {
      "text/plain": [
       "np.float64(0.8502430693080085)"
      ]
     },
     "execution_count": 13,
     "metadata": {},
     "output_type": "execute_result"
    }
   ],
   "source": [
    "AB_power(2, 34.784308, 23.189539, 2, 3)"
   ]
  },
  {
   "cell_type": "code",
   "execution_count": null,
   "metadata": {},
   "outputs": [],
   "source": []
  }
 ],
 "metadata": {
  "kernelspec": {
   "display_name": "default",
   "language": "python",
   "name": "python3"
  },
  "language_info": {
   "codemirror_mode": {
    "name": "ipython",
    "version": 3
   },
   "file_extension": ".py",
   "mimetype": "text/x-python",
   "name": "python",
   "nbconvert_exporter": "python",
   "pygments_lexer": "ipython3",
   "version": "3.12.7"
  }
 },
 "nbformat": 4,
 "nbformat_minor": 2
}
