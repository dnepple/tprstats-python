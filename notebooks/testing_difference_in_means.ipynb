{
 "cells": [
  {
   "cell_type": "markdown",
   "metadata": {},
   "source": [
    "# Testing Difference in Means\n",
    "- Using `statsmodels.power.tt_ind_solve_power`\n",
    "- https://www.statsmodels.org/dev/generated/statsmodels.stats.power.tt_ind_solve_power.html#statsmodels.stats.power.tt_ind_solve_power\n",
    "- solve for any one parameter of the power of a two sample t-test\n",
    "\n",
    "## Terminology\n",
    "In `tt_ind_solve_power`, `effect_size` is the standardized effect size, also known as Cohen's d."
   ]
  },
  {
   "cell_type": "code",
   "execution_count": 1,
   "metadata": {},
   "outputs": [],
   "source": [
    "import numpy as np\n",
    "from statsmodels.stats import power"
   ]
  },
  {
   "cell_type": "code",
   "execution_count": 2,
   "metadata": {},
   "outputs": [],
   "source": [
    "m1 = 30  # Mean of group 1\n",
    "m2 = 28  # Mean of group 2\n",
    "s1 = 3  # Standard deviation of group 1\n",
    "s2 = 3   # Standard deviation of group 2\n",
    "n1 = 20  # Sample size of group 1\n",
    "n2 = 25  # Sample size of group 2"
   ]
  },
  {
   "cell_type": "code",
   "execution_count": 3,
   "metadata": {},
   "outputs": [],
   "source": [
    "# Function to calculate pooled standard deviation\n",
    "def pooled_std(s1, s2, n1, n2):\n",
    "    return np.sqrt(((n1 - 1) * s1**2 + (n2 - 1) * s2**2) / (n1 + n2 - 2))\n",
    "\n",
    "# statsmodels calls this the standardized effect size\n",
    "# Function to calculate Cohen's d\n",
    "def cohens_d(m1, m2, s1, s2, n1, n2):\n",
    "    # Calculate the pooled standard deviation\n",
    "    pooled_sd = pooled_std(s1, s2, n1, n2)\n",
    "    \n",
    "    # Calculate Cohen's d\n",
    "    d = (m1 - m2) / pooled_sd\n",
    "    return d"
   ]
  },
  {
   "cell_type": "code",
   "execution_count": 8,
   "metadata": {},
   "outputs": [
    {
     "data": {
      "text/plain": [
       "41.386145352912585"
      ]
     },
     "execution_count": 8,
     "metadata": {},
     "output_type": "execute_result"
    }
   ],
   "source": [
    "required_nobs_for_group_1 = power.tt_ind_solve_power(\n",
    "    effect_size= cohens_d(m1, m2, s1, s2, n1, n2),\n",
    "    alpha=0.05,\n",
    "    power=0.85,\n",
    "    ratio=1\n",
    ")\n",
    "required_nobs_for_group_1"
   ]
  }
 ],
 "metadata": {
  "kernelspec": {
   "display_name": "default",
   "language": "python",
   "name": "python3"
  },
  "language_info": {
   "codemirror_mode": {
    "name": "ipython",
    "version": 3
   },
   "file_extension": ".py",
   "mimetype": "text/x-python",
   "name": "python",
   "nbconvert_exporter": "python",
   "pygments_lexer": "ipython3",
   "version": "3.12.8"
  }
 },
 "nbformat": 4,
 "nbformat_minor": 2
}
