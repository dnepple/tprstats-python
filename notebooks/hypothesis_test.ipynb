{
 "cells": [
  {
   "cell_type": "code",
   "execution_count": 1,
   "metadata": {},
   "outputs": [
    {
     "data": {
      "text/plain": [
       "t_statistic                 -0.095059\n",
       "p_value                      0.927363\n",
       "confidence_interval_lower    2.617985\n",
       "confidence_interval_upper    3.353444\n",
       "sample_mean                  2.985714\n",
       "dtype: float64"
      ]
     },
     "execution_count": 1,
     "metadata": {},
     "output_type": "execute_result"
    }
   ],
   "source": [
    "import tprstats\n",
    "import pandas\n",
    "\n",
    "\n",
    "\n",
    "data = [2.3, 3.1, 2.8, 3.6, 3.0, 2.9, 3.2]\n",
    "\n",
    "tprstats.test_population_mean(data, 3)\n"
   ]
  },
  {
   "cell_type": "code",
   "execution_count": null,
   "metadata": {},
   "outputs": [],
   "source": []
  }
 ],
 "metadata": {
  "kernelspec": {
   "display_name": "default",
   "language": "python",
   "name": "python3"
  },
  "language_info": {
   "codemirror_mode": {
    "name": "ipython",
    "version": 3
   },
   "file_extension": ".py",
   "mimetype": "text/x-python",
   "name": "python",
   "nbconvert_exporter": "python",
   "pygments_lexer": "ipython3",
   "version": "3.12.7"
  }
 },
 "nbformat": 4,
 "nbformat_minor": 2
}
