{
 "cells": [
  {
   "cell_type": "markdown",
   "metadata": {},
   "source": [
    "# Prediction"
   ]
  },
  {
   "cell_type": "code",
   "execution_count": 1,
   "metadata": {},
   "outputs": [],
   "source": [
    "import tprstats\n",
    "import pandas as pd\n",
    "import numpy as np\n",
    "import statsmodels.api as sm\n",
    "import scipy.stats as stats\n",
    "import statsmodels.formula.api as smf\n",
    "import matplotlib.pyplot as plt\n",
    "coffee_data = pd.read_excel('../data/Coffee_Data.xlsx', engine='openpyxl')\n",
    "diamonds_211 = pd.read_excel('../data/Diamonds_211.xlsx', engine='openpyxl')\n",
    "solar_data = pd.read_excel('../data/Solar_Data.xlsx', engine='openpyxl')\n",
    "solar_new_prospects = pd.read_excel('../data/Solar_New_Prospects.xlsx', engine='openpyxl')\n",
    "diamonds_e_100= pd.read_excel('../data/Diamond_E_100.xlsx', engine='openpyxl')"
   ]
  },
  {
   "cell_type": "code",
   "execution_count": 2,
   "metadata": {},
   "outputs": [],
   "source": [
    "model_diamonds = tprstats.model(\"cs\", 'Price ~ Carat + C(Cut)', diamonds_e_100)\n",
    "# model_diamonds = tprstats.model(\"cs\", 'log(Price) ~ log(Carat) + C(Cut)', diamonds_e_100)"
   ]
  },
  {
   "cell_type": "code",
   "execution_count": 3,
   "metadata": {},
   "outputs": [
    {
     "data": {
      "text/html": [
       "<table class=\"simpletable\">\n",
       "<caption>OLS Regression Results</caption>\n",
       "<tr>\n",
       "  <th>Dep. Variable:</th>     <td>Price</td> <th>  R-squared:         </th> <td>   0.919</td>\n",
       "</tr>\n",
       "<tr>\n",
       "  <th>Model:</th>              <td>OLS</td>  <th>  Adj. R-squared:    </th> <td>   0.916</td>\n",
       "</tr>\n",
       "<tr>\n",
       "  <th>No. Observations:</th> <td>   100</td> <th>  F-statistic:       </th> <td>   138.9</td>\n",
       "</tr>\n",
       "<tr>\n",
       "  <th>Covariance Type:</th>    <td>HC1</td>  <th>  Prob (F-statistic):</th> <td>8.49e-35</td>\n",
       "</tr>\n",
       "</table>\n",
       "<table class=\"simpletable\">\n",
       "<tr>\n",
       "       <td></td>          <th>coef</th>     <th>std err</th>      <th>z</th>      <th>P>|z|</th>  <th>[0.025</th>    <th>0.975]</th>  \n",
       "</tr>\n",
       "<tr>\n",
       "  <th>Intercept</th>   <td>-4948.2579</td> <td>  702.464</td> <td>   -7.044</td> <td> 0.000</td> <td>-6325.062</td> <td>-3571.454</td>\n",
       "</tr>\n",
       "<tr>\n",
       "  <th>C(Cut)[T.2]</th> <td>    6.5535</td> <td>  554.253</td> <td>    0.012</td> <td> 0.991</td> <td>-1079.762</td> <td> 1092.869</td>\n",
       "</tr>\n",
       "<tr>\n",
       "  <th>C(Cut)[T.3]</th> <td>  361.8990</td> <td>  420.694</td> <td>    0.860</td> <td> 0.390</td> <td> -462.647</td> <td> 1186.445</td>\n",
       "</tr>\n",
       "<tr>\n",
       "  <th>Carat</th>       <td> 1.142e+04</td> <td>  583.752</td> <td>   19.558</td> <td> 0.000</td> <td> 1.03e+04</td> <td> 1.26e+04</td>\n",
       "</tr>\n",
       "</table><br/><br/>Notes:<br/>[1] Standard Errors are heteroscedasticity robust (HC1)"
      ],
      "text/latex": [
       "\\begin{center}\n",
       "\\begin{tabular}{lclc}\n",
       "\\toprule\n",
       "\\textbf{Dep. Variable:}    &     Price     & \\textbf{  R-squared:         } &     0.919   \\\\\n",
       "\\textbf{Model:}            &      OLS      & \\textbf{  Adj. R-squared:    } &     0.916   \\\\\n",
       "\\textbf{No. Observations:} &        100    & \\textbf{  F-statistic:       } &     138.9   \\\\\n",
       "\\textbf{Covariance Type:}  &      HC1      & \\textbf{  Prob (F-statistic):} &  8.49e-35   \\\\\n",
       "\\bottomrule\n",
       "\\end{tabular}\n",
       "\\begin{tabular}{lcccccc}\n",
       "                     & \\textbf{coef} & \\textbf{std err} & \\textbf{z} & \\textbf{P$> |$z$|$} & \\textbf{[0.025} & \\textbf{0.975]}  \\\\\n",
       "\\midrule\n",
       "\\textbf{Intercept}   &   -4948.2579  &      702.464     &    -7.044  &         0.000        &    -6325.062    &    -3571.454     \\\\\n",
       "\\textbf{C(Cut)[T.2]} &       6.5535  &      554.253     &     0.012  &         0.991        &    -1079.762    &     1092.869     \\\\\n",
       "\\textbf{C(Cut)[T.3]} &     361.8990  &      420.694     &     0.860  &         0.390        &     -462.647    &     1186.445     \\\\\n",
       "\\textbf{Carat}       &    1.142e+04  &      583.752     &    19.558  &         0.000        &     1.03e+04    &     1.26e+04     \\\\\n",
       "\\bottomrule\n",
       "\\end{tabular}\n",
       "%\\caption{OLS Regression Results}\n",
       "\\end{center}\n",
       "\n",
       "Notes: \\newline\n",
       " [1] Standard Errors are heteroscedasticity robust (HC1)"
      ],
      "text/plain": [
       "<class 'statsmodels.iolib.summary.Summary'>\n",
       "\"\"\"\n",
       "                            OLS Regression Results                            \n",
       "==============================================================================\n",
       "Dep. Variable:                  Price   R-squared:                       0.919\n",
       "Model:                            OLS   Adj. R-squared:                  0.916\n",
       "No. Observations:                 100   F-statistic:                     138.9\n",
       "Covariance Type:                  HC1   Prob (F-statistic):           8.49e-35\n",
       "===============================================================================\n",
       "                  coef    std err          z      P>|z|      [0.025      0.975]\n",
       "-------------------------------------------------------------------------------\n",
       "Intercept   -4948.2579    702.464     -7.044      0.000   -6325.062   -3571.454\n",
       "C(Cut)[T.2]     6.5535    554.253      0.012      0.991   -1079.762    1092.869\n",
       "C(Cut)[T.3]   361.8990    420.694      0.860      0.390    -462.647    1186.445\n",
       "Carat        1.142e+04    583.752     19.558      0.000    1.03e+04    1.26e+04\n",
       "===============================================================================\n",
       "\n",
       "Notes:\n",
       "[1] Standard Errors are heteroscedasticity robust (HC1)\n",
       "\"\"\""
      ]
     },
     "execution_count": 3,
     "metadata": {},
     "output_type": "execute_result"
    }
   ],
   "source": [
    "model_diamonds.summary()"
   ]
  },
  {
   "cell_type": "code",
   "execution_count": 4,
   "metadata": {},
   "outputs": [
    {
     "data": {
      "text/html": [
       "<div>\n",
       "<style scoped>\n",
       "    .dataframe tbody tr th:only-of-type {\n",
       "        vertical-align: middle;\n",
       "    }\n",
       "\n",
       "    .dataframe tbody tr th {\n",
       "        vertical-align: top;\n",
       "    }\n",
       "\n",
       "    .dataframe thead th {\n",
       "        text-align: right;\n",
       "    }\n",
       "</style>\n",
       "<table border=\"1\" class=\"dataframe\">\n",
       "  <thead>\n",
       "    <tr style=\"text-align: right;\">\n",
       "      <th></th>\n",
       "      <th>coefs</th>\n",
       "      <th>std_coefs</th>\n",
       "      <th>elasticities</th>\n",
       "    </tr>\n",
       "  </thead>\n",
       "  <tbody>\n",
       "    <tr>\n",
       "      <th>C(Cut)[T.2]</th>\n",
       "      <td>6.553502</td>\n",
       "      <td>0.000518</td>\n",
       "      <td>0.0003</td>\n",
       "    </tr>\n",
       "    <tr>\n",
       "      <th>C(Cut)[T.3]</th>\n",
       "      <td>361.899026</td>\n",
       "      <td>0.028297</td>\n",
       "      <td>0.0151</td>\n",
       "    </tr>\n",
       "    <tr>\n",
       "      <th>Carat</th>\n",
       "      <td>11417.207561</td>\n",
       "      <td>0.966408</td>\n",
       "      <td>1.5576</td>\n",
       "    </tr>\n",
       "  </tbody>\n",
       "</table>\n",
       "</div>"
      ],
      "text/plain": [
       "                    coefs  std_coefs  elasticities\n",
       "C(Cut)[T.2]      6.553502   0.000518        0.0003\n",
       "C(Cut)[T.3]    361.899026   0.028297        0.0151\n",
       "Carat        11417.207561   0.966408        1.5576"
      ]
     },
     "execution_count": 4,
     "metadata": {},
     "output_type": "execute_result"
    }
   ],
   "source": [
    "model_diamonds.scaled_coefficients()"
   ]
  },
  {
   "cell_type": "code",
   "execution_count": 5,
   "metadata": {},
   "outputs": [],
   "source": [
    "sub = diamonds_e_100.loc[0:5]"
   ]
  },
  {
   "cell_type": "code",
   "execution_count": 6,
   "metadata": {},
   "outputs": [
    {
     "data": {
      "text/plain": [
       "0     1122.244878\n",
       "1     1223.587657\n",
       "2     7617.223891\n",
       "3    15507.926405\n",
       "4    12976.757942\n",
       "5     3507.029169\n",
       "dtype: float64"
      ]
     },
     "execution_count": 6,
     "metadata": {},
     "output_type": "execute_result"
    }
   ],
   "source": [
    "model_diamonds.predict(sub)"
   ]
  },
  {
   "cell_type": "code",
   "execution_count": 7,
   "metadata": {},
   "outputs": [
    {
     "data": {
      "text/html": [
       "<div>\n",
       "<style scoped>\n",
       "    .dataframe tbody tr th:only-of-type {\n",
       "        vertical-align: middle;\n",
       "    }\n",
       "\n",
       "    .dataframe tbody tr th {\n",
       "        vertical-align: top;\n",
       "    }\n",
       "\n",
       "    .dataframe thead th {\n",
       "        text-align: right;\n",
       "    }\n",
       "</style>\n",
       "<table border=\"1\" class=\"dataframe\">\n",
       "  <thead>\n",
       "    <tr style=\"text-align: right;\">\n",
       "      <th></th>\n",
       "      <th>Predicted</th>\n",
       "      <th>Lower</th>\n",
       "      <th>Upper</th>\n",
       "    </tr>\n",
       "  </thead>\n",
       "  <tbody>\n",
       "    <tr>\n",
       "      <th>0</th>\n",
       "      <td>1122.244878</td>\n",
       "      <td>-2432.951154</td>\n",
       "      <td>4677.440910</td>\n",
       "    </tr>\n",
       "    <tr>\n",
       "      <th>1</th>\n",
       "      <td>1223.587657</td>\n",
       "      <td>-2325.150536</td>\n",
       "      <td>4772.325849</td>\n",
       "    </tr>\n",
       "    <tr>\n",
       "      <th>2</th>\n",
       "      <td>7617.223891</td>\n",
       "      <td>4070.756158</td>\n",
       "      <td>11163.691623</td>\n",
       "    </tr>\n",
       "    <tr>\n",
       "      <th>3</th>\n",
       "      <td>15507.926405</td>\n",
       "      <td>11868.920641</td>\n",
       "      <td>19146.932169</td>\n",
       "    </tr>\n",
       "    <tr>\n",
       "      <th>4</th>\n",
       "      <td>12976.757942</td>\n",
       "      <td>9336.137597</td>\n",
       "      <td>16617.378287</td>\n",
       "    </tr>\n",
       "    <tr>\n",
       "      <th>5</th>\n",
       "      <td>3507.029169</td>\n",
       "      <td>-27.590848</td>\n",
       "      <td>7041.649186</td>\n",
       "    </tr>\n",
       "  </tbody>\n",
       "</table>\n",
       "</div>"
      ],
      "text/plain": [
       "      Predicted         Lower         Upper\n",
       "0   1122.244878  -2432.951154   4677.440910\n",
       "1   1223.587657  -2325.150536   4772.325849\n",
       "2   7617.223891   4070.756158  11163.691623\n",
       "3  15507.926405  11868.920641  19146.932169\n",
       "4  12976.757942   9336.137597  16617.378287\n",
       "5   3507.029169    -27.590848   7041.649186"
      ]
     },
     "execution_count": 7,
     "metadata": {},
     "output_type": "execute_result"
    }
   ],
   "source": [
    "model_diamonds.prediction_intervals(sub)"
   ]
  },
  {
   "cell_type": "code",
   "execution_count": null,
   "metadata": {},
   "outputs": [],
   "source": []
  }
 ],
 "metadata": {
  "kernelspec": {
   "display_name": "default",
   "language": "python",
   "name": "python3"
  },
  "language_info": {
   "codemirror_mode": {
    "name": "ipython",
    "version": 3
   },
   "file_extension": ".py",
   "mimetype": "text/x-python",
   "name": "python",
   "nbconvert_exporter": "python",
   "pygments_lexer": "ipython3",
   "version": "3.12.7"
  }
 },
 "nbformat": 4,
 "nbformat_minor": 2
}
