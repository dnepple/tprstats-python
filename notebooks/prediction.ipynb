{
 "cells": [
  {
   "cell_type": "markdown",
   "metadata": {},
   "source": [
    "# Prediction"
   ]
  },
  {
   "cell_type": "code",
   "execution_count": 1,
   "metadata": {},
   "outputs": [],
   "source": [
    "import tprstats\n",
    "import pandas as pd\n",
    "import numpy as np\n",
    "import statsmodels.api as sm\n",
    "import scipy.stats as stats\n",
    "import statsmodels.formula.api as smf\n",
    "import matplotlib.pyplot as plt\n",
    "coffee_data = pd.read_excel('../data/Coffee_Data.xlsx', engine='openpyxl')\n",
    "diamonds_211 = pd.read_excel('../data/Diamonds_211.xlsx', engine='openpyxl')\n",
    "solar_data = pd.read_excel('../data/Solar_Data.xlsx', engine='openpyxl')\n",
    "solar_new_prospects = pd.read_excel('../data/Solar_New_Prospects.xlsx', engine='openpyxl')\n",
    "diamonds_e_100= pd.read_excel('../data/Diamond_E_100.xlsx', engine='openpyxl')"
   ]
  },
  {
   "cell_type": "code",
   "execution_count": 2,
   "metadata": {},
   "outputs": [],
   "source": [
    "model_diamonds = tprstats.model(\"cs\", 'Price ~ Carat + C(Cut)', diamonds_e_100)\n",
    "# model_diamonds = tprstats.model(\"cs\", 'log(Price) ~ log(Carat) + C(Cut)', diamonds_e_100)"
   ]
  },
  {
   "cell_type": "code",
   "execution_count": 3,
   "metadata": {},
   "outputs": [
    {
     "data": {
      "text/html": [
       "<table class=\"simpletable\">\n",
       "<caption>OLS Regression Results</caption>\n",
       "<tr>\n",
       "  <th>Dep. Variable:</th>     <td>Price</td> <th>  R-squared:         </th> <td>   0.919</td>\n",
       "</tr>\n",
       "<tr>\n",
       "  <th>Model:</th>              <td>OLS</td>  <th>  Adj. R-squared:    </th> <td>   0.916</td>\n",
       "</tr>\n",
       "<tr>\n",
       "  <th>No. Observations:</th> <td>   100</td> <th>  F-statistic:       </th> <td>   138.9</td>\n",
       "</tr>\n",
       "<tr>\n",
       "  <th>Covariance Type:</th>    <td>HC1</td>  <th>  Prob (F-statistic):</th> <td>8.49e-35</td>\n",
       "</tr>\n",
       "</table>\n",
       "<table class=\"simpletable\">\n",
       "<tr>\n",
       "       <td></td>          <th>coef</th>     <th>std err</th>      <th>z</th>      <th>P>|z|</th>  <th>[0.025</th>    <th>0.975]</th>  \n",
       "</tr>\n",
       "<tr>\n",
       "  <th>Intercept</th>   <td>-4948.2579</td> <td>  702.464</td> <td>   -7.044</td> <td> 0.000</td> <td>-6325.062</td> <td>-3571.454</td>\n",
       "</tr>\n",
       "<tr>\n",
       "  <th>C(Cut)[T.2]</th> <td>    6.5535</td> <td>  554.253</td> <td>    0.012</td> <td> 0.991</td> <td>-1079.762</td> <td> 1092.869</td>\n",
       "</tr>\n",
       "<tr>\n",
       "  <th>C(Cut)[T.3]</th> <td>  361.8990</td> <td>  420.694</td> <td>    0.860</td> <td> 0.390</td> <td> -462.647</td> <td> 1186.445</td>\n",
       "</tr>\n",
       "<tr>\n",
       "  <th>Carat</th>       <td> 1.142e+04</td> <td>  583.752</td> <td>   19.558</td> <td> 0.000</td> <td> 1.03e+04</td> <td> 1.26e+04</td>\n",
       "</tr>\n",
       "</table><br/><br/>Notes:<br/>[1] Standard Errors are heteroscedasticity robust (HC1)"
      ],
      "text/latex": [
       "\\begin{center}\n",
       "\\begin{tabular}{lclc}\n",
       "\\toprule\n",
       "\\textbf{Dep. Variable:}    &     Price     & \\textbf{  R-squared:         } &     0.919   \\\\\n",
       "\\textbf{Model:}            &      OLS      & \\textbf{  Adj. R-squared:    } &     0.916   \\\\\n",
       "\\textbf{No. Observations:} &        100    & \\textbf{  F-statistic:       } &     138.9   \\\\\n",
       "\\textbf{Covariance Type:}  &      HC1      & \\textbf{  Prob (F-statistic):} &  8.49e-35   \\\\\n",
       "\\bottomrule\n",
       "\\end{tabular}\n",
       "\\begin{tabular}{lcccccc}\n",
       "                     & \\textbf{coef} & \\textbf{std err} & \\textbf{z} & \\textbf{P$> |$z$|$} & \\textbf{[0.025} & \\textbf{0.975]}  \\\\\n",
       "\\midrule\n",
       "\\textbf{Intercept}   &   -4948.2579  &      702.464     &    -7.044  &         0.000        &    -6325.062    &    -3571.454     \\\\\n",
       "\\textbf{C(Cut)[T.2]} &       6.5535  &      554.253     &     0.012  &         0.991        &    -1079.762    &     1092.869     \\\\\n",
       "\\textbf{C(Cut)[T.3]} &     361.8990  &      420.694     &     0.860  &         0.390        &     -462.647    &     1186.445     \\\\\n",
       "\\textbf{Carat}       &    1.142e+04  &      583.752     &    19.558  &         0.000        &     1.03e+04    &     1.26e+04     \\\\\n",
       "\\bottomrule\n",
       "\\end{tabular}\n",
       "%\\caption{OLS Regression Results}\n",
       "\\end{center}\n",
       "\n",
       "Notes: \\newline\n",
       " [1] Standard Errors are heteroscedasticity robust (HC1)"
      ],
      "text/plain": [
       "<class 'statsmodels.iolib.summary.Summary'>\n",
       "\"\"\"\n",
       "                            OLS Regression Results                            \n",
       "==============================================================================\n",
       "Dep. Variable:                  Price   R-squared:                       0.919\n",
       "Model:                            OLS   Adj. R-squared:                  0.916\n",
       "No. Observations:                 100   F-statistic:                     138.9\n",
       "Covariance Type:                  HC1   Prob (F-statistic):           8.49e-35\n",
       "===============================================================================\n",
       "                  coef    std err          z      P>|z|      [0.025      0.975]\n",
       "-------------------------------------------------------------------------------\n",
       "Intercept   -4948.2579    702.464     -7.044      0.000   -6325.062   -3571.454\n",
       "C(Cut)[T.2]     6.5535    554.253      0.012      0.991   -1079.762    1092.869\n",
       "C(Cut)[T.3]   361.8990    420.694      0.860      0.390    -462.647    1186.445\n",
       "Carat        1.142e+04    583.752     19.558      0.000    1.03e+04    1.26e+04\n",
       "===============================================================================\n",
       "\n",
       "Notes:\n",
       "[1] Standard Errors are heteroscedasticity robust (HC1)\n",
       "\"\"\""
      ]
     },
     "execution_count": 3,
     "metadata": {},
     "output_type": "execute_result"
    }
   ],
   "source": [
    "model_diamonds.summary()"
   ]
  },
  {
   "cell_type": "code",
   "execution_count": 4,
   "metadata": {},
   "outputs": [
    {
     "data": {
      "text/html": [
       "<div>\n",
       "<style scoped>\n",
       "    .dataframe tbody tr th:only-of-type {\n",
       "        vertical-align: middle;\n",
       "    }\n",
       "\n",
       "    .dataframe tbody tr th {\n",
       "        vertical-align: top;\n",
       "    }\n",
       "\n",
       "    .dataframe thead th {\n",
       "        text-align: right;\n",
       "    }\n",
       "</style>\n",
       "<table border=\"1\" class=\"dataframe\">\n",
       "  <thead>\n",
       "    <tr style=\"text-align: right;\">\n",
       "      <th></th>\n",
       "      <th>coefs</th>\n",
       "      <th>std_coefs</th>\n",
       "      <th>elasticities</th>\n",
       "    </tr>\n",
       "  </thead>\n",
       "  <tbody>\n",
       "    <tr>\n",
       "      <th>C(Cut)[T.2]</th>\n",
       "      <td>6.553502</td>\n",
       "      <td>0.000518</td>\n",
       "      <td>0.0003</td>\n",
       "    </tr>\n",
       "    <tr>\n",
       "      <th>C(Cut)[T.3]</th>\n",
       "      <td>361.899026</td>\n",
       "      <td>0.028297</td>\n",
       "      <td>0.0151</td>\n",
       "    </tr>\n",
       "    <tr>\n",
       "      <th>Carat</th>\n",
       "      <td>11417.207561</td>\n",
       "      <td>0.966408</td>\n",
       "      <td>1.5576</td>\n",
       "    </tr>\n",
       "  </tbody>\n",
       "</table>\n",
       "</div>"
      ],
      "text/plain": [
       "                    coefs  std_coefs  elasticities\n",
       "C(Cut)[T.2]      6.553502   0.000518        0.0003\n",
       "C(Cut)[T.3]    361.899026   0.028297        0.0151\n",
       "Carat        11417.207561   0.966408        1.5576"
      ]
     },
     "execution_count": 4,
     "metadata": {},
     "output_type": "execute_result"
    }
   ],
   "source": [
    "model_diamonds.scaled_coefficients()"
   ]
  },
  {
   "cell_type": "code",
   "execution_count": 5,
   "metadata": {},
   "outputs": [],
   "source": [
    "sub_diamond = diamonds_e_100.loc[0:5]"
   ]
  },
  {
   "cell_type": "code",
   "execution_count": 6,
   "metadata": {},
   "outputs": [
    {
     "data": {
      "text/plain": [
       "0     1122.244878\n",
       "1     1223.587657\n",
       "2     7617.223891\n",
       "3    15507.926405\n",
       "4    12976.757942\n",
       "5     3507.029169\n",
       "dtype: float64"
      ]
     },
     "execution_count": 6,
     "metadata": {},
     "output_type": "execute_result"
    }
   ],
   "source": [
    "model_diamonds.predict(sub_diamond)"
   ]
  },
  {
   "cell_type": "code",
   "execution_count": 7,
   "metadata": {},
   "outputs": [
    {
     "data": {
      "text/html": [
       "<div>\n",
       "<style scoped>\n",
       "    .dataframe tbody tr th:only-of-type {\n",
       "        vertical-align: middle;\n",
       "    }\n",
       "\n",
       "    .dataframe tbody tr th {\n",
       "        vertical-align: top;\n",
       "    }\n",
       "\n",
       "    .dataframe thead th {\n",
       "        text-align: right;\n",
       "    }\n",
       "</style>\n",
       "<table border=\"1\" class=\"dataframe\">\n",
       "  <thead>\n",
       "    <tr style=\"text-align: right;\">\n",
       "      <th></th>\n",
       "      <th>Predicted</th>\n",
       "      <th>Lower</th>\n",
       "      <th>Upper</th>\n",
       "    </tr>\n",
       "  </thead>\n",
       "  <tbody>\n",
       "    <tr>\n",
       "      <th>0</th>\n",
       "      <td>1122.244878</td>\n",
       "      <td>-2432.951154</td>\n",
       "      <td>4677.440910</td>\n",
       "    </tr>\n",
       "    <tr>\n",
       "      <th>1</th>\n",
       "      <td>1223.587657</td>\n",
       "      <td>-2325.150536</td>\n",
       "      <td>4772.325849</td>\n",
       "    </tr>\n",
       "    <tr>\n",
       "      <th>2</th>\n",
       "      <td>7617.223891</td>\n",
       "      <td>4070.756158</td>\n",
       "      <td>11163.691623</td>\n",
       "    </tr>\n",
       "    <tr>\n",
       "      <th>3</th>\n",
       "      <td>15507.926405</td>\n",
       "      <td>11868.920641</td>\n",
       "      <td>19146.932169</td>\n",
       "    </tr>\n",
       "    <tr>\n",
       "      <th>4</th>\n",
       "      <td>12976.757942</td>\n",
       "      <td>9336.137597</td>\n",
       "      <td>16617.378287</td>\n",
       "    </tr>\n",
       "    <tr>\n",
       "      <th>5</th>\n",
       "      <td>3507.029169</td>\n",
       "      <td>-27.590848</td>\n",
       "      <td>7041.649186</td>\n",
       "    </tr>\n",
       "  </tbody>\n",
       "</table>\n",
       "</div>"
      ],
      "text/plain": [
       "      Predicted         Lower         Upper\n",
       "0   1122.244878  -2432.951154   4677.440910\n",
       "1   1223.587657  -2325.150536   4772.325849\n",
       "2   7617.223891   4070.756158  11163.691623\n",
       "3  15507.926405  11868.920641  19146.932169\n",
       "4  12976.757942   9336.137597  16617.378287\n",
       "5   3507.029169    -27.590848   7041.649186"
      ]
     },
     "execution_count": 7,
     "metadata": {},
     "output_type": "execute_result"
    }
   ],
   "source": [
    "model_diamonds.prediction_intervals(sub_diamond)"
   ]
  },
  {
   "cell_type": "code",
   "execution_count": 8,
   "metadata": {},
   "outputs": [
    {
     "name": "stdout",
     "output_type": "stream",
     "text": [
      "Optimization terminated successfully.\n",
      "         Current function value: 0.102926\n",
      "         Iterations 9\n"
     ]
    }
   ],
   "source": [
    "logit_solar = tprstats.model(\"logit\", 'Sale ~ AnnualSave + AnnualCost + DrivesHybrid + NearbySolar + HomeValue', solar_data)"
   ]
  },
  {
   "cell_type": "code",
   "execution_count": 9,
   "metadata": {},
   "outputs": [
    {
     "data": {
      "text/html": [
       "<table class=\"simpletable\">\n",
       "<caption>Logit Regression Results</caption>\n",
       "<tr>\n",
       "  <th>Dep. Variable:</th>         <td>Sale</td>       <th>  No. Observations:  </th>  <td>  1500</td>  \n",
       "</tr>\n",
       "<tr>\n",
       "  <th>Model:</th>                 <td>Logit</td>      <th>  Df Residuals:      </th>  <td>  1494</td>  \n",
       "</tr>\n",
       "<tr>\n",
       "  <th>Method:</th>                 <td>MLE</td>       <th>  Df Model:          </th>  <td>     5</td>  \n",
       "</tr>\n",
       "<tr>\n",
       "  <th>Date:</th>            <td>Sun, 26 Jan 2025</td> <th>  Pseudo R-squ.:     </th>  <td>0.2847</td>  \n",
       "</tr>\n",
       "<tr>\n",
       "  <th>Time:</th>                <td>22:20:46</td>     <th>  Log-Likelihood:    </th> <td> -154.39</td> \n",
       "</tr>\n",
       "<tr>\n",
       "  <th>converged:</th>             <td>True</td>       <th>  LL-Null:           </th> <td> -215.84</td> \n",
       "</tr>\n",
       "<tr>\n",
       "  <th>Covariance Type:</th>     <td>nonrobust</td>    <th>  LLR p-value:       </th> <td>7.619e-25</td>\n",
       "</tr>\n",
       "</table>\n",
       "<table class=\"simpletable\">\n",
       "<tr>\n",
       "        <td></td>          <th>coef</th>     <th>std err</th>      <th>z</th>      <th>P>|z|</th>  <th>[0.025</th>    <th>0.975]</th>  \n",
       "</tr>\n",
       "<tr>\n",
       "  <th>Intercept</th>    <td>  -12.7445</td> <td>    4.837</td> <td>   -2.635</td> <td> 0.008</td> <td>  -22.224</td> <td>   -3.265</td>\n",
       "</tr>\n",
       "<tr>\n",
       "  <th>AnnualSave</th>   <td>    3.9268</td> <td>    0.649</td> <td>    6.048</td> <td> 0.000</td> <td>    2.654</td> <td>    5.199</td>\n",
       "</tr>\n",
       "<tr>\n",
       "  <th>AnnualCost</th>   <td>   -4.0989</td> <td>    1.475</td> <td>   -2.778</td> <td> 0.005</td> <td>   -6.990</td> <td>   -1.207</td>\n",
       "</tr>\n",
       "<tr>\n",
       "  <th>DrivesHybrid</th> <td>    0.9644</td> <td>    0.413</td> <td>    2.333</td> <td> 0.020</td> <td>    0.154</td> <td>    1.775</td>\n",
       "</tr>\n",
       "<tr>\n",
       "  <th>NearbySolar</th>  <td>    1.9421</td> <td>    0.398</td> <td>    4.884</td> <td> 0.000</td> <td>    1.163</td> <td>    2.722</td>\n",
       "</tr>\n",
       "<tr>\n",
       "  <th>HomeValue</th>    <td>    0.0178</td> <td>    0.008</td> <td>    2.192</td> <td> 0.028</td> <td>    0.002</td> <td>    0.034</td>\n",
       "</tr>\n",
       "</table>"
      ],
      "text/latex": [
       "\\begin{center}\n",
       "\\begin{tabular}{lclc}\n",
       "\\toprule\n",
       "\\textbf{Dep. Variable:}   &       Sale       & \\textbf{  No. Observations:  } &     1500    \\\\\n",
       "\\textbf{Model:}           &      Logit       & \\textbf{  Df Residuals:      } &     1494    \\\\\n",
       "\\textbf{Method:}          &       MLE        & \\textbf{  Df Model:          } &        5    \\\\\n",
       "\\textbf{Date:}            & Sun, 26 Jan 2025 & \\textbf{  Pseudo R-squ.:     } &   0.2847    \\\\\n",
       "\\textbf{Time:}            &     22:20:46     & \\textbf{  Log-Likelihood:    } &   -154.39   \\\\\n",
       "\\textbf{converged:}       &       True       & \\textbf{  LL-Null:           } &   -215.84   \\\\\n",
       "\\textbf{Covariance Type:} &    nonrobust     & \\textbf{  LLR p-value:       } & 7.619e-25   \\\\\n",
       "\\bottomrule\n",
       "\\end{tabular}\n",
       "\\begin{tabular}{lcccccc}\n",
       "                      & \\textbf{coef} & \\textbf{std err} & \\textbf{z} & \\textbf{P$> |$z$|$} & \\textbf{[0.025} & \\textbf{0.975]}  \\\\\n",
       "\\midrule\n",
       "\\textbf{Intercept}    &     -12.7445  &        4.837     &    -2.635  &         0.008        &      -22.224    &       -3.265     \\\\\n",
       "\\textbf{AnnualSave}   &       3.9268  &        0.649     &     6.048  &         0.000        &        2.654    &        5.199     \\\\\n",
       "\\textbf{AnnualCost}   &      -4.0989  &        1.475     &    -2.778  &         0.005        &       -6.990    &       -1.207     \\\\\n",
       "\\textbf{DrivesHybrid} &       0.9644  &        0.413     &     2.333  &         0.020        &        0.154    &        1.775     \\\\\n",
       "\\textbf{NearbySolar}  &       1.9421  &        0.398     &     4.884  &         0.000        &        1.163    &        2.722     \\\\\n",
       "\\textbf{HomeValue}    &       0.0178  &        0.008     &     2.192  &         0.028        &        0.002    &        0.034     \\\\\n",
       "\\bottomrule\n",
       "\\end{tabular}\n",
       "%\\caption{Logit Regression Results}\n",
       "\\end{center}"
      ],
      "text/plain": [
       "<class 'statsmodels.iolib.summary.Summary'>\n",
       "\"\"\"\n",
       "                           Logit Regression Results                           \n",
       "==============================================================================\n",
       "Dep. Variable:                   Sale   No. Observations:                 1500\n",
       "Model:                          Logit   Df Residuals:                     1494\n",
       "Method:                           MLE   Df Model:                            5\n",
       "Date:                Sun, 26 Jan 2025   Pseudo R-squ.:                  0.2847\n",
       "Time:                        22:20:46   Log-Likelihood:                -154.39\n",
       "converged:                       True   LL-Null:                       -215.84\n",
       "Covariance Type:            nonrobust   LLR p-value:                 7.619e-25\n",
       "================================================================================\n",
       "                   coef    std err          z      P>|z|      [0.025      0.975]\n",
       "--------------------------------------------------------------------------------\n",
       "Intercept      -12.7445      4.837     -2.635      0.008     -22.224      -3.265\n",
       "AnnualSave       3.9268      0.649      6.048      0.000       2.654       5.199\n",
       "AnnualCost      -4.0989      1.475     -2.778      0.005      -6.990      -1.207\n",
       "DrivesHybrid     0.9644      0.413      2.333      0.020       0.154       1.775\n",
       "NearbySolar      1.9421      0.398      4.884      0.000       1.163       2.722\n",
       "HomeValue        0.0178      0.008      2.192      0.028       0.002       0.034\n",
       "================================================================================\n",
       "\"\"\""
      ]
     },
     "execution_count": 9,
     "metadata": {},
     "output_type": "execute_result"
    }
   ],
   "source": [
    "logit_solar.summary()"
   ]
  },
  {
   "cell_type": "code",
   "execution_count": 10,
   "metadata": {},
   "outputs": [],
   "source": [
    "sub_solar = solar_data.loc[0:5]"
   ]
  },
  {
   "cell_type": "code",
   "execution_count": 11,
   "metadata": {},
   "outputs": [
    {
     "data": {
      "text/plain": [
       "0    0.016174\n",
       "1    0.004382\n",
       "2    0.023212\n",
       "3    0.003461\n",
       "4    0.086937\n",
       "5    0.049329\n",
       "dtype: float64"
      ]
     },
     "execution_count": 11,
     "metadata": {},
     "output_type": "execute_result"
    }
   ],
   "source": [
    "logit_solar.predict(sub_solar)"
   ]
  },
  {
   "cell_type": "code",
   "execution_count": 12,
   "metadata": {},
   "outputs": [
    {
     "name": "stdout",
     "output_type": "stream",
     "text": [
      "<bound method NDFrame.head of 0       1.486866\n",
      "1       1.488793\n",
      "2       1.492262\n",
      "3       1.502111\n",
      "4       1.517084\n",
      "          ...   \n",
      "1495    2.128399\n",
      "1496    2.133756\n",
      "1497    2.137215\n",
      "1498    2.181505\n",
      "1499    2.189772\n",
      "Name: AnnualCost, Length: 1500, dtype: float64>\n"
     ]
    }
   ],
   "source": [
    "print(solar_data['AnnualCost'].head)"
   ]
  },
  {
   "cell_type": "code",
   "execution_count": 13,
   "metadata": {},
   "outputs": [
    {
     "name": "stdout",
     "output_type": "stream",
     "text": [
      "[1368.0, 83.0, 22.0, 27.0]\n"
     ]
    },
    {
     "data": {
      "text/html": [
       "<div>\n",
       "<style scoped>\n",
       "    .dataframe tbody tr th:only-of-type {\n",
       "        vertical-align: middle;\n",
       "    }\n",
       "\n",
       "    .dataframe tbody tr th {\n",
       "        vertical-align: top;\n",
       "    }\n",
       "\n",
       "    .dataframe thead th {\n",
       "        text-align: right;\n",
       "    }\n",
       "</style>\n",
       "<table border=\"1\" class=\"dataframe\">\n",
       "  <thead>\n",
       "    <tr style=\"text-align: right;\">\n",
       "      <th></th>\n",
       "      <th>Summary</th>\n",
       "      <th>Actual</th>\n",
       "      <th>Predicted</th>\n",
       "      <th>Frequency</th>\n",
       "    </tr>\n",
       "  </thead>\n",
       "  <tbody>\n",
       "    <tr>\n",
       "      <th>0</th>\n",
       "      <td>Correct</td>\n",
       "      <td>0</td>\n",
       "      <td>0</td>\n",
       "      <td>1368.0</td>\n",
       "    </tr>\n",
       "    <tr>\n",
       "      <th>1</th>\n",
       "      <td>Incorrect</td>\n",
       "      <td>0</td>\n",
       "      <td>1</td>\n",
       "      <td>83.0</td>\n",
       "    </tr>\n",
       "    <tr>\n",
       "      <th>2</th>\n",
       "      <td>Incorrect</td>\n",
       "      <td>1</td>\n",
       "      <td>0</td>\n",
       "      <td>22.0</td>\n",
       "    </tr>\n",
       "    <tr>\n",
       "      <th>3</th>\n",
       "      <td>Correct</td>\n",
       "      <td>1</td>\n",
       "      <td>1</td>\n",
       "      <td>27.0</td>\n",
       "    </tr>\n",
       "  </tbody>\n",
       "</table>\n",
       "</div>"
      ],
      "text/plain": [
       "     Summary  Actual  Predicted  Frequency\n",
       "0    Correct       0          0     1368.0\n",
       "1  Incorrect       0          1       83.0\n",
       "2  Incorrect       1          0       22.0\n",
       "3    Correct       1          1       27.0"
      ]
     },
     "execution_count": 13,
     "metadata": {},
     "output_type": "execute_result"
    }
   ],
   "source": [
    "logit_solar.classification_table(p_cutoff=0.1)"
   ]
  },
  {
   "cell_type": "code",
   "execution_count": 14,
   "metadata": {},
   "outputs": [],
   "source": [
    "Xnew = pd.DataFrame({\n",
    "    'AnnualSave': [2.5, 1.9, 2.3],\n",
    "    'AnnualCost': [1.8, 1.5, 1.7],\n",
    "    'DrivesHybrid': [1, 0 , 0],\n",
    "    'NearbySolar': [0, 1, 0],\n",
    "    'HomeValue': [550, 675, 495]\n",
    "})"
   ]
  },
  {
   "cell_type": "code",
   "execution_count": 15,
   "metadata": {},
   "outputs": [
    {
     "data": {
      "text/plain": [
       "0    0.613822\n",
       "1    0.927109\n",
       "2    0.135068\n",
       "dtype: float64"
      ]
     },
     "execution_count": 15,
     "metadata": {},
     "output_type": "execute_result"
    }
   ],
   "source": [
    "logit_solar.predict(Xnew)"
   ]
  },
  {
   "cell_type": "code",
   "execution_count": null,
   "metadata": {},
   "outputs": [],
   "source": [
    "logit_solar.predict()"
   ]
  }
 ],
 "metadata": {
  "kernelspec": {
   "display_name": "default",
   "language": "python",
   "name": "python3"
  },
  "language_info": {
   "codemirror_mode": {
    "name": "ipython",
    "version": 3
   },
   "file_extension": ".py",
   "mimetype": "text/x-python",
   "name": "python",
   "nbconvert_exporter": "python",
   "pygments_lexer": "ipython3",
   "version": "3.12.7"
  }
 },
 "nbformat": 4,
 "nbformat_minor": 2
}
