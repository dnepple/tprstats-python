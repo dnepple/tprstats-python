{
 "cells": [
  {
   "cell_type": "markdown",
   "metadata": {},
   "source": [
    "# Prediction"
   ]
  },
  {
   "cell_type": "code",
   "execution_count": null,
   "metadata": {},
   "outputs": [],
   "source": [
    "import tprstats\n",
    "import pandas as pd\n",
    "import numpy as np\n",
    "import statsmodels.api as sm\n",
    "import scipy.stats as stats\n",
    "import statsmodels.formula.api as smf\n",
    "import matplotlib.pyplot as plt\n",
    "coffee_data = pd.read_excel('../data/Coffee_Data.xlsx', engine='openpyxl')\n",
    "diamonds_211 = pd.read_excel('../data/Diamonds_211.xlsx', engine='openpyxl')\n",
    "solar_data = pd.read_excel('../data/Solar_Data.xlsx', engine='openpyxl')\n",
    "solar_new_prospects = pd.read_excel('../data/Solar_New_Prospects.xlsx', engine='openpyxl')\n",
    "diamonds_e_100= pd.read_excel('../data/Diamond_E_100.xlsx', engine='openpyxl')"
   ]
  },
  {
   "cell_type": "code",
   "execution_count": null,
   "metadata": {},
   "outputs": [],
   "source": [
    "model_diamonds = tprstats.model(\"cs\", 'Price ~ Carat + C(Cut)', diamonds_e_100)\n",
    "# model_diamonds = tprstats.model(\"cs\", 'log(Price) ~ log(Carat) + C(Cut)', diamonds_e_100)"
   ]
  },
  {
   "cell_type": "code",
   "execution_count": null,
   "metadata": {},
   "outputs": [],
   "source": [
    "model_diamonds.summary()"
   ]
  },
  {
   "cell_type": "code",
   "execution_count": null,
   "metadata": {},
   "outputs": [],
   "source": [
    "model_diamonds.scaled_coefficients()"
   ]
  }
 ],
 "metadata": {
  "language_info": {
   "name": "python"
  }
 },
 "nbformat": 4,
 "nbformat_minor": 2
}
