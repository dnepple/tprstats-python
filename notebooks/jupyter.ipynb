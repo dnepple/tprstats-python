{
 "cells": [
  {
   "cell_type": "markdown",
   "id": "16f9bd00",
   "metadata": {},
   "source": [
    "# Jupyter Guide\n",
    "\n",
    "Jupyter Notebooks are interactive notebooks that allow us to write text, run Python code and view data side-by-side. The file extension for a Jupyter Notebook is \".ipynb\"which stands for interactive python notebook."
   ]
  },
  {
   "cell_type": "markdown",
   "id": "56224ee1",
   "metadata": {},
   "source": [
    "## Using Jupyter Notebooks\n",
    "A Jupyter Notebook is organized into cells. There are three types of cells: markdown cells, code cells and output cells.\n",
    "\n",
    "**Markdown Cells (Text Cells)**  \n",
    "Put your text here. Mardown cells allows us to document our work alongside our Python code.\n",
    "\n",
    "**Code Cells**   \n",
    "Put your code here. Code cells let you interactively write and run your Python code.   \n",
    "\n",
    "**Output Cells**  \n",
    "When a Code Cell is run, an Output Cell is created by Jupyter to show the results of your code. By default, Jupyter displays the output of the last line of code.\n",
    "\n",
    "A note on Markdown: While you may want to learn how to use Markdown Syntax to format your text, it's not terribly important. I recommend picking it up over time by looking up Markdown Syntax as you need it. For a guide to Markdown Syntax, go to https://www.markdownguide.org/basic-syntax/"
   ]
  },
  {
   "cell_type": "markdown",
   "id": "7a245ba1-d956-4ea9-8ad5-225482a54da4",
   "metadata": {},
   "source": [
    "# The General Notebook Template\n",
    "\n",
    "Most of the notebooks we create will follow a similar pattern.\n",
    "\n",
    "1. Import Python packages.\n",
    "2. Import data.\n",
    "3. Explore and visualize data.\n",
    "4. Analyze Data.\n",
    "5. Summarize results. \n",
    "\n",
    "Let's follow this template and talk a little about Python's syntax."
   ]
  },
  {
   "cell_type": "code",
   "execution_count": 1,
   "id": "8cf1da20",
   "metadata": {},
   "outputs": [
    {
     "data": {
      "image/png": "[encoded data removed]",
      "text/plain": [
       "<Figure size 640x480 with 1 Axes>"
      ]
     },
     "metadata": {},
     "output_type": "display_data"
    }
   ],
   "source": [
    "# imports packages\n",
    "import pandas\n",
    "import matplotlib\n",
    "import tprstats\n",
    "\n",
    "# import data \n",
    "coffee_data = pandas.read_excel(\"../data/Coffee_Data_More_Variables.xlsx\").dropna()\n",
    "\n",
    "# view summary statistics\n",
    "coffee_data.describe()\n",
    "\n",
    "# visualize data\n",
    "coffee_data['rpcarb'].plot.hist()\n",
    "\n",
    "# run a regression\n",
    "coffee_regression = tprstats.model(\"ts\", \"cons~ rpcofe + rpcarb + rpcinc\", coffee_data)"
   ]
  },
  {
   "cell_type": "markdown",
   "id": "27edcfe8",
   "metadata": {},
   "source": [
    "## Import Packages\n",
    "\n",
    "To import a package, we write an import statement. An import statement begins with the word \"import\" followed by the name of the package we want to import. Each import statement should go on it's own line.\n",
    "\n",
    "```\n",
    "import pandas\n",
    "import matplotlib\n",
    "import tprstats\n",
    "```\n",
    "Here we import the pandas package to handle our data, the matplotlib to handle visualization and our own tprstats package to run regressions. \n",
    "\n",
    "Try to keep your import statements at the beginning of your notebook to keep things organized."
   ]
  },
  {
   "cell_type": "raw",
   "id": "46e7d13e-fe9a-46a2-b636-14400b83b83a",
   "metadata": {
    "vscode": {
     "languageId": "raw"
    }
   },
   "source": [
    "# imports packages\n",
    "import pandas\n",
    "import matplotlib\n",
    "import tprstats"
   ]
  },
  {
   "cell_type": "markdown",
   "id": "a001519f",
   "metadata": {},
   "source": [
    "## Import Data\n",
    "\n",
    "We're going to use the pandas package to import some data and assign it to the variable 'coffee_data'. "
   ]
  },
  {
   "cell_type": "code",
   "execution_count": 6,
   "id": "6c37717b-7047-44a4-9cc5-d90ef05959ae",
   "metadata": {
    "scrolled": true
   },
   "outputs": [
    {
     "data": {
      "text/html": [
       "<div>\n",
       "<style scoped>\n",
       "    .dataframe tbody tr th:only-of-type {\n",
       "        vertical-align: middle;\n",
       "    }\n",
       "\n",
       "    .dataframe tbody tr th {\n",
       "        vertical-align: top;\n",
       "    }\n",
       "\n",
       "    .dataframe thead th {\n",
       "        text-align: right;\n",
       "    }\n",
       "</style>\n",
       "<table border=\"1\" class=\"dataframe\">\n",
       "  <thead>\n",
       "    <tr style=\"text-align: right;\">\n",
       "      <th></th>\n",
       "      <th>year</th>\n",
       "      <th>cons</th>\n",
       "      <th>rpcarb</th>\n",
       "      <th>rpcinc</th>\n",
       "      <th>rpcofe</th>\n",
       "    </tr>\n",
       "  </thead>\n",
       "  <tbody>\n",
       "    <tr>\n",
       "      <th>0</th>\n",
       "      <td>1955</td>\n",
       "      <td>15.4</td>\n",
       "      <td>175.189160</td>\n",
       "      <td>11.099841</td>\n",
       "      <td>127.357610</td>\n",
       "    </tr>\n",
       "    <tr>\n",
       "      <th>1</th>\n",
       "      <td>1956</td>\n",
       "      <td>15.9</td>\n",
       "      <td>172.559679</td>\n",
       "      <td>11.427008</td>\n",
       "      <td>133.171467</td>\n",
       "    </tr>\n",
       "    <tr>\n",
       "      <th>2</th>\n",
       "      <td>1957</td>\n",
       "      <td>15.6</td>\n",
       "      <td>167.203645</td>\n",
       "      <td>11.501425</td>\n",
       "      <td>126.014524</td>\n",
       "    </tr>\n",
       "    <tr>\n",
       "      <th>3</th>\n",
       "      <td>1958</td>\n",
       "      <td>15.5</td>\n",
       "      <td>162.765431</td>\n",
       "      <td>11.416743</td>\n",
       "      <td>108.808649</td>\n",
       "    </tr>\n",
       "    <tr>\n",
       "      <th>4</th>\n",
       "      <td>1959</td>\n",
       "      <td>16.0</td>\n",
       "      <td>167.058340</td>\n",
       "      <td>11.811000</td>\n",
       "      <td>90.222985</td>\n",
       "    </tr>\n",
       "    <tr>\n",
       "      <th>...</th>\n",
       "      <td>...</td>\n",
       "      <td>...</td>\n",
       "      <td>...</td>\n",
       "      <td>...</td>\n",
       "      <td>...</td>\n",
       "    </tr>\n",
       "    <tr>\n",
       "      <th>56</th>\n",
       "      <td>2011</td>\n",
       "      <td>9.6</td>\n",
       "      <td>70.584321</td>\n",
       "      <td>36.298750</td>\n",
       "      <td>95.058586</td>\n",
       "    </tr>\n",
       "    <tr>\n",
       "      <th>57</th>\n",
       "      <td>2012</td>\n",
       "      <td>9.7</td>\n",
       "      <td>70.106035</td>\n",
       "      <td>37.163583</td>\n",
       "      <td>94.706816</td>\n",
       "    </tr>\n",
       "    <tr>\n",
       "      <th>58</th>\n",
       "      <td>2013</td>\n",
       "      <td>9.9</td>\n",
       "      <td>69.480075</td>\n",
       "      <td>36.373750</td>\n",
       "      <td>87.875659</td>\n",
       "    </tr>\n",
       "    <tr>\n",
       "      <th>59</th>\n",
       "      <td>2014</td>\n",
       "      <td>10.0</td>\n",
       "      <td>68.182719</td>\n",
       "      <td>37.076750</td>\n",
       "      <td>84.898016</td>\n",
       "    </tr>\n",
       "    <tr>\n",
       "      <th>60</th>\n",
       "      <td>2015</td>\n",
       "      <td>10.2</td>\n",
       "      <td>66.952217</td>\n",
       "      <td>38.095417</td>\n",
       "      <td>86.719588</td>\n",
       "    </tr>\n",
       "  </tbody>\n",
       "</table>\n",
       "<p>61 rows × 5 columns</p>\n",
       "</div>"
      ],
      "text/plain": [
       "    year  cons      rpcarb     rpcinc      rpcofe\n",
       "0   1955  15.4  175.189160  11.099841  127.357610\n",
       "1   1956  15.9  172.559679  11.427008  133.171467\n",
       "2   1957  15.6  167.203645  11.501425  126.014524\n",
       "3   1958  15.5  162.765431  11.416743  108.808649\n",
       "4   1959  16.0  167.058340  11.811000   90.222985\n",
       "..   ...   ...         ...        ...         ...\n",
       "56  2011   9.6   70.584321  36.298750   95.058586\n",
       "57  2012   9.7   70.106035  37.163583   94.706816\n",
       "58  2013   9.9   69.480075  36.373750   87.875659\n",
       "59  2014  10.0   68.182719  37.076750   84.898016\n",
       "60  2015  10.2   66.952217  38.095417   86.719588\n",
       "\n",
       "[61 rows x 5 columns]"
      ]
     },
     "execution_count": 6,
     "metadata": {},
     "output_type": "execute_result"
    }
   ],
   "source": [
    "# import data \n",
    "coffee_data = pandas.read_excel(\"../data/Coffee_Data.xlsx\").dropna()\n",
    "coffee_data"
   ]
  },
  {
   "cell_type": "markdown",
   "id": "c29eba32",
   "metadata": {},
   "source": [
    "### Summary Statistics"
   ]
  },
  {
   "cell_type": "code",
   "execution_count": 7,
   "id": "7bf3a486",
   "metadata": {},
   "outputs": [
    {
     "data": {
      "text/html": [
       "<div>\n",
       "<style scoped>\n",
       "    .dataframe tbody tr th:only-of-type {\n",
       "        vertical-align: middle;\n",
       "    }\n",
       "\n",
       "    .dataframe tbody tr th {\n",
       "        vertical-align: top;\n",
       "    }\n",
       "\n",
       "    .dataframe thead th {\n",
       "        text-align: right;\n",
       "    }\n",
       "</style>\n",
       "<table border=\"1\" class=\"dataframe\">\n",
       "  <thead>\n",
       "    <tr style=\"text-align: right;\">\n",
       "      <th></th>\n",
       "      <th>year</th>\n",
       "      <th>cons</th>\n",
       "      <th>rpcarb</th>\n",
       "      <th>rpcinc</th>\n",
       "      <th>rpcofe</th>\n",
       "    </tr>\n",
       "  </thead>\n",
       "  <tbody>\n",
       "    <tr>\n",
       "      <th>count</th>\n",
       "      <td>61.000000</td>\n",
       "      <td>61.000000</td>\n",
       "      <td>61.000000</td>\n",
       "      <td>61.000000</td>\n",
       "      <td>61.000000</td>\n",
       "    </tr>\n",
       "    <tr>\n",
       "      <th>mean</th>\n",
       "      <td>1985.000000</td>\n",
       "      <td>11.498361</td>\n",
       "      <td>108.129305</td>\n",
       "      <td>23.654950</td>\n",
       "      <td>97.335354</td>\n",
       "    </tr>\n",
       "    <tr>\n",
       "      <th>std</th>\n",
       "      <td>17.752934</td>\n",
       "      <td>2.549084</td>\n",
       "      <td>38.370392</td>\n",
       "      <td>8.522765</td>\n",
       "      <td>23.501380</td>\n",
       "    </tr>\n",
       "    <tr>\n",
       "      <th>min</th>\n",
       "      <td>1955.000000</td>\n",
       "      <td>7.900000</td>\n",
       "      <td>66.574236</td>\n",
       "      <td>11.099841</td>\n",
       "      <td>73.876182</td>\n",
       "    </tr>\n",
       "    <tr>\n",
       "      <th>25%</th>\n",
       "      <td>1970.000000</td>\n",
       "      <td>9.600000</td>\n",
       "      <td>71.656020</td>\n",
       "      <td>16.641833</td>\n",
       "      <td>83.558506</td>\n",
       "    </tr>\n",
       "    <tr>\n",
       "      <th>50%</th>\n",
       "      <td>1985.000000</td>\n",
       "      <td>10.200000</td>\n",
       "      <td>95.645815</td>\n",
       "      <td>22.961083</td>\n",
       "      <td>89.470220</td>\n",
       "    </tr>\n",
       "    <tr>\n",
       "      <th>75%</th>\n",
       "      <td>2000.000000</td>\n",
       "      <td>13.700000</td>\n",
       "      <td>146.511642</td>\n",
       "      <td>31.523250</td>\n",
       "      <td>100.066007</td>\n",
       "    </tr>\n",
       "    <tr>\n",
       "      <th>max</th>\n",
       "      <td>2015.000000</td>\n",
       "      <td>16.000000</td>\n",
       "      <td>175.189160</td>\n",
       "      <td>38.095417</td>\n",
       "      <td>204.098469</td>\n",
       "    </tr>\n",
       "  </tbody>\n",
       "</table>\n",
       "</div>"
      ],
      "text/plain": [
       "              year       cons      rpcarb     rpcinc      rpcofe\n",
       "count    61.000000  61.000000   61.000000  61.000000   61.000000\n",
       "mean   1985.000000  11.498361  108.129305  23.654950   97.335354\n",
       "std      17.752934   2.549084   38.370392   8.522765   23.501380\n",
       "min    1955.000000   7.900000   66.574236  11.099841   73.876182\n",
       "25%    1970.000000   9.600000   71.656020  16.641833   83.558506\n",
       "50%    1985.000000  10.200000   95.645815  22.961083   89.470220\n",
       "75%    2000.000000  13.700000  146.511642  31.523250  100.066007\n",
       "max    2015.000000  16.000000  175.189160  38.095417  204.098469"
      ]
     },
     "execution_count": 7,
     "metadata": {},
     "output_type": "execute_result"
    }
   ],
   "source": [
    "coffee_data.describe()"
   ]
  },
  {
   "cell_type": "markdown",
   "id": "372d391a",
   "metadata": {},
   "source": [
    "## Exploring Data\n",
    "The Pandas package already comes with some useful graphs for visualizing data. While you can create custom graphs using a package like [matplotlib package](https://matplotlib.org/), we will mostly rely on graphs that have already be built for us."
   ]
  },
  {
   "cell_type": "code",
   "execution_count": 8,
   "id": "12dcf6d4",
   "metadata": {},
   "outputs": [
    {
     "data": {
      "text/plain": [
       "<Axes: ylabel='Frequency'>"
      ]
     },
     "execution_count": 8,
     "metadata": {},
     "output_type": "execute_result"
    },
    {
     "data": {
      "image/png": "[encoded data removed]",
      "text/plain": [
       "<Figure size 640x480 with 1 Axes>"
      ]
     },
     "metadata": {},
     "output_type": "display_data"
    }
   ],
   "source": [
    "coffee_data['rpcarb'].plot.hist()"
   ]
  },
  {
   "cell_type": "markdown",
   "id": "0af54308-24d6-49e2-9616-1fc5f1c310b9",
   "metadata": {},
   "source": [
    "## Data Analysis\n",
    "Much of our data will revolve around running regressions. "
   ]
  },
  {
   "cell_type": "code",
   "execution_count": 9,
   "id": "aeedacc4-06bb-4599-81c4-b9bd20f735ef",
   "metadata": {},
   "outputs": [],
   "source": [
    "coffee_regression = tprstats.model(\"ts\", \"cons~ rpcofe + rpcarb + rpcinc\", coffee_data)"
   ]
  }
 ],
 "metadata": {
  "kernelspec": {
   "display_name": "default",
   "language": "python",
   "name": "python3"
  },
  "language_info": {
   "codemirror_mode": {
    "name": "ipython",
    "version": 3
   },
   "file_extension": ".py",
   "mimetype": "text/x-python",
   "name": "python",
   "nbconvert_exporter": "python",
   "pygments_lexer": "ipython3",
   "version": "3.12.7"
  }
 },
 "nbformat": 4,
 "nbformat_minor": 5
}
