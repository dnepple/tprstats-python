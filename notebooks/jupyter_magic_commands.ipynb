{
 "cells": [
  {
   "cell_type": "code",
   "execution_count": 4,
   "id": "b411fe48-6a4d-493e-a813-c3b7165d325a",
   "metadata": {},
   "outputs": [],
   "source": [
    "# this is a Jupyter \"magic\" command that let's you rotate matplotlib graphs\n",
    "%matplotlib ipympl\n",
    "import tprstats\n",
    "import pandas as pd"
   ]
  },
  {
   "cell_type": "code",
   "execution_count": 5,
   "id": "d6260a9a-4a61-4898-9892-5d8e47c8b4d7",
   "metadata": {},
   "outputs": [],
   "source": [
    "plot_3d_example = pd.read_excel('../data/Plot_3D_Example.xlsx')"
   ]
  },
  {
   "cell_type": "code",
   "execution_count": null,
   "id": "cbf056c9",
   "metadata": {},
   "outputs": [],
   "source": [
    "tprstats.plot_3D('x', 'y', 'z', plot_3d_example)"
   ]
  },
  {
   "cell_type": "code",
   "execution_count": null,
   "id": "40ec0a8a",
   "metadata": {},
   "outputs": [],
   "source": []
  }
 ],
 "metadata": {
  "kernelspec": {
   "display_name": "default",
   "language": "python",
   "name": "python3"
  },
  "language_info": {
   "codemirror_mode": {
    "name": "ipython",
    "version": 3
   },
   "file_extension": ".py",
   "mimetype": "text/x-python",
   "name": "python",
   "nbconvert_exporter": "python",
   "pygments_lexer": "ipython3",
   "version": "3.12.7"
  }
 },
 "nbformat": 4,
 "nbformat_minor": 5
}
