{
 "cells": [
  {
   "cell_type": "code",
   "execution_count": null,
   "id": "b638a026-38f5-4201-94b3-6427f39e814d",
   "metadata": {},
   "outputs": [],
   "source": []
  },
  {
   "cell_type": "code",
   "execution_count": null,
   "id": "b411fe48-6a4d-493e-a813-c3b7165d325a",
   "metadata": {},
   "outputs": [],
   "source": [
    "import tprstats\n",
    "import numpy as np\n",
    "import pandas as pd\n",
    "import matplotlib.pyplot as plt\n",
    "import statsmodels.api as sm"
   ]
  },
  {
   "cell_type": "code",
   "execution_count": null,
   "id": "0ae1bc9a-f27e-450c-93ec-7894e47515ad",
   "metadata": {},
   "outputs": [],
   "source": [
    "def plot_actual_predicted_PI(linmod, MyData, col_name):\n",
    "    # Extract the actual values\n",
    "    Y = MyData[col_name].values\n",
    "    Observation = np.arange(1, len(MyData) + 1)\n",
    "    \n",
    "    # Get predictions and prediction intervals\n",
    "    X = sm.add_constant(MyData.drop(columns=[col_name]))\n",
    "    Pred_and_PI = linmod.result().get_prediction(X).summary_frame(alpha=0.05)\n",
    "    Predicted = Pred_and_PI['mean']\n",
    "    Lower = Pred_and_PI['obs_ci_lower']\n",
    "    Upper = Pred_and_PI['obs_ci_upper']\n",
    "    \n",
    "    # Determine the y-axis limits\n",
    "    ymax = max(Upper+.5)\n",
    "    ymin = min(Lower-.5)\n",
    "    \n",
    "    # Plot actual values, predicted values, and prediction intervals\n",
    "    plt.figure(figsize=(10, 6))\n",
    "    plt.scatter(Observation, Y, color='black', label='Actual', s=20)\n",
    "    plt.plot(Observation, Y, color='black')\n",
    "    plt.plot(Observation, Predicted, color='red', label='Predicted')\n",
    "    plt.plot(Observation, Upper, color='blue', label='95% PI')\n",
    "    plt.plot(Observation, Lower, color='blue')\n",
    "    \n",
    "    plt.ylim(ymin, ymax)\n",
    "    plt.xlabel('Observation')\n",
    "    plt.ylabel(col_name)\n",
    "    plt.title('Actual (black), Predicted (red), and 95% PI (blue)')\n",
    "    plt.legend()\n",
    "    plt.show()\n",
    "\n",
    "# Example usage:\n",
    "# Assuming linmod is a fitted statsmodels OLS model and MyData is a pandas DataFrame\n",
    "# plot_actual_predicted_PI(linmod, MyData, 'col_name')"
   ]
  },
  {
   "cell_type": "code",
   "execution_count": null,
   "id": "d6260a9a-4a61-4898-9892-5d8e47c8b4d7",
   "metadata": {},
   "outputs": [],
   "source": [
    "coffee_data = pd.read_excel('../data/Coffee_Data.xlsx', engine='openpyxl')\n",
    "model_coffee_ts = tprstats.model(name = \"ts\", formula='cons~rpcarb+rpcinc+rpcofe', data=coffee_data)\n",
    "\n"
   ]
  },
  {
   "cell_type": "code",
   "execution_count": null,
   "id": "5e7b9e1a-0b4f-4ee9-aa81-12eecea28cdf",
   "metadata": {},
   "outputs": [],
   "source": [
    "plot_actual_predicted_PI(model_coffee_ts, coffee_data, \"cons\")"
   ]
  },
  {
   "cell_type": "code",
   "execution_count": null,
   "id": "24db7c4d-934b-487b-b025-5ed9067eb84d",
   "metadata": {},
   "outputs": [],
   "source": [
    "\n",
    "\n",
    "def plot_log_actual_predicted_PI(linmod, MyData, col_name):\n",
    "    import numpy as np\n",
    "    # Extract the actual values\n",
    "    Y = MyData[col_name].values\n",
    "    Observation = np.arange(1, len(MyData) + 1)\n",
    "    \n",
    "    # Get predictions and prediction intervals\n",
    "    X = sm.add_constant(MyData.drop(columns=[col_name]))\n",
    "    Pred_and_PI = linmod.result().get_prediction(X).summary_frame(alpha=0.05)\n",
    "    Predicted = np.exp(Pred_and_PI['mean'])\n",
    "    Lower = np.exp(Pred_and_PI['obs_ci_lower'])\n",
    "    Upper = np.exp(Pred_and_PI['obs_ci_upper'])\n",
    "    \n",
    "    # Determine the y-axis limits\n",
    "    ymax = max(Upper+1)\n",
    "    ymin = min(Lower-1)\n",
    "    \n",
    "    # Plot actual values, predicted values, and prediction intervals\n",
    "    plt.figure(figsize=(10, 6))\n",
    "    plt.scatter(Observation, Y, color='black', label='Actual', s=20)\n",
    "    plt.plot(Observation, Y, color='black')\n",
    "    plt.plot(Observation, Predicted, color='red', label='Predicted')\n",
    "    plt.plot(Observation, Upper, color='blue', label='95% PI')\n",
    "    plt.plot(Observation, Lower, color='blue')\n",
    "    \n",
    "    plt.ylim(ymin, ymax)\n",
    "    plt.xlabel('Observation')\n",
    "    plt.ylabel(col_name)\n",
    "    plt.title('Actual (black), Predicted (red), and 95% PI (blue)')\n",
    "    plt.legend()\n",
    "    plt.show()\n",
    "\n",
    "# Example usage:\n",
    "# Assuming linmod is a fitted statsmodels OLS model and MyData is a pandas DataFrame\n",
    "# plot_actual_predicted_PI(linmod, MyData, 'col_name')"
   ]
  },
  {
   "cell_type": "code",
   "execution_count": null,
   "id": "0cb77826-ef1c-4300-9a7f-fee18db3de4d",
   "metadata": {},
   "outputs": [],
   "source": [
    "model_log_coffee_ts = tprstats.model(name = \"ts\", formula='log(cons) ~ log(rpcarb) + log(rpcinc) + log(rpcofe)', data=coffee_data)"
   ]
  },
  {
   "cell_type": "code",
   "execution_count": null,
   "id": "3c31cb05-6d75-46fd-b1ae-75d2ad72a4fa",
   "metadata": {},
   "outputs": [],
   "source": [
    "plot_log_actual_predicted_PI(model_log_coffee_ts,coffee_data,\"cons\")"
   ]
  },
  {
   "cell_type": "code",
   "execution_count": null,
   "id": "c4938595-78e5-4b0b-a041-fc6cd398415b",
   "metadata": {},
   "outputs": [],
   "source": []
  }
 ],
 "metadata": {
  "kernelspec": {
   "display_name": "Python 3 (ipykernel)",
   "language": "python",
   "name": "python3"
  },
  "language_info": {
   "codemirror_mode": {
    "name": "ipython",
    "version": 3
   },
   "file_extension": ".py",
   "mimetype": "text/x-python",
   "name": "python",
   "nbconvert_exporter": "python",
   "pygments_lexer": "ipython3",
   "version": "3.12.5"
  }
 },
 "nbformat": 4,
 "nbformat_minor": 5
}
