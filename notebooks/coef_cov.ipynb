{
 "cells": [
  {
   "cell_type": "markdown",
   "metadata": {},
   "source": [
    "# Coefficients and Covariance Matrix"
   ]
  },
  {
   "cell_type": "code",
   "execution_count": 14,
   "metadata": {},
   "outputs": [],
   "source": [
    "import tprstats\n",
    "import pandas as pd\n",
    "import numpy as np\n",
    "coffee_data = pd.read_excel('../data/Coffee_Data.xlsx', engine='openpyxl')\n",
    "diamonds_211 = pd.read_excel('../data/Diamonds_211.xlsx', engine='openpyxl')"
   ]
  },
  {
   "cell_type": "code",
   "execution_count": 15,
   "metadata": {},
   "outputs": [],
   "source": [
    "model_coffee_ts = tprstats.model(name = \"ts\", formula='cons~rpcarb+rpcinc+rpcofe', data=coffee_data)"
   ]
  },
  {
   "cell_type": "code",
   "execution_count": 16,
   "metadata": {},
   "outputs": [],
   "source": [
    "coefs, cov_matrix = model_coffee_ts.coefficients_and_covariance()"
   ]
  },
  {
   "cell_type": "code",
   "execution_count": 17,
   "metadata": {},
   "outputs": [
    {
     "data": {
      "text/plain": [
       "array([ 0.9172334 ,  0.08529847,  0.10575733, -0.01217535])"
      ]
     },
     "execution_count": 17,
     "metadata": {},
     "output_type": "execute_result"
    }
   ],
   "source": [
    "rng = np.random.default_rng()\n",
    "rng.multivariate_normal(coefs, cov_matrix)"
   ]
  },
  {
   "cell_type": "code",
   "execution_count": 18,
   "metadata": {},
   "outputs": [],
   "source": [
    "observations = rng.multivariate_normal(coefs, cov_matrix, 1000000)\n",
    "df = pd.DataFrame(observations)"
   ]
  },
  {
   "cell_type": "code",
   "execution_count": 19,
   "metadata": {},
   "outputs": [
    {
     "name": "stdout",
     "output_type": "stream",
     "text": [
      "[[ 3.24422641  0.07610235  0.05937123 -0.01337342]\n",
      " [-0.29940771  0.09052016  0.11912579 -0.00842717]\n",
      " [ 0.23385433  0.08718008  0.12456651 -0.01067999]\n",
      " ...\n",
      " [-0.77803988  0.09406142  0.1485133  -0.01397473]\n",
      " [ 3.36754223  0.07933322  0.06581782 -0.02094708]\n",
      " [ 0.97176293  0.08600264  0.10671679 -0.01323439]]\n"
     ]
    }
   ],
   "source": [
    "print(observations)"
   ]
  },
  {
   "cell_type": "code",
   "execution_count": 20,
   "metadata": {},
   "outputs": [
    {
     "name": "stdout",
     "output_type": "stream",
     "text": [
      "               0         1         2         3\n",
      "0       3.244226  0.076102  0.059371 -0.013373\n",
      "1      -0.299408  0.090520  0.119126 -0.008427\n",
      "2       0.233854  0.087180  0.124567 -0.010680\n",
      "3       0.885428  0.087474  0.111143 -0.015219\n",
      "4      -2.072088  0.096889  0.158066 -0.006926\n",
      "...          ...       ...       ...       ...\n",
      "999995 -1.158917  0.097344  0.157117 -0.015450\n",
      "999996 -2.494067  0.102218  0.166136 -0.008725\n",
      "999997 -0.778040  0.094061  0.148513 -0.013975\n",
      "999998  3.367542  0.079333  0.065818 -0.020947\n",
      "999999  0.971763  0.086003  0.106717 -0.013234\n",
      "\n",
      "[1000000 rows x 4 columns]\n"
     ]
    }
   ],
   "source": [
    "print(df)"
   ]
  },
  {
   "cell_type": "code",
   "execution_count": 21,
   "metadata": {},
   "outputs": [
    {
     "data": {
      "text/plain": [
       "0    0.056730\n",
       "1    0.090119\n",
       "2    0.123474\n",
       "3   -0.012571\n",
       "dtype: float64"
      ]
     },
     "execution_count": 21,
     "metadata": {},
     "output_type": "execute_result"
    }
   ],
   "source": [
    "df.mean()"
   ]
  },
  {
   "cell_type": "code",
   "execution_count": 24,
   "metadata": {},
   "outputs": [],
   "source": [
    "df=model_coffee_ts.coefficients_draw()"
   ]
  },
  {
   "cell_type": "code",
   "execution_count": 25,
   "metadata": {},
   "outputs": [
    {
     "data": {
      "text/plain": [
       "Intercept    0.056694\n",
       "rpcarb       0.090116\n",
       "rpcinc       0.123460\n",
       "rpcofe      -0.012565\n",
       "dtype: float64"
      ]
     },
     "execution_count": 25,
     "metadata": {},
     "output_type": "execute_result"
    }
   ],
   "source": [
    "df.mean()"
   ]
  },
  {
   "cell_type": "code",
   "execution_count": null,
   "metadata": {},
   "outputs": [],
   "source": []
  }
 ],
 "metadata": {
  "kernelspec": {
   "display_name": "default",
   "language": "python",
   "name": "python3"
  },
  "language_info": {
   "codemirror_mode": {
    "name": "ipython",
    "version": 3
   },
   "file_extension": ".py",
   "mimetype": "text/x-python",
   "name": "python",
   "nbconvert_exporter": "python",
   "pygments_lexer": "ipython3",
   "version": "3.12.7"
  }
 },
 "nbformat": 4,
 "nbformat_minor": 2
}
