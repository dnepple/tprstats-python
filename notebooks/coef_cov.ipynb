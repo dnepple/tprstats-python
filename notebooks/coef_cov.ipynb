{
 "cells": [
  {
   "cell_type": "markdown",
   "metadata": {},
   "source": [
    "# Coefficients and Covariance Matrix"
   ]
  },
  {
   "cell_type": "code",
   "execution_count": 1,
   "metadata": {},
   "outputs": [],
   "source": [
    "import tprstats\n",
    "import pandas as pd\n",
    "import numpy as np\n",
    "coffee_data = pd.read_excel('../data/Coffee_Data.xlsx', engine='openpyxl')\n",
    "diamonds_211 = pd.read_excel('../data/Diamonds_211.xlsx', engine='openpyxl')"
   ]
  },
  {
   "cell_type": "code",
   "execution_count": 2,
   "metadata": {},
   "outputs": [],
   "source": [
    "model_coffee_ts = tprstats.model(name = \"ts\", formula='cons~rpcarb+rpcinc+rpcofe', data=coffee_data)"
   ]
  },
  {
   "cell_type": "code",
   "execution_count": 3,
   "metadata": {},
   "outputs": [],
   "source": [
    "coefs, cov_matrix = model_coffee_ts.coefficients_and_covariance()"
   ]
  },
  {
   "cell_type": "code",
   "execution_count": 4,
   "metadata": {},
   "outputs": [
    {
     "data": {
      "text/plain": [
       "array([ 0.54957717,  0.08986039,  0.12990827, -0.01950158])"
      ]
     },
     "execution_count": 4,
     "metadata": {},
     "output_type": "execute_result"
    }
   ],
   "source": [
    "rng = np.random.default_rng()\n",
    "rng.multivariate_normal(coefs, cov_matrix)"
   ]
  },
  {
   "cell_type": "code",
   "execution_count": 5,
   "metadata": {},
   "outputs": [],
   "source": [
    "observations = rng.multivariate_normal(coefs, cov_matrix, 1000000)\n",
    "df = pd.DataFrame(observations)"
   ]
  },
  {
   "cell_type": "code",
   "execution_count": 6,
   "metadata": {},
   "outputs": [
    {
     "name": "stdout",
     "output_type": "stream",
     "text": [
      "[[ 0.91181328  0.08972305  0.11317429 -0.0182275 ]\n",
      " [ 6.12978457  0.0702123   0.03022137 -0.03003992]\n",
      " [ 1.71776875  0.08591423  0.10033105 -0.01907534]\n",
      " ...\n",
      " [-1.44468381  0.09692077  0.15132774 -0.01149371]\n",
      " [-1.62504714  0.09876438  0.15592442 -0.01222604]\n",
      " [ 3.06729988  0.07476399  0.0629481  -0.01259341]]\n"
     ]
    }
   ],
   "source": [
    "print(observations)"
   ]
  },
  {
   "cell_type": "code",
   "execution_count": 7,
   "metadata": {},
   "outputs": [
    {
     "name": "stdout",
     "output_type": "stream",
     "text": [
      "               0         1         2         3\n",
      "0       0.911813  0.089723  0.113174 -0.018228\n",
      "1       6.129785  0.070212  0.030221 -0.030040\n",
      "2       1.717769  0.085914  0.100331 -0.019075\n",
      "3      -1.664596  0.097694  0.162676 -0.013304\n",
      "4       0.894314  0.087805  0.114655 -0.016823\n",
      "...          ...       ...       ...       ...\n",
      "999995  1.092510  0.091947  0.119321 -0.024859\n",
      "999996 -4.070985  0.104324  0.205854 -0.007680\n",
      "999997 -1.444684  0.096921  0.151328 -0.011494\n",
      "999998 -1.625047  0.098764  0.155924 -0.012226\n",
      "999999  3.067300  0.074764  0.062948 -0.012593\n",
      "\n",
      "[1000000 rows x 4 columns]\n"
     ]
    }
   ],
   "source": [
    "print(df)"
   ]
  },
  {
   "cell_type": "code",
   "execution_count": 8,
   "metadata": {},
   "outputs": [
    {
     "data": {
      "text/plain": [
       "0    0.055866\n",
       "1    0.090121\n",
       "2    0.123494\n",
       "3   -0.012570\n",
       "dtype: float64"
      ]
     },
     "execution_count": 8,
     "metadata": {},
     "output_type": "execute_result"
    }
   ],
   "source": [
    "df.mean()"
   ]
  },
  {
   "cell_type": "code",
   "execution_count": null,
   "metadata": {},
   "outputs": [],
   "source": []
  }
 ],
 "metadata": {
  "kernelspec": {
   "display_name": "default",
   "language": "python",
   "name": "python3"
  },
  "language_info": {
   "codemirror_mode": {
    "name": "ipython",
    "version": 3
   },
   "file_extension": ".py",
   "mimetype": "text/x-python",
   "name": "python",
   "nbconvert_exporter": "python",
   "pygments_lexer": "ipython3",
   "version": "3.12.7"
  }
 },
 "nbformat": 4,
 "nbformat_minor": 2
}
