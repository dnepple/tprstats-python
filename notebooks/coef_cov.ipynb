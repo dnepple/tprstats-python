{
 "cells": [
  {
   "cell_type": "markdown",
   "metadata": {},
   "source": [
    "# Coefficients and Covariance Matrix"
   ]
  },
  {
   "cell_type": "code",
   "execution_count": 1,
   "metadata": {},
   "outputs": [],
   "source": [
    "import tprstats\n",
    "import pandas as pd\n",
    "import numpy as np\n",
    "coffee_data = pd.read_excel('../data/Coffee_Data.xlsx', engine='openpyxl')\n",
    "diamonds_211 = pd.read_excel('../data/Diamonds_211.xlsx', engine='openpyxl')"
   ]
  },
  {
   "cell_type": "code",
   "execution_count": 2,
   "metadata": {},
   "outputs": [],
   "source": [
    "model_coffee_ts = tprstats.model(name = \"ts\", formula='cons~rpcarb+rpcinc+rpcofe', data=coffee_data)"
   ]
  },
  {
   "cell_type": "code",
   "execution_count": 3,
   "metadata": {},
   "outputs": [],
   "source": [
    "coefs, cov_matrix = model_coffee_ts.coefficients_and_covariance()"
   ]
  },
  {
   "cell_type": "code",
   "execution_count": 4,
   "metadata": {},
   "outputs": [
    {
     "data": {
      "text/plain": [
       "array([-2.21401522,  0.09707592,  0.15896744, -0.00497443])"
      ]
     },
     "execution_count": 4,
     "metadata": {},
     "output_type": "execute_result"
    }
   ],
   "source": [
    "rng = np.random.default_rng()\n",
    "rng.multivariate_normal(coefs, cov_matrix)"
   ]
  },
  {
   "cell_type": "code",
   "execution_count": 5,
   "metadata": {},
   "outputs": [],
   "source": [
    "observations = rng.multivariate_normal(coefs, cov_matrix, 1000000)\n",
    "df = pd.DataFrame(observations)"
   ]
  },
  {
   "cell_type": "code",
   "execution_count": 6,
   "metadata": {},
   "outputs": [
    {
     "name": "stdout",
     "output_type": "stream",
     "text": [
      "[[-0.83406746  0.08919348  0.12371612 -0.00467968]\n",
      " [-0.89248941  0.09261263  0.14387421 -0.0103903 ]\n",
      " [-3.97070508  0.10675129  0.19184905 -0.00678751]\n",
      " ...\n",
      " [-1.34305334  0.09368259  0.16040112 -0.01106054]\n",
      " [ 1.80772986  0.08525099  0.09622069 -0.01931936]\n",
      " [-3.1950004   0.1030692   0.17751374 -0.00941184]]\n"
     ]
    }
   ],
   "source": [
    "print(observations)"
   ]
  },
  {
   "cell_type": "code",
   "execution_count": 7,
   "metadata": {},
   "outputs": [
    {
     "name": "stdout",
     "output_type": "stream",
     "text": [
      "               0         1         2         3\n",
      "0      -0.834067  0.089193  0.123716 -0.004680\n",
      "1      -0.892489  0.092613  0.143874 -0.010390\n",
      "2      -3.970705  0.106751  0.191849 -0.006788\n",
      "3       0.313550  0.089091  0.119028 -0.014925\n",
      "4      -0.944829  0.092605  0.135269 -0.007857\n",
      "...          ...       ...       ...       ...\n",
      "999995  0.783261  0.085544  0.113065 -0.012032\n",
      "999996 -0.118566  0.086518  0.123913 -0.006179\n",
      "999997 -1.343053  0.093683  0.160401 -0.011061\n",
      "999998  1.807730  0.085251  0.096221 -0.019319\n",
      "999999 -3.195000  0.103069  0.177514 -0.009412\n",
      "\n",
      "[1000000 rows x 4 columns]\n"
     ]
    }
   ],
   "source": [
    "print(df)"
   ]
  },
  {
   "cell_type": "code",
   "execution_count": 8,
   "metadata": {},
   "outputs": [
    {
     "data": {
      "text/plain": [
       "0    0.056793\n",
       "1    0.090123\n",
       "2    0.123491\n",
       "3   -0.012580\n",
       "dtype: float64"
      ]
     },
     "execution_count": 8,
     "metadata": {},
     "output_type": "execute_result"
    }
   ],
   "source": [
    "df.mean()"
   ]
  },
  {
   "cell_type": "code",
   "execution_count": 9,
   "metadata": {},
   "outputs": [],
   "source": [
    "df=model_coffee_ts.coefficients_draw()"
   ]
  },
  {
   "cell_type": "code",
   "execution_count": 10,
   "metadata": {},
   "outputs": [
    {
     "data": {
      "text/plain": [
       "Intercept    2.135226\n",
       "rpcarb       0.084521\n",
       "rpcinc       0.086733\n",
       "rpcofe      -0.018034\n",
       "dtype: float64"
      ]
     },
     "execution_count": 10,
     "metadata": {},
     "output_type": "execute_result"
    }
   ],
   "source": [
    "df.mean()"
   ]
  },
  {
   "cell_type": "code",
   "execution_count": null,
   "metadata": {},
   "outputs": [],
   "source": []
  }
 ],
 "metadata": {
  "kernelspec": {
   "display_name": "default",
   "language": "python",
   "name": "python3"
  },
  "language_info": {
   "codemirror_mode": {
    "name": "ipython",
    "version": 3
   },
   "file_extension": ".py",
   "mimetype": "text/x-python",
   "name": "python",
   "nbconvert_exporter": "python",
   "pygments_lexer": "ipython3",
   "version": "3.12.7"
  }
 },
 "nbformat": 4,
 "nbformat_minor": 2
}
