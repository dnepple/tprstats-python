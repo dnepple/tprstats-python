{
 "cells": [
  {
   "cell_type": "markdown",
   "metadata": {},
   "source": [
    "# Coefficients and Covariance Matrix"
   ]
  },
  {
   "cell_type": "code",
   "execution_count": 1,
   "metadata": {},
   "outputs": [],
   "source": [
    "import tprstats\n",
    "import pandas as pd\n",
    "import numpy as np\n",
    "coffee_data = pd.read_excel('../data/Coffee_Data.xlsx', engine='openpyxl')\n",
    "diamonds_211 = pd.read_excel('../data/Diamonds_211.xlsx', engine='openpyxl')"
   ]
  },
  {
   "cell_type": "code",
   "execution_count": 2,
   "metadata": {},
   "outputs": [],
   "source": [
    "model_coffee_ts = tprstats.model(name = \"ts\", formula='cons~rpcarb+rpcinc+rpcofe', data=coffee_data)"
   ]
  },
  {
   "cell_type": "code",
   "execution_count": 3,
   "metadata": {},
   "outputs": [
    {
     "name": "stdout",
     "output_type": "stream",
     "text": [
      "                 coefs  Intercept    rpcarb    rpcinc    rpcofe\n",
      "0  Intercept  0.057574   2.882735 -0.011149 -0.048890 -0.005034\n",
      "1     rpcarb  0.090120  -0.011149  0.000049  0.000197  0.000012\n",
      "2     rpcinc  0.123477  -0.048890  0.000197  0.000885  0.000062\n",
      "3     rpcofe -0.012582  -0.005034  0.000012  0.000062  0.000024\n"
     ]
    }
   ],
   "source": [
    "coefs, cov_matrix = model_coffee_ts.get_coefficients_and_covariance()"
   ]
  },
  {
   "cell_type": "code",
   "execution_count": 4,
   "metadata": {},
   "outputs": [
    {
     "data": {
      "text/plain": [
       "array([-3.21589218,  0.10698517,  0.19529052, -0.01608342])"
      ]
     },
     "execution_count": 4,
     "metadata": {},
     "output_type": "execute_result"
    }
   ],
   "source": [
    "rng = np.random.default_rng()\n",
    "rng.multivariate_normal(coefs, cov_matrix)"
   ]
  },
  {
   "cell_type": "code",
   "execution_count": 5,
   "metadata": {},
   "outputs": [],
   "source": [
    "observations = rng.multivariate_normal(coefs, cov_matrix, 1000000)\n",
    "df = pd.DataFrame(observations)"
   ]
  },
  {
   "cell_type": "code",
   "execution_count": 6,
   "metadata": {},
   "outputs": [
    {
     "name": "stdout",
     "output_type": "stream",
     "text": [
      "[[ 3.69674014e+00  7.53247745e-02  6.35322671e-02 -1.88091634e-02]\n",
      " [-1.85589805e+00  9.71912992e-02  1.49288457e-01 -7.36916732e-03]\n",
      " [-2.15604577e-02  9.33711081e-02  1.24204990e-01 -1.50329338e-02]\n",
      " ...\n",
      " [ 2.64180156e+00  8.23955322e-02  8.28062135e-02 -1.88145446e-02]\n",
      " [ 3.36388532e-01  8.60685979e-02  1.10490247e-01 -6.96721959e-03]\n",
      " [-2.15699060e+00  9.50459985e-02  1.56408801e-01 -3.14704822e-03]]\n"
     ]
    }
   ],
   "source": [
    "print(observations)"
   ]
  },
  {
   "cell_type": "code",
   "execution_count": null,
   "metadata": {},
   "outputs": [
    {
     "name": "stdout",
     "output_type": "stream",
     "text": [
      "               0         1         2         3\n",
      "0       3.696740  0.075325  0.063532 -0.018809\n",
      "1      -1.855898  0.097191  0.149288 -0.007369\n",
      "2      -0.021560  0.093371  0.124205 -0.015033\n",
      "3       1.292850  0.086688  0.106415 -0.017610\n",
      "4      -0.013957  0.088730  0.116880 -0.007937\n",
      "...          ...       ...       ...       ...\n",
      "999995  0.261648  0.084980  0.122833 -0.008981\n",
      "999996  3.687927  0.076488  0.056434 -0.017738\n",
      "999997  2.641802  0.082396  0.082806 -0.018815\n",
      "999998  0.336389  0.086069  0.110490 -0.006967\n",
      "999999 -2.156991  0.095046  0.156409 -0.003147\n",
      "\n",
      "[1000000 rows x 4 columns]\n"
     ]
    }
   ],
   "source": [
    "print(df)"
   ]
  },
  {
   "cell_type": "code",
   "execution_count": 8,
   "metadata": {},
   "outputs": [
    {
     "data": {
      "text/plain": [
       "0    0.053709\n",
       "1    0.090134\n",
       "2    0.123547\n",
       "3   -0.012574\n",
       "dtype: float64"
      ]
     },
     "execution_count": 8,
     "metadata": {},
     "output_type": "execute_result"
    }
   ],
   "source": [
    "df.mean()"
   ]
  },
  {
   "cell_type": "code",
   "execution_count": null,
   "metadata": {},
   "outputs": [],
   "source": []
  }
 ],
 "metadata": {
  "kernelspec": {
   "display_name": "default",
   "language": "python",
   "name": "python3"
  },
  "language_info": {
   "codemirror_mode": {
    "name": "ipython",
    "version": 3
   },
   "file_extension": ".py",
   "mimetype": "text/x-python",
   "name": "python",
   "nbconvert_exporter": "python",
   "pygments_lexer": "ipython3",
   "version": "3.12.7"
  }
 },
 "nbformat": 4,
 "nbformat_minor": 2
}
