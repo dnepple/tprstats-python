{
 "cells": [
  {
   "cell_type": "markdown",
   "metadata": {},
   "source": [
    "# Testing the Wald Test\n",
    "What to do about wald tests from binary choice models?\n",
    "\n",
    "`statsmodels.discrete.discrete_model.BinaryResults.wald_test`\n",
    "The results output from a wald test can be a bit confusing. How can we make it better?\n",
    "\n",
    "Looks like there might be a summary method that works on wald_tests as in\n",
    "`wald_test().summary()"
   ]
  },
  {
   "cell_type": "code",
   "execution_count": null,
   "metadata": {},
   "outputs": [],
   "source": [
    "import tprstats\n",
    "\n"
   ]
  }
 ],
 "metadata": {
  "language_info": {
   "name": "python"
  }
 },
 "nbformat": 4,
 "nbformat_minor": 2
}
