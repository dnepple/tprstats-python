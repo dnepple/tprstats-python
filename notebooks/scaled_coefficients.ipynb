{
 "cells": [
  {
   "cell_type": "markdown",
   "metadata": {},
   "source": [
    "# Scaled Coefficients"
   ]
  },
  {
   "cell_type": "code",
   "execution_count": 1,
   "metadata": {},
   "outputs": [],
   "source": [
    "import tprstats\n",
    "import pandas as pd\n",
    "import numpy as np\n",
    "import statsmodels.api as sm\n",
    "import scipy.stats as stats\n",
    "import statsmodels.formula.api as smf\n",
    "import matplotlib.pyplot as plt\n",
    "coffee_data = pd.read_excel('../data/Coffee_Data.xlsx', engine='openpyxl')\n",
    "diamonds_211 = pd.read_excel('../data/Diamonds_211.xlsx', engine='openpyxl')\n",
    "diamonds_e_100= pd.read_excel('../data/Diamond_E_100.xlsx', engine='openpyxl')\n",
    "solar_data = pd.read_excel('../data/Solar_Data.xlsx', engine='openpyxl')\n",
    "solar_new_prospects = pd.read_excel('../data/Solar_New_Prospects.xlsx', engine='openpyxl')"
   ]
  },
  {
   "cell_type": "code",
   "execution_count": 2,
   "metadata": {},
   "outputs": [
    {
     "data": {
      "text/html": [
       "<div>\n",
       "<style scoped>\n",
       "    .dataframe tbody tr th:only-of-type {\n",
       "        vertical-align: middle;\n",
       "    }\n",
       "\n",
       "    .dataframe tbody tr th {\n",
       "        vertical-align: top;\n",
       "    }\n",
       "\n",
       "    .dataframe thead th {\n",
       "        text-align: right;\n",
       "    }\n",
       "</style>\n",
       "<table border=\"1\" class=\"dataframe\">\n",
       "  <thead>\n",
       "    <tr style=\"text-align: right;\">\n",
       "      <th></th>\n",
       "      <th>year</th>\n",
       "      <th>cons</th>\n",
       "      <th>rpcarb</th>\n",
       "      <th>rpcinc</th>\n",
       "      <th>rpcofe</th>\n",
       "    </tr>\n",
       "  </thead>\n",
       "  <tbody>\n",
       "    <tr>\n",
       "      <th>0</th>\n",
       "      <td>1955</td>\n",
       "      <td>15.4</td>\n",
       "      <td>175.189160</td>\n",
       "      <td>11.099841</td>\n",
       "      <td>127.357610</td>\n",
       "    </tr>\n",
       "    <tr>\n",
       "      <th>1</th>\n",
       "      <td>1956</td>\n",
       "      <td>15.9</td>\n",
       "      <td>172.559679</td>\n",
       "      <td>11.427008</td>\n",
       "      <td>133.171467</td>\n",
       "    </tr>\n",
       "    <tr>\n",
       "      <th>2</th>\n",
       "      <td>1957</td>\n",
       "      <td>15.6</td>\n",
       "      <td>167.203645</td>\n",
       "      <td>11.501425</td>\n",
       "      <td>126.014524</td>\n",
       "    </tr>\n",
       "    <tr>\n",
       "      <th>3</th>\n",
       "      <td>1958</td>\n",
       "      <td>15.5</td>\n",
       "      <td>162.765431</td>\n",
       "      <td>11.416743</td>\n",
       "      <td>108.808649</td>\n",
       "    </tr>\n",
       "    <tr>\n",
       "      <th>4</th>\n",
       "      <td>1959</td>\n",
       "      <td>16.0</td>\n",
       "      <td>167.058340</td>\n",
       "      <td>11.811000</td>\n",
       "      <td>90.222985</td>\n",
       "    </tr>\n",
       "    <tr>\n",
       "      <th>...</th>\n",
       "      <td>...</td>\n",
       "      <td>...</td>\n",
       "      <td>...</td>\n",
       "      <td>...</td>\n",
       "      <td>...</td>\n",
       "    </tr>\n",
       "    <tr>\n",
       "      <th>56</th>\n",
       "      <td>2011</td>\n",
       "      <td>9.6</td>\n",
       "      <td>70.584321</td>\n",
       "      <td>36.298750</td>\n",
       "      <td>95.058586</td>\n",
       "    </tr>\n",
       "    <tr>\n",
       "      <th>57</th>\n",
       "      <td>2012</td>\n",
       "      <td>9.7</td>\n",
       "      <td>70.106035</td>\n",
       "      <td>37.163583</td>\n",
       "      <td>94.706816</td>\n",
       "    </tr>\n",
       "    <tr>\n",
       "      <th>58</th>\n",
       "      <td>2013</td>\n",
       "      <td>9.9</td>\n",
       "      <td>69.480075</td>\n",
       "      <td>36.373750</td>\n",
       "      <td>87.875659</td>\n",
       "    </tr>\n",
       "    <tr>\n",
       "      <th>59</th>\n",
       "      <td>2014</td>\n",
       "      <td>10.0</td>\n",
       "      <td>68.182719</td>\n",
       "      <td>37.076750</td>\n",
       "      <td>84.898016</td>\n",
       "    </tr>\n",
       "    <tr>\n",
       "      <th>60</th>\n",
       "      <td>2015</td>\n",
       "      <td>10.2</td>\n",
       "      <td>66.952217</td>\n",
       "      <td>38.095417</td>\n",
       "      <td>86.719588</td>\n",
       "    </tr>\n",
       "  </tbody>\n",
       "</table>\n",
       "<p>61 rows × 5 columns</p>\n",
       "</div>"
      ],
      "text/plain": [
       "    year  cons      rpcarb     rpcinc      rpcofe\n",
       "0   1955  15.4  175.189160  11.099841  127.357610\n",
       "1   1956  15.9  172.559679  11.427008  133.171467\n",
       "2   1957  15.6  167.203645  11.501425  126.014524\n",
       "3   1958  15.5  162.765431  11.416743  108.808649\n",
       "4   1959  16.0  167.058340  11.811000   90.222985\n",
       "..   ...   ...         ...        ...         ...\n",
       "56  2011   9.6   70.584321  36.298750   95.058586\n",
       "57  2012   9.7   70.106035  37.163583   94.706816\n",
       "58  2013   9.9   69.480075  36.373750   87.875659\n",
       "59  2014  10.0   68.182719  37.076750   84.898016\n",
       "60  2015  10.2   66.952217  38.095417   86.719588\n",
       "\n",
       "[61 rows x 5 columns]"
      ]
     },
     "execution_count": 2,
     "metadata": {},
     "output_type": "execute_result"
    }
   ],
   "source": [
    "coffee_data"
   ]
  },
  {
   "cell_type": "code",
   "execution_count": 3,
   "metadata": {},
   "outputs": [],
   "source": [
    "model_coffee = tprstats.model(\"cs\", 'cons ~ rpcofe + rpcarb + rpcinc', coffee_data)"
   ]
  },
  {
   "cell_type": "code",
   "execution_count": 4,
   "metadata": {},
   "outputs": [
    {
     "data": {
      "text/html": [
       "<table class=\"simpletable\">\n",
       "<caption>OLS Regression Results</caption>\n",
       "<tr>\n",
       "  <th>Dep. Variable:</th>     <td>cons</td>  <th>  R-squared:         </th> <td>   0.956</td>\n",
       "</tr>\n",
       "<tr>\n",
       "  <th>Model:</th>              <td>OLS</td>  <th>  Adj. R-squared:    </th> <td>   0.953</td>\n",
       "</tr>\n",
       "<tr>\n",
       "  <th>No. Observations:</th> <td>    61</td> <th>  F-statistic:       </th> <td>   459.6</td>\n",
       "</tr>\n",
       "<tr>\n",
       "  <th>Covariance Type:</th>    <td>HC1</td>  <th>  Prob (F-statistic):</th> <td>6.96e-40</td>\n",
       "</tr>\n",
       "</table>\n",
       "<table class=\"simpletable\">\n",
       "<tr>\n",
       "      <td></td>         <th>coef</th>     <th>std err</th>      <th>z</th>      <th>P>|z|</th>  <th>[0.025</th>    <th>0.975]</th>  \n",
       "</tr>\n",
       "<tr>\n",
       "  <th>Intercept</th> <td>    0.0576</td> <td>    1.505</td> <td>    0.038</td> <td> 0.969</td> <td>   -2.891</td> <td>    3.007</td>\n",
       "</tr>\n",
       "<tr>\n",
       "  <th>rpcofe</th>    <td>   -0.0126</td> <td>    0.005</td> <td>   -2.383</td> <td> 0.017</td> <td>   -0.023</td> <td>   -0.002</td>\n",
       "</tr>\n",
       "<tr>\n",
       "  <th>rpcarb</th>    <td>    0.0901</td> <td>    0.006</td> <td>   15.622</td> <td> 0.000</td> <td>    0.079</td> <td>    0.101</td>\n",
       "</tr>\n",
       "<tr>\n",
       "  <th>rpcinc</th>    <td>    0.1235</td> <td>    0.025</td> <td>    4.910</td> <td> 0.000</td> <td>    0.074</td> <td>    0.173</td>\n",
       "</tr>\n",
       "</table><br/><br/>Notes:<br/>[1] Standard Errors are heteroscedasticity robust (HC1)<br/>[2] The condition number is large, 3.02e+03. This might indicate that there are<br/>strong multicollinearity or other numerical problems."
      ],
      "text/latex": [
       "\\begin{center}\n",
       "\\begin{tabular}{lclc}\n",
       "\\toprule\n",
       "\\textbf{Dep. Variable:}    &      cons     & \\textbf{  R-squared:         } &     0.956   \\\\\n",
       "\\textbf{Model:}            &      OLS      & \\textbf{  Adj. R-squared:    } &     0.953   \\\\\n",
       "\\textbf{No. Observations:} &         61    & \\textbf{  F-statistic:       } &     459.6   \\\\\n",
       "\\textbf{Covariance Type:}  &      HC1      & \\textbf{  Prob (F-statistic):} &  6.96e-40   \\\\\n",
       "\\bottomrule\n",
       "\\end{tabular}\n",
       "\\begin{tabular}{lcccccc}\n",
       "                   & \\textbf{coef} & \\textbf{std err} & \\textbf{z} & \\textbf{P$> |$z$|$} & \\textbf{[0.025} & \\textbf{0.975]}  \\\\\n",
       "\\midrule\n",
       "\\textbf{Intercept} &       0.0576  &        1.505     &     0.038  &         0.969        &       -2.891    &        3.007     \\\\\n",
       "\\textbf{rpcofe}    &      -0.0126  &        0.005     &    -2.383  &         0.017        &       -0.023    &       -0.002     \\\\\n",
       "\\textbf{rpcarb}    &       0.0901  &        0.006     &    15.622  &         0.000        &        0.079    &        0.101     \\\\\n",
       "\\textbf{rpcinc}    &       0.1235  &        0.025     &     4.910  &         0.000        &        0.074    &        0.173     \\\\\n",
       "\\bottomrule\n",
       "\\end{tabular}\n",
       "%\\caption{OLS Regression Results}\n",
       "\\end{center}\n",
       "\n",
       "Notes: \\newline\n",
       " [1] Standard Errors are heteroscedasticity robust (HC1) \\newline\n",
       " [2] The condition number is large, 3.02e+03. This might indicate that there are \\newline\n",
       " strong multicollinearity or other numerical problems."
      ],
      "text/plain": [
       "<class 'statsmodels.iolib.summary.Summary'>\n",
       "\"\"\"\n",
       "                            OLS Regression Results                            \n",
       "==============================================================================\n",
       "Dep. Variable:                   cons   R-squared:                       0.956\n",
       "Model:                            OLS   Adj. R-squared:                  0.953\n",
       "No. Observations:                  61   F-statistic:                     459.6\n",
       "Covariance Type:                  HC1   Prob (F-statistic):           6.96e-40\n",
       "==============================================================================\n",
       "                 coef    std err          z      P>|z|      [0.025      0.975]\n",
       "------------------------------------------------------------------------------\n",
       "Intercept      0.0576      1.505      0.038      0.969      -2.891       3.007\n",
       "rpcofe        -0.0126      0.005     -2.383      0.017      -0.023      -0.002\n",
       "rpcarb         0.0901      0.006     15.622      0.000       0.079       0.101\n",
       "rpcinc         0.1235      0.025      4.910      0.000       0.074       0.173\n",
       "==============================================================================\n",
       "\n",
       "Notes:\n",
       "[1] Standard Errors are heteroscedasticity robust (HC1)\n",
       "[2] The condition number is large, 3.02e+03. This might indicate that there are\n",
       "strong multicollinearity or other numerical problems.\n",
       "\"\"\""
      ]
     },
     "execution_count": 4,
     "metadata": {},
     "output_type": "execute_result"
    }
   ],
   "source": [
    "model_coffee.summary()"
   ]
  },
  {
   "cell_type": "code",
   "execution_count": 5,
   "metadata": {},
   "outputs": [
    {
     "data": {
      "text/html": [
       "<div>\n",
       "<style scoped>\n",
       "    .dataframe tbody tr th:only-of-type {\n",
       "        vertical-align: middle;\n",
       "    }\n",
       "\n",
       "    .dataframe tbody tr th {\n",
       "        vertical-align: top;\n",
       "    }\n",
       "\n",
       "    .dataframe thead th {\n",
       "        text-align: right;\n",
       "    }\n",
       "</style>\n",
       "<table border=\"1\" class=\"dataframe\">\n",
       "  <thead>\n",
       "    <tr style=\"text-align: right;\">\n",
       "      <th></th>\n",
       "      <th>coefs</th>\n",
       "      <th>std_coefs</th>\n",
       "      <th>elasticities</th>\n",
       "    </tr>\n",
       "  </thead>\n",
       "  <tbody>\n",
       "    <tr>\n",
       "      <th>rpcofe</th>\n",
       "      <td>-0.012582</td>\n",
       "      <td>-0.116004</td>\n",
       "      <td>-0.1065</td>\n",
       "    </tr>\n",
       "    <tr>\n",
       "      <th>rpcarb</th>\n",
       "      <td>0.090120</td>\n",
       "      <td>1.356548</td>\n",
       "      <td>0.8475</td>\n",
       "    </tr>\n",
       "    <tr>\n",
       "      <th>rpcinc</th>\n",
       "      <td>0.123477</td>\n",
       "      <td>0.412841</td>\n",
       "      <td>0.2540</td>\n",
       "    </tr>\n",
       "  </tbody>\n",
       "</table>\n",
       "</div>"
      ],
      "text/plain": [
       "           coefs  std_coefs  elasticities\n",
       "rpcofe -0.012582  -0.116004       -0.1065\n",
       "rpcarb  0.090120   1.356548        0.8475\n",
       "rpcinc  0.123477   0.412841        0.2540"
      ]
     },
     "execution_count": 5,
     "metadata": {},
     "output_type": "execute_result"
    }
   ],
   "source": [
    "model_coffee.scaled_coefficients()"
   ]
  },
  {
   "cell_type": "code",
   "execution_count": 6,
   "metadata": {},
   "outputs": [],
   "source": [
    "model_diamonds = tprstats.model(\"cs\", 'Price ~ Carat + C(Cut)', diamonds_e_100)"
   ]
  },
  {
   "cell_type": "code",
   "execution_count": 7,
   "metadata": {},
   "outputs": [
    {
     "data": {
      "text/html": [
       "<table class=\"simpletable\">\n",
       "<caption>OLS Regression Results</caption>\n",
       "<tr>\n",
       "  <th>Dep. Variable:</th>     <td>Price</td> <th>  R-squared:         </th> <td>   0.919</td>\n",
       "</tr>\n",
       "<tr>\n",
       "  <th>Model:</th>              <td>OLS</td>  <th>  Adj. R-squared:    </th> <td>   0.916</td>\n",
       "</tr>\n",
       "<tr>\n",
       "  <th>No. Observations:</th> <td>   100</td> <th>  F-statistic:       </th> <td>   138.9</td>\n",
       "</tr>\n",
       "<tr>\n",
       "  <th>Covariance Type:</th>    <td>HC1</td>  <th>  Prob (F-statistic):</th> <td>8.49e-35</td>\n",
       "</tr>\n",
       "</table>\n",
       "<table class=\"simpletable\">\n",
       "<tr>\n",
       "       <td></td>          <th>coef</th>     <th>std err</th>      <th>z</th>      <th>P>|z|</th>  <th>[0.025</th>    <th>0.975]</th>  \n",
       "</tr>\n",
       "<tr>\n",
       "  <th>Intercept</th>   <td>-4948.2579</td> <td>  702.464</td> <td>   -7.044</td> <td> 0.000</td> <td>-6325.062</td> <td>-3571.454</td>\n",
       "</tr>\n",
       "<tr>\n",
       "  <th>C(Cut)[T.2]</th> <td>    6.5535</td> <td>  554.253</td> <td>    0.012</td> <td> 0.991</td> <td>-1079.762</td> <td> 1092.869</td>\n",
       "</tr>\n",
       "<tr>\n",
       "  <th>C(Cut)[T.3]</th> <td>  361.8990</td> <td>  420.694</td> <td>    0.860</td> <td> 0.390</td> <td> -462.647</td> <td> 1186.445</td>\n",
       "</tr>\n",
       "<tr>\n",
       "  <th>Carat</th>       <td> 1.142e+04</td> <td>  583.752</td> <td>   19.558</td> <td> 0.000</td> <td> 1.03e+04</td> <td> 1.26e+04</td>\n",
       "</tr>\n",
       "</table><br/><br/>Notes:<br/>[1] Standard Errors are heteroscedasticity robust (HC1)"
      ],
      "text/latex": [
       "\\begin{center}\n",
       "\\begin{tabular}{lclc}\n",
       "\\toprule\n",
       "\\textbf{Dep. Variable:}    &     Price     & \\textbf{  R-squared:         } &     0.919   \\\\\n",
       "\\textbf{Model:}            &      OLS      & \\textbf{  Adj. R-squared:    } &     0.916   \\\\\n",
       "\\textbf{No. Observations:} &        100    & \\textbf{  F-statistic:       } &     138.9   \\\\\n",
       "\\textbf{Covariance Type:}  &      HC1      & \\textbf{  Prob (F-statistic):} &  8.49e-35   \\\\\n",
       "\\bottomrule\n",
       "\\end{tabular}\n",
       "\\begin{tabular}{lcccccc}\n",
       "                     & \\textbf{coef} & \\textbf{std err} & \\textbf{z} & \\textbf{P$> |$z$|$} & \\textbf{[0.025} & \\textbf{0.975]}  \\\\\n",
       "\\midrule\n",
       "\\textbf{Intercept}   &   -4948.2579  &      702.464     &    -7.044  &         0.000        &    -6325.062    &    -3571.454     \\\\\n",
       "\\textbf{C(Cut)[T.2]} &       6.5535  &      554.253     &     0.012  &         0.991        &    -1079.762    &     1092.869     \\\\\n",
       "\\textbf{C(Cut)[T.3]} &     361.8990  &      420.694     &     0.860  &         0.390        &     -462.647    &     1186.445     \\\\\n",
       "\\textbf{Carat}       &    1.142e+04  &      583.752     &    19.558  &         0.000        &     1.03e+04    &     1.26e+04     \\\\\n",
       "\\bottomrule\n",
       "\\end{tabular}\n",
       "%\\caption{OLS Regression Results}\n",
       "\\end{center}\n",
       "\n",
       "Notes: \\newline\n",
       " [1] Standard Errors are heteroscedasticity robust (HC1)"
      ],
      "text/plain": [
       "<class 'statsmodels.iolib.summary.Summary'>\n",
       "\"\"\"\n",
       "                            OLS Regression Results                            \n",
       "==============================================================================\n",
       "Dep. Variable:                  Price   R-squared:                       0.919\n",
       "Model:                            OLS   Adj. R-squared:                  0.916\n",
       "No. Observations:                 100   F-statistic:                     138.9\n",
       "Covariance Type:                  HC1   Prob (F-statistic):           8.49e-35\n",
       "===============================================================================\n",
       "                  coef    std err          z      P>|z|      [0.025      0.975]\n",
       "-------------------------------------------------------------------------------\n",
       "Intercept   -4948.2579    702.464     -7.044      0.000   -6325.062   -3571.454\n",
       "C(Cut)[T.2]     6.5535    554.253      0.012      0.991   -1079.762    1092.869\n",
       "C(Cut)[T.3]   361.8990    420.694      0.860      0.390    -462.647    1186.445\n",
       "Carat        1.142e+04    583.752     19.558      0.000    1.03e+04    1.26e+04\n",
       "===============================================================================\n",
       "\n",
       "Notes:\n",
       "[1] Standard Errors are heteroscedasticity robust (HC1)\n",
       "\"\"\""
      ]
     },
     "execution_count": 7,
     "metadata": {},
     "output_type": "execute_result"
    }
   ],
   "source": [
    "model_diamonds.summary()"
   ]
  },
  {
   "cell_type": "code",
   "execution_count": 8,
   "metadata": {},
   "outputs": [
    {
     "data": {
      "text/plain": [
       "C(Cut)[T.2]    0.0003\n",
       "C(Cut)[T.3]    0.0151\n",
       "Carat          1.5576\n",
       "dtype: float64"
      ]
     },
     "execution_count": 8,
     "metadata": {},
     "output_type": "execute_result"
    }
   ],
   "source": [
    "model_diamonds.elasticities()"
   ]
  },
  {
   "cell_type": "code",
   "execution_count": 9,
   "metadata": {},
   "outputs": [
    {
     "data": {
      "text/plain": [
       "C(Cut)[T.-0.1280368799328961]    0.001068\n",
       "C(Cut)[T.1.152331919396064]      0.058952\n",
       "Carat                            0.966408\n",
       "dtype: float64"
      ]
     },
     "execution_count": 9,
     "metadata": {},
     "output_type": "execute_result"
    }
   ],
   "source": [
    "model_diamonds.standardized_coefficients()"
   ]
  },
  {
   "cell_type": "code",
   "execution_count": null,
   "metadata": {},
   "outputs": [],
   "source": []
  }
 ],
 "metadata": {
  "language_info": {
   "name": "python"
  }
 },
 "nbformat": 4,
 "nbformat_minor": 2
}
